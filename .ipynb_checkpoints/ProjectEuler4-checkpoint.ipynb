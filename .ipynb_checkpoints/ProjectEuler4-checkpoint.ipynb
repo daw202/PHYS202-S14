{
 "metadata": {
  "name": "",
  "signature": "sha256:e540d0e21be664faa235f4118eaafca3ca41d1a66a280e67ed63b0c0948b9651"
 },
 "nbformat": 3,
 "nbformat_minor": 0,
 "worksheets": [
  {
   "cells": [
    {
     "cell_type": "heading",
     "level": 1,
     "metadata": {},
     "source": [
      "Coin Sums"
     ]
    },
    {
     "cell_type": "heading",
     "level": 3,
     "metadata": {},
     "source": [
      "Problem 31"
     ]
    },
    {
     "cell_type": "markdown",
     "metadata": {},
     "source": [
      "In England the currency is made up of pound, \u00a3, and pence, p, and there are eight coins in general circulation:\n",
      "\n",
      "1p, 2p, 5p, 10p, 20p, 50p, \u00a31 (100p) and \u00a32 (200p).\n",
      "It is possible to make \u00a32 in the following way:\n",
      "\n",
      "1\u00d7\u00a31 + 1\u00d750p + 2\u00d720p + 1\u00d75p + 1\u00d72p + 3\u00d71p\n",
      "How many different ways can \u00a32 be made using any number of coins?"
     ]
    },
    {
     "cell_type": "code",
     "collapsed": false,
     "input": [
      "import numpy as np\n",
      "\n",
      "def coin_sum(value):\n",
      "    \"\"\"Takes a value in pounds...\"\"\"\n",
      "    #Translates value into pence\n",
      "    value = value * 100\n",
      "    #Creates an array of coin values\n",
      "    coin_values = np.array([200, 100, 50, 20, 10, 5, 2, 1])\n",
      "    #Creates an array which will model the number of coins of each\n",
      "    #denomination for each test\n",
      "    test_array = np.array([0, 0, 0, 0, 0, 0, 0, 0])\n",
      "    #Creates an array of max values possible for each denomination of coin\n",
      "    #based on value\n",
      "    max_values = 200 / coin_values\n",
      "    #Initializes count to zero\n",
      "    count = 0\n",
      "    \n",
      "    for a in reversed(np.array(range(max_values[0]))):\n",
      "        test_array = np.array([a, 0, 0, 0, 0, 0, 0])\n",
      "        if np.sum(test_array*coin_values) == value:\n",
      "            count += 1\n",
      "            break\n",
      "        for b in range(max_values[1]):\n",
      "            test_array = np.array([a, b, 0, 0, 0, 0, 0])\n",
      "            if np.sum(test_array*coin_values) == value:\n",
      "                count += 1\n",
      "                break\n",
      "            for c in range(max_values[2]):\n",
      "                test_array = np.array([a, b, c, 0, 0, 0, 0])\n",
      "                if np.sum(test_array*coin_values) == value:\n",
      "                    count += 1\n",
      "                    break\n",
      "                for d in range(max_values[3]):\n",
      "                    test_array = np.array([a, b, c, d, 0, 0, 0])\n",
      "                    if np.sum(test_array*coin_values) == value:\n",
      "                        count += 1\n",
      "                        break\n",
      "                    for e in range(max_values[4]):\n",
      "                        test_array = np.array([a, b, c, d, e, 0, 0])\n",
      "                        if np.sum(test_array*coin_values) == value:\n",
      "                            count += 1\n",
      "                            break\n",
      "                        for f in range(max_values[5]):\n",
      "                            test_array = np.array([a, b, c, d, e, f, 0])\n",
      "                            if np.sum(test_array*coin_values) == value:\n",
      "                                count += 1\n",
      "                                break\n",
      "                            for g in range(max_values[6]):\n",
      "                                test_array = np.array([a, b, c, d, e, f, g])\n",
      "                                if np.sum(test_array*coin_values) == value:\n",
      "                                    count += 1\n",
      "                                    break\n"
     ],
     "language": "python",
     "metadata": {},
     "outputs": [],
     "prompt_number": 1
    },
    {
     "cell_type": "code",
     "collapsed": false,
     "input": [
      "coin_sum(2)"
     ],
     "language": "python",
     "metadata": {},
     "outputs": []
    },
    {
     "cell_type": "code",
     "collapsed": false,
     "input": [
      "target  = 200;\n",
      "ways = 0;\n",
      " \n",
      "for a in range(200, -1, -200):\n",
      "    for b in range(a, -1, -100):\n",
      "        for c in range(b, -1, -50):\n",
      "            for d in range(c, -1, -20):\n",
      "                for e in range(d, -1, -10):\n",
      "                    for f in range(e, -1, -5):\n",
      "                        for g in range(f, -1, -2):\n",
      "                            ways+=1\n",
      "print ways"
     ],
     "language": "python",
     "metadata": {},
     "outputs": [
      {
       "output_type": "stream",
       "stream": "stdout",
       "text": [
        "73682\n"
       ]
      }
     ],
     "prompt_number": 6
    },
    {
     "cell_type": "code",
     "collapsed": false,
     "input": [],
     "language": "python",
     "metadata": {},
     "outputs": []
    }
   ],
   "metadata": {}
  }
 ]
}