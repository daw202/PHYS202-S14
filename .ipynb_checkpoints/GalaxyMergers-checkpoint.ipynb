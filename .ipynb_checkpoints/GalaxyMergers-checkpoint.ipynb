{
 "metadata": {
  "name": "",
  "signature": "sha256:90472ee62fa9f633de2bf22c6b0643f08fbb56a00b3a8be5885ded4071068fb7"
 },
 "nbformat": 3,
 "nbformat_minor": 0,
 "worksheets": [
  {
   "cells": [
    {
     "cell_type": "heading",
     "level": 1,
     "metadata": {},
     "source": [
      "Galaxy Mergers"
     ]
    },
    {
     "cell_type": "code",
     "collapsed": false,
     "input": [
      "#imports\n",
      "#%pylab inline could be replaced with importing numpy and matplotlib if desired\n",
      "%pylab inline\n",
      "from scipy.integrate import odeint\n",
      "from IPython.html.widgets import interact, interactive"
     ],
     "language": "python",
     "metadata": {},
     "outputs": [
      {
       "output_type": "stream",
       "stream": "stdout",
       "text": [
        "Populating the interactive namespace from numpy and matplotlib\n"
       ]
      }
     ],
     "prompt_number": 1
    },
    {
     "cell_type": "code",
     "collapsed": false,
     "input": [
      "#constants -- These will all be used throughout the program in a variety of cases, \n",
      "#and ultimately it was easiest to just define them globally\n",
      "\n",
      "G = 4.499553709e-8 #kpc^3 * solar mass^-1 * (10^8 years)^-2\n",
      "M = 10.**11 / 3. #solar masses\n",
      "S = 10.**11 #solar masses\n",
      "#S = 0. #uncomment to see how points behave without a passing galaxy\n",
      "step = .1 #10^8 years"
     ],
     "language": "python",
     "metadata": {},
     "outputs": [],
     "prompt_number": 2
    },
    {
     "cell_type": "code",
     "collapsed": false,
     "input": [
      "def doublederiv(arrayOfVectors, t):\n",
      "    '''\n",
      "    arrayOfVectors is in form [Rx, Ry, Vx, Vy, rx, ry, vx, vy] where\n",
      "    <Rx, Ry> is the radius vector from M to S\n",
      "    <Vx, Vy> is the velocity vector of M\n",
      "    <rx, ry> is the radius vector from M to a point\n",
      "    <vx, vy> is velocity vector of that point\n",
      "    '''\n",
      "    Rx = arrayOfVectors[0]\n",
      "    Ry = arrayOfVectors[1]\n",
      "    Vx = arrayOfVectors[2]\n",
      "    Vy = arrayOfVectors[3]\n",
      "    \n",
      "    bigRadius = np.sqrt(Rx**2 + Ry**2)\n",
      "    eqBigRx = -G * (M+S) * Rx / bigRadius**3\n",
      "    eqBigRy = -G * (M+S) * Ry / bigRadius**3\n",
      "    \n",
      "    rx = arrayOfVectors[4]\n",
      "    ry = arrayOfVectors[5]\n",
      "    vx = arrayOfVectors[6]\n",
      "    vy = arrayOfVectors[7]\n",
      "    radius = np.sqrt(rx**2 + ry**2)\n",
      "    \n",
      "    eqLittlerx = -G * (M * rx / radius**3 + S * (Rx - rx) / (bigRadius - radius)**3 + S * Rx / bigRadius**3)\n",
      "    eqLittlery = -G * (M * ry / radius**3 + S * (Ry - ry) / (bigRadius - radius)**3 + S * Ry / bigRadius**3)\n",
      "    \n",
      "    return np.array([Vx, Vy, eqBigRx, eqBigRy, vx, vy, eqLittlerx, eqLittlery])\n"
     ],
     "language": "python",
     "metadata": {},
     "outputs": [],
     "prompt_number": 3
    },
    {
     "cell_type": "code",
     "collapsed": false,
     "input": [
      "def makePointsElliptical(rings = 5, pointsInRings = [12, 18, 24, 30, 36], \n",
      "                         assumedRmin = 25, spacing = 'normal', e_ratio_long2short = 1.):\n",
      "    '''\n",
      "    Takes in the number of rings, the number of points in each of the rings as a list,\n",
      "    an assumedRmin to calculate the radii of the points, a keyword 'normal' or 'small'\n",
      "    which picks what percents of assumedRmin the radii will be, and e_ratio_long2short\n",
      "    which is the ratio of the major axis to the ratio of the smaller one of the ellipse\n",
      "    (for a circle this is 1., for my specific test case this is 4.)\n",
      "    '''\n",
      "    pointRingLocations = []\n",
      "    for i in range(rings):\n",
      "        pointRingLocations.append([])\n",
      "        radiansPerPoint = 2 * pi / pointsInRings[i]\n",
      "        if spacing == 'normal':\n",
      "            radiusPercent = (20. + 10. * i) / 100.\n",
      "        if spacing == 'small':\n",
      "            radiusPercent = (12. + 6. * i) / 100.\n",
      "        for j in range(pointsInRings[i]):\n",
      "            radians = j * radiansPerPoint\n",
      "            a = np.sqrt(e_ratio_long2short) * radiusPercent * assumedRmin\n",
      "            x = a * np.cos(radians)\n",
      "            b = 1. / np.sqrt(e_ratio_long2short) * radiusPercent * assumedRmin\n",
      "            y = b * np.sin(radians)\n",
      "            c = np.sqrt(a**2 - b**2)\n",
      "            pointRingLocations[i].append([x - c, y])\n",
      "    return pointRingLocations\n",
      "\n",
      "def initial_velocity_elliptical(r, a, b):\n",
      "    '''\n",
      "    Takes in vector r in form <rx, ry> which is the radius from the central mass to the point\n",
      "    a is the semi-major axis of the ellipse\n",
      "    b is the semi-minor axis of the ellipse\n",
      "    Returns the calculated initial velocity vector tangent to the ellipse\n",
      "    \n",
      "    Note: I am still unsure of this works for completely correctly for non-circles\n",
      "    The returned vectors are tangent to the ellipse and for circles are the correct magnitudes\n",
      "    Part of the problem could be numerical uncertainty as if S is set to zero\n",
      "    and the step size is very small (.00001) and the e_ratio (defined later) is close to one (1.1)\n",
      "    then the orbits are much better\n",
      "    '''\n",
      "    xr = r[0]\n",
      "    yr = r[1]\n",
      "    magnitude_r = np.sqrt(xr**2 + yr**2)\n",
      "    magnitude_v = np.sqrt(G*M * (2./magnitude_r - 1./a))\n",
      "    v_vector = magnitude_v * np.array([yr * a, - xr * b]) / np.sqrt(a**2 * yr**2 + b**2 * xr**2)\n",
      "    return v_vector"
     ],
     "language": "python",
     "metadata": {},
     "outputs": [],
     "prompt_number": 4
    },
    {
     "cell_type": "code",
     "collapsed": false,
     "input": [
      "#creating the points and initializing their velocities\n",
      "\n",
      "#creating points:\n",
      "\n",
      "e_ratio = 1.0 #e_ratio of 1. is a circular orbit, 4.0 is the one to be used for the project\n",
      "locs = makePointsElliptical(spacing = 'small', e_ratio_long2short=e_ratio)\n",
      "locs = np.array(locs)\n",
      "\n",
      "#intializing velocities:\n",
      "\n",
      "velocities = []\n",
      "ring = 0\n",
      "for i in locs:\n",
      "    velocities.append([])\n",
      "    for j in i:\n",
      "        a = np.sqrt(e_ratio) * (12. + 6. * ring) / 100. * 25.\n",
      "        b = (12. + 6. * ring) / 100. * 25. / np.sqrt(e_ratio)\n",
      "        velocities[ring].append(initial_velocity_elliptical(j, a, b))\n",
      "    ring += 1"
     ],
     "language": "python",
     "metadata": {},
     "outputs": [],
     "prompt_number": 9
    },
    {
     "cell_type": "code",
     "collapsed": false,
     "input": [
      "#The following constants are a chosen initial velocity vector and position vector\n",
      "#for the galaxy S\n",
      "#These are chosen to yield a minimum radius of very close to 25. (The true Rmin can be seen\n",
      "#in the output of the next cell)\n",
      "galaxy_velocity_x = 6. #kpc per time step\n",
      "galaxy_velocity_y = -6.185 #kpc per time step\n",
      "galaxy_pos_x = -30. #kpc\n",
      "galaxy_pos_y = 120. #kpc\n",
      "\n",
      "points_and_galaxy_initial_condis = []\n",
      "for i in range(locs.size):\n",
      "    for j in range(len(locs[i])):\n",
      "        point_x = locs[i][j][0]\n",
      "        point_y = locs[i][j][1]\n",
      "        point_vx = velocities[i][j][0]\n",
      "        point_vy = velocities[i][j][1]\n",
      "        points_and_galaxy_initial_condis.append([galaxy_pos_x, galaxy_pos_y, \n",
      "                           galaxy_velocity_x, galaxy_velocity_y, point_x, point_y, point_vx, point_vy])\n",
      "\n",
      "t = np.linspace(-10., 10., 20. / step + 1.)\n",
      "#next chunk of code calls odeint and solves the differential equation numerically for the given initial conditions\n",
      "points_and_galaxy_locs = []\n",
      "for i in points_and_galaxy_initial_condis:\n",
      "    ans = odeint(doublederiv, np.array(i), t)\n",
      "    points_and_galaxy_locs.append([ans[:,0], ans[:,1], ans[:,4], ans[:,5]])\n",
      "points_and_galaxy_locs = np.array(points_and_galaxy_locs)"
     ],
     "language": "python",
     "metadata": {},
     "outputs": [],
     "prompt_number": 10
    },
    {
     "cell_type": "code",
     "collapsed": false,
     "input": [
      "Rx = points_and_galaxy_locs[:,0][0]\n",
      "Ry = points_and_galaxy_locs[:,1][0]\n",
      "R = np.sqrt(Rx**2 + Ry**2)\n",
      "print min(R)"
     ],
     "language": "python",
     "metadata": {},
     "outputs": [
      {
       "output_type": "stream",
       "stream": "stdout",
       "text": [
        "51.3196153029\n"
       ]
      }
     ],
     "prompt_number": 11
    },
    {
     "cell_type": "code",
     "collapsed": false,
     "input": [
      "def interact_points(t = -10.):\n",
      "    '''\n",
      "    Rx, Ry, and points_locs must be in global namespace for this to work\n",
      "    t ranges from -10. to 10. and serves as the time\n",
      "    '''\n",
      "    t += 10.\n",
      "    t /= step\n",
      "    plt.plot(-Rx[t], -Ry[t], marker = 'o')\n",
      "    plt.plot(0, 0, marker = 'o')\n",
      "    for i in points_and_galaxy_locs:\n",
      "        rx = i[2]\n",
      "        ry = i[3]\n",
      "        plt.plot(rx[t], ry[t], marker = 'o', color = 'k', markersize = 1)\n",
      "    plt.xlim(-50, 50)\n",
      "    plt.ylim(-50, 50)\n",
      "    plt.show()\n",
      "    \n",
      "v = interact(interact_points, t = (-10., 10.))"
     ],
     "language": "python",
     "metadata": {},
     "outputs": [
      {
       "metadata": {},
       "output_type": "display_data",
       "png": "[encoded data removed]",
       "text": [
        "<matplotlib.figure.Figure at 0x98bbba8>"
       ]
      }
     ],
     "prompt_number": 12
    },
    {
     "cell_type": "code",
     "collapsed": false,
     "input": [],
     "language": "python",
     "metadata": {},
     "outputs": [],
     "prompt_number": 8
    }
   ],
   "metadata": {}
  }
 ]
}