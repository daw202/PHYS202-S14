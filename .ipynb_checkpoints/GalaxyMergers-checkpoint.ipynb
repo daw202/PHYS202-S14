{
 "metadata": {
  "name": "",
  "signature": "sha256:969d30fb1ee7abf38346232fe41e270a0d7876afff0d38deaabc636bc0c05b47"
 },
 "nbformat": 3,
 "nbformat_minor": 0,
 "worksheets": [
  {
   "cells": [
    {
     "cell_type": "heading",
     "level": 1,
     "metadata": {},
     "source": [
      "Galaxy Mergers"
     ]
    },
    {
     "cell_type": "code",
     "collapsed": false,
     "input": [
      "#imports\n",
      "%pylab inline\n",
      "from scipy.integrate import odeint"
     ],
     "language": "python",
     "metadata": {},
     "outputs": [
      {
       "output_type": "stream",
       "stream": "stdout",
       "text": [
        "Populating the interactive namespace from numpy and matplotlib\n"
       ]
      }
     ],
     "prompt_number": 1
    },
    {
     "cell_type": "code",
     "collapsed": false,
     "input": [
      "#constants\n",
      "G = 6.67384e-11 #m^3 / (kg * s^2)\n",
      "G = 1.\n",
      "M = 10.\n",
      "S = 1."
     ],
     "language": "python",
     "metadata": {},
     "outputs": [],
     "prompt_number": 16
    },
    {
     "cell_type": "code",
     "collapsed": false,
     "input": [
      "#deriv functions\n",
      "\n",
      "def doublederivR(arrayOfVectors, t):\n",
      "    '''\n",
      "    arrayOfVectors is in form [Rx, Ry, Vx, Vy] where\n",
      "    <Rx, Ry> is the radius vector from M to S\n",
      "    <Vx, Vy> is the velocity vector of M\n",
      "    '''\n",
      "    Rx = arrayOfVectors[0]\n",
      "    Ry = arrayOfVectors[1]\n",
      "    Vx = arrayOfVectors[2]\n",
      "    Vy = arrayOfVectors[3]\n",
      "    bigRadius = np.sqrt(Rx**2 + Ry**2)\n",
      "    eqx = -G * (M+S) * Rx / bigRadius**3\n",
      "    eqy = -G * (M+S) * Ry / bigRadius**3\n",
      "    \n",
      "    return np.array([Vx, Vy, eqx, eqy])\n",
      "\n",
      "def doublederivr(arrayOfVectors, t):\n",
      "    '''\n",
      "    Rx and Ry must be defined outside of the function. They are arrays of\n",
      "    all the respective values for the big R vector for each time step.\n",
      "    arrayOfVectors is in form [rx, ry, vx, vy] where\n",
      "    <rx, ry> is the radius vector from M to a point\n",
      "    <vx, vy> is velocity vector of that point\n",
      "    '''\n",
      "    rx = arrayOfVectors[4]\n",
      "    ry = arrayOfVectors[5]\n",
      "    vx = arrayOfVectors[6]\n",
      "    vy = arrayOfVectors[7]\n",
      "    \n",
      "    radius = np.sqrt(rx**2 + ry**2)\n",
      "    bigRadius = np.sqrt(Rx[t]**2 + Ry[t]**2)\n",
      "    eqx = -G * (M * rx / radius**3 + S * (Rx[t] - rx) / (bigRadius - radius)**3 + S * Rx[t] / bigRadius**3)\n",
      "    eqy = -G * (M * ry / radius**3 + S * (Ry[t] - ry) / (bigRadius - radius)**3 + S * Ry[t] / bigRadius**3)\n",
      "\n",
      "    return np.array([vx, vy, eqx, eqy])\n",
      "\n",
      "def doublederiv(arrayOfVectors, t):\n",
      "    '''\n",
      "    arrayOfVectors is in form [Rx, Ry, Vx, Vy, rx, ry, vx, vy] where\n",
      "    <Rx, Ry> is the radius vector from M to S\n",
      "    <Vx, Vy> is the velocity vector of M\n",
      "    <rx, ry> is the radius vector from M to a point\n",
      "    <vx, vy> is velocity vector of that point\n",
      "    '''\n",
      "    Rx = arrayOfVectors[0]\n",
      "    Ry = arrayOfVectors[1]\n",
      "    Vx = arrayOfVectors[2]\n",
      "    Vy = arrayOfVectors[3]\n",
      "    rx = arrayOfVectors[4]\n",
      "    ry = arrayOfVectors[5]\n",
      "    vx = arrayOfVectors[6]\n",
      "    vy = arrayOfVectors[7]\n",
      "    \n",
      "    bigRadius = np.sqrt(Rx**2 + Ry**2)\n",
      "    eqBigRx = -G * (M+S) * Rx / bigRadius**3\n",
      "    eqBigRy = -G * (M+S) * Ry / bigRadius**3\n",
      "    \n",
      "    radius = np.sqrt(rx**2 + ry**2)\n",
      "    eqLittlerx = -G * (M * rx / radius**3 + S * (Rx - rx) / (bigRadius - radius)**3 + S * Rx / bigRadius**3)\n",
      "    eqLittlery = -G * (M * ry / radius**3 + S * (Ry - ry) / (bigRadius - radius)**3 + S * Ry / bigRadius**3)\n",
      "    \n",
      "    return np.array([Vx, Vy, eqBigRx, eqBigRy, vx, vy, eqLittlerx, eqLittlery])"
     ],
     "language": "python",
     "metadata": {},
     "outputs": [],
     "prompt_number": 9
    },
    {
     "cell_type": "code",
     "collapsed": false,
     "input": [
      "'''\n",
      "test = np.array([-1., -1., -1., 2., .5, .5, 2., -2.])\n",
      "t = np.arange(-10., 10.1, .1)\n",
      "solved_point_locs = odeint(doublederiv, test, t)\n",
      "plt.plot(t, solved_point_locs[:,2], marker = 'o', linestyle = 'none')\n",
      "plt.show()\n",
      "'''\n",
      "\n",
      "test = np.array([-1., -1., -1., 2.])\n",
      "t = np.arange(0., 10.1, .1)\n",
      "solved_point_locs = odeint(doublederivR, test, t)\n",
      "plt.plot(solved_point_locs[:,0], solved_point_locs[:,1])\n",
      "\n",
      "'''\n",
      "locs = makePoints(spacing = 'small')\n",
      "for i in locs:\n",
      "    for j in i:\n",
      "        plt.plot(j[0], j[1], 'o', color = 'b')\n",
      "plt.show()\n",
      "'''"
     ],
     "language": "python",
     "metadata": {},
     "outputs": [
      {
       "metadata": {},
       "output_type": "pyout",
       "prompt_number": 30,
       "text": [
        "\"\\nlocs = makePoints(spacing = 'small')\\nfor i in locs:\\n    for j in i:\\n        plt.plot(j[0], j[1], 'o', color = 'b')\\nplt.show()\\n\""
       ]
      },
      {
       "metadata": {},
       "output_type": "display_data",
       "png": "[encoded data removed]",
       "text": [
        "<matplotlib.figure.Figure at 0x106918250>"
       ]
      }
     ],
     "prompt_number": 30
    },
    {
     "cell_type": "code",
     "collapsed": false,
     "input": [
      "# Solving differential equations\n",
      "# Plotting point locations periodically\n",
      "\n",
      "G = 6.67384e-11 #m^3 / (kg * s^2)\n",
      "\n",
      "def GalaxyMerger(rings = 5, pointsInRings = [12, 18, 24, 30, 36], M = 10**11, S = 10**11, assumedRmin = 25, timeStep = 10**8,\n",
      "                 pov = 'M'):\n",
      "    pass"
     ],
     "language": "python",
     "metadata": {},
     "outputs": [],
     "prompt_number": 5
    },
    {
     "cell_type": "code",
     "collapsed": false,
     "input": [
      "def makePoints(rings = 5, pointsInRings = [12, 18, 24, 30, 36], assumedRmin = 25, spacing = 'normal'):\n",
      "    '''Takes in the number of rings and the number of points in the rings and returns locations'''\n",
      "    pointRingLocations = []\n",
      "    for i in range(rings):\n",
      "        pointRingLocations.append([])\n",
      "        radiansPerPoint = 2 * pi / pointsInRings[i]\n",
      "        if spacing == 'normal':\n",
      "            radiusPercent = (20. + 10. * i) / 100.\n",
      "        if spacing == 'small':\n",
      "            radiusPercent = (12. + 6. * i) / 100.\n",
      "        for j in range(pointsInRings[i]):\n",
      "            radians = j * radiansPerPoint\n",
      "            x = radiusPercent * assumedRmin * np.cos(radians)\n",
      "            y = radiusPercent * assumedRmin * np.sin(radians)\n",
      "            pointRingLocations[i].append([x, y])\n",
      "    return pointRingLocations\n",
      "\n",
      "def initial_velocity(r, T = 5.442):\n",
      "    '''\n",
      "    r is radius vector from M to point in [rx, ry] form\n",
      "    T is desired period\n",
      "    returns velocity in [vx, vy] form\n",
      "    '''\n",
      "    xr = r[0]\n",
      "    yr = r[1]\n",
      "    r = np.array([yr, -xr])\n",
      "    return 2 * np.pi / T * r\n",
      "\n",
      "\n",
      "locs = makePoints(spacing = 'small')\n",
      "for i in locs:\n",
      "    for j in i:\n",
      "        plt.plot(j[0], j[1], 'o', color = 'b')\n",
      "plt.show()"
     ],
     "language": "python",
     "metadata": {},
     "outputs": [
      {
       "metadata": {},
       "output_type": "pyout",
       "prompt_number": 8,
       "text": [
        "\"\\nlocs = makePoints(spacing = 'small')\\nfor i in locs:\\n    for j in i:\\n        plt.plot(j[0], j[1], 'o', color = 'b')\\nplt.show()\\n\""
       ]
      }
     ],
     "prompt_number": 8
    },
    {
     "cell_type": "code",
     "collapsed": false,
     "input": [],
     "language": "python",
     "metadata": {},
     "outputs": [],
     "prompt_number": 6
    }
   ],
   "metadata": {}
  }
 ]
}