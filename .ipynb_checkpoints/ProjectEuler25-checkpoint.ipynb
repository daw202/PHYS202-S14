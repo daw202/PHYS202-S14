{
 "metadata": {
  "name": "",
  "signature": "sha256:a4ff846c524494772f940503d2da97b44bf65c0f722b81797130e0f1ad70856f"
 },
 "nbformat": 3,
 "nbformat_minor": 0,
 "worksheets": [
  {
   "cells": [
    {
     "cell_type": "heading",
     "level": 1,
     "metadata": {},
     "source": [
      "1000-digit Fibonacci number"
     ]
    },
    {
     "cell_type": "heading",
     "level": 3,
     "metadata": {},
     "source": [
      "Problem 25"
     ]
    },
    {
     "cell_type": "markdown",
     "metadata": {},
     "source": [
      "The Fibonacci sequence is defined by the recurrence relation:\n",
      "\n",
      "Fn = Fn\u22121 + Fn\u22122, where F1 = 1 and F2 = 1.  \n",
      "Hence the first 12 terms will be:\n",
      "\n",
      "F1 = 1  \n",
      "F2 = 1  \n",
      "F3 = 2  \n",
      "F4 = 3  \n",
      "F5 = 5  \n",
      "F6 = 8  \n",
      "F7 = 13  \n",
      "F8 = 21  \n",
      "F9 = 34  \n",
      "F10 = 55  \n",
      "F11 = 89  \n",
      "F12 = 144  \n",
      "The 12th term, F12, is the first term to contain three digits.\n",
      "\n",
      "What is the first term in the Fibonacci sequence to contain 1000 digits?"
     ]
    },
    {
     "cell_type": "code",
     "collapsed": false,
     "input": [
      "def fibonnaci_digits(digits):\n",
      "    '''Takes an integer number of digits greater than or equal to two and\n",
      "    returns the first fobonacci number with that number of digits'''\n",
      "    #value is the lowest number with the required number of digits (1000...)\n",
      "    value = 10**(digits - 1)\n",
      "    prev = 1\n",
      "    term = 1\n",
      "    count_term = 2\n",
      "    \n",
      "    while term < value:\n",
      "        temp = term\n",
      "        term = prev + term\n",
      "        prev = temp\n",
      "        count_term += 1\n",
      "    \n",
      "    return count_term"
     ],
     "language": "python",
     "metadata": {},
     "outputs": [],
     "prompt_number": 1
    },
    {
     "cell_type": "code",
     "collapsed": false,
     "input": [
      "print 'Test case'\n",
      "print fibonnaci_digits(3)"
     ],
     "language": "python",
     "metadata": {},
     "outputs": [
      {
       "output_type": "stream",
       "stream": "stdout",
       "text": [
        "Test case\n",
        "12\n"
       ]
      }
     ],
     "prompt_number": 3
    },
    {
     "cell_type": "code",
     "collapsed": false,
     "input": [
      "print 'Solution'\n",
      "print fibonnaci_digits(1000)"
     ],
     "language": "python",
     "metadata": {},
     "outputs": [
      {
       "output_type": "stream",
       "stream": "stdout",
       "text": [
        "Solution\n",
        "4782\n"
       ]
      }
     ],
     "prompt_number": 4
    },
    {
     "cell_type": "code",
     "collapsed": false,
     "input": [],
     "language": "python",
     "metadata": {},
     "outputs": []
    }
   ],
   "metadata": {}
  }
 ]
}