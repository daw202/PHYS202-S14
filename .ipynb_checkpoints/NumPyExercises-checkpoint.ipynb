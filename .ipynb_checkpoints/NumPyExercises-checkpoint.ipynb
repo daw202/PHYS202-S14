{
 "metadata": {
  "name": "",
  "signature": "sha256:91e745ee61c6b90f5984032fd918c346de6852d224d2dd1d420e7c32874ce05e"
 },
 "nbformat": 3,
 "nbformat_minor": 0,
 "worksheets": [
  {
   "cells": [
    {
     "cell_type": "heading",
     "level": 1,
     "metadata": {},
     "source": [
      "NumPy Exercises"
     ]
    },
    {
     "cell_type": "code",
     "collapsed": false,
     "input": [
      "%pylab inline\n",
      "import numpy as np"
     ],
     "language": "python",
     "metadata": {},
     "outputs": [
      {
       "output_type": "stream",
       "stream": "stdout",
       "text": [
        "Populating the interactive namespace from numpy and matplotlib\n"
       ]
      }
     ],
     "prompt_number": 1
    },
    {
     "cell_type": "markdown",
     "metadata": {},
     "source": [
      "**1**. Create the following arrays with correct data types:\n",
      "\n",
      "    [[1, 1, 1, 1],\n",
      "     [1, 1, 1, 1],\n",
      "     [1, 1, 1, 2],\n",
      "     [1, 6, 1, 1]]\n",
      "    [[0., 0., 0., 0., 0.],\n",
      "     [2., 0., 0., 0., 0.],\n",
      "     [0., 3., 0., 0., 0.],\n",
      "     [0., 0., 4., 0., 0.],\n",
      "     [0., 0., 0., 5., 0.],\n",
      "     [0., 0., 0., 0., 6.]]\n",
      "You should be able to accomplish this in 3 lines of code or less for each one. The documentation for the diag method may be helpful."
     ]
    },
    {
     "cell_type": "code",
     "collapsed": false,
     "input": [
      "x = np.ones((4,4), dtype = int)\n",
      "x[2,3] = 2\n",
      "x[3,1] = 6\n",
      "print x\n",
      "y = np.diag(np.array([1., 2., 3., 4., 5., 6.]))\n",
      "z = y[:,[1,2,3,4,5]]\n",
      "print z\n",
      "    "
     ],
     "language": "python",
     "metadata": {},
     "outputs": [
      {
       "output_type": "stream",
       "stream": "stdout",
       "text": [
        "[[1 1 1 1]\n",
        " [1 1 1 1]\n",
        " [1 1 1 2]\n",
        " [1 6 1 1]]\n",
        "[[ 0.  0.  0.  0.  0.]\n",
        " [ 2.  0.  0.  0.  0.]\n",
        " [ 0.  3.  0.  0.  0.]\n",
        " [ 0.  0.  4.  0.  0.]\n",
        " [ 0.  0.  0.  5.  0.]\n",
        " [ 0.  0.  0.  0.  6.]]\n"
       ]
      }
     ],
     "prompt_number": 56
    },
    {
     "cell_type": "markdown",
     "metadata": {},
     "source": [
      "**2**. Read the documentation for np.tile and use this function to construct the following array:\n",
      "    \n",
      "    [[4, 3, 4, 3, 4, 3],\n",
      "     [2, 1, 2, 1, 2, 1],\n",
      "     [4, 3, 4, 3, 4, 3],\n",
      "     [2, 1, 2, 1, 2, 1]]"
     ]
    },
    {
     "cell_type": "code",
     "collapsed": false,
     "input": [
      "y = np.tile([2, 1], 12)\n",
      "for i in range(6), range(12, 18):\n",
      "    y[i] += 2\n",
      "y = y.reshape(4, 6)\n",
      "print y"
     ],
     "language": "python",
     "metadata": {},
     "outputs": [
      {
       "output_type": "stream",
       "stream": "stdout",
       "text": [
        "[[4 3 4 3 4 3]\n",
        " [2 1 2 1 2 1]\n",
        " [4 3 4 3 4 3]\n",
        " [2 1 2 1 2 1]]\n"
       ]
      }
     ],
     "prompt_number": 98
    },
    {
     "cell_type": "code",
     "collapsed": false,
     "input": [],
     "language": "python",
     "metadata": {},
     "outputs": []
    }
   ],
   "metadata": {}
  }
 ]
}