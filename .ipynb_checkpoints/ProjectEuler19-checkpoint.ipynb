{
 "metadata": {
  "name": "",
  "signature": "sha256:66c2f2b8dbbd4aa1669ac428e6510dab20a719b050cb0ff6cf96ef2ec5d4bacb"
 },
 "nbformat": 3,
 "nbformat_minor": 0,
 "worksheets": [
  {
   "cells": [
    {
     "cell_type": "heading",
     "level": 1,
     "metadata": {},
     "source": [
      "Counting Sundays"
     ]
    },
    {
     "cell_type": "heading",
     "level": 3,
     "metadata": {},
     "source": [
      "Problem 19"
     ]
    },
    {
     "cell_type": "markdown",
     "metadata": {},
     "source": [
      "You are given the following information, but you may prefer to do some research for yourself.\n",
      "\n",
      "1 Jan 1900 was a Monday.  \n",
      "Thirty days has September,  \n",
      "April, June and November.  \n",
      "All the rest have thirty-one,  \n",
      "Saving February alone,  \n",
      "Which has twenty-eight, rain or shine.  \n",
      "And on leap years, twenty-nine.  \n",
      "\n",
      "A leap year occurs on any year evenly divisible by 4, but not on a century unless it is divisible by 400.\n",
      "\n",
      "How many Sundays fell on the first of the month during the twentieth century (1 Jan 1901 to 31 Dec 2000)?"
     ]
    },
    {
     "cell_type": "code",
     "collapsed": false,
     "input": [
      "days_in_month = {0: 31, 1: 28, 2: 31, 3: 30, 4: 31, 5:30, 6: 31, 7:31, 8:30, 9: 31, 10: 30, 11: 31}\n",
      "days_feb_leap = 29\n",
      "\n",
      "def is_leap_year(year):\n",
      "    '''Takes a year and returns True if it is a leap year and False if it is not'''\n",
      "    if year % 4 != 0:\n",
      "        return False\n",
      "    if year % 100 == 0 and year % 400 != 0:\n",
      "        return False\n",
      "    return True\n",
      "\n",
      "def calc_first_day(year):\n",
      "    '''Takes a year and returns the first day as an integer 0 through 6 corresponding to Sunday through Saturday\n",
      "    Uses the fact that the year 1900 started on a Monday\n",
      "    Note: only works for years 1900 or after'''\n",
      "    days = 0\n",
      "    for i in range(1900, year):\n",
      "        if is_leap_year(i):\n",
      "            days += 366\n",
      "        else:\n",
      "            days += 365\n",
      "    first_day = 1\n",
      "    first_day += days % 7\n",
      "    if first_day >= 7:\n",
      "        first_day -= 7\n",
      "    return first_day\n",
      "\n",
      "def calc_Sundays(start, end):\n",
      "    '''\n",
      "    \n",
      "    '''\n",
      "    count = 0\n",
      "    #days are counted 0 through 6 corresponding to Sunday through Saturday\n",
      "    #current_day calculated through calc_first_day\n",
      "    current_day = calc_first_day(start)\n",
      "    for year in range(start, end + 1):\n",
      "        for month in range(0, 12):\n",
      "            if current_day == 0:\n",
      "                count += 1\n",
      "            if month == 1 and is_leap_year(year):\n",
      "                current_day += days_feb_leap % 7\n",
      "                if current_day >= 7:\n",
      "                    current_day -= 7\n",
      "            else:\n",
      "                current_day += days_in_month[month] % 7\n",
      "                if current_day >= 7:\n",
      "                    current_day -= 7\n",
      "    return count"
     ],
     "language": "python",
     "metadata": {},
     "outputs": [],
     "prompt_number": 23
    },
    {
     "cell_type": "code",
     "collapsed": false,
     "input": [
      "#Testing is_leap_year\n",
      "print is_leap_year(1900)\n",
      "print is_leap_year(2000)\n",
      "print is_leap_year(1940)\n",
      "print is_leap_year(1938)"
     ],
     "language": "python",
     "metadata": {},
     "outputs": [
      {
       "output_type": "stream",
       "stream": "stdout",
       "text": [
        "False\n",
        "True\n",
        "True\n",
        "False\n"
       ]
      }
     ],
     "prompt_number": 5
    },
    {
     "cell_type": "code",
     "collapsed": false,
     "input": [
      "#Testing calc_first_day, checked returned days independently using calendars\n",
      "print calc_first_day(1901)\n",
      "print calc_first_day(2014)"
     ],
     "language": "python",
     "metadata": {},
     "outputs": [
      {
       "output_type": "stream",
       "stream": "stdout",
       "text": [
        "2\n",
        "3\n"
       ]
      }
     ],
     "prompt_number": 26
    },
    {
     "cell_type": "code",
     "collapsed": false,
     "input": [
      "print calc_Sundays(1901, 2000)"
     ],
     "language": "python",
     "metadata": {},
     "outputs": [
      {
       "output_type": "stream",
       "stream": "stdout",
       "text": [
        "171\n"
       ]
      }
     ],
     "prompt_number": 27
    },
    {
     "cell_type": "code",
     "collapsed": false,
     "input": [],
     "language": "python",
     "metadata": {},
     "outputs": []
    }
   ],
   "metadata": {}
  }
 ]
}