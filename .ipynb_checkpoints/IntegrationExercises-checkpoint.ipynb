{
 "metadata": {
  "name": "",
  "signature": "sha256:dc8dc83c20f93f3900f49c9906cf2e9f2f2e214a920a6bc838cbcfb3afa3f344"
 },
 "nbformat": 3,
 "nbformat_minor": 0,
 "worksheets": [
  {
   "cells": [
    {
     "cell_type": "heading",
     "level": 1,
     "metadata": {},
     "source": [
      "Integration Exercises"
     ]
    },
    {
     "cell_type": "code",
     "collapsed": false,
     "input": [
      "%pylab inline\n",
      "import numpy as np\n",
      "import matplotlib.pyplot as plt"
     ],
     "language": "python",
     "metadata": {},
     "outputs": [
      {
       "output_type": "stream",
       "stream": "stdout",
       "text": [
        "Populating the interactive namespace from numpy and matplotlib\n"
       ]
      }
     ],
     "prompt_number": 21
    },
    {
     "cell_type": "heading",
     "level": 3,
     "metadata": {},
     "source": [
      "Question 1"
     ]
    },
    {
     "cell_type": "markdown",
     "metadata": {},
     "source": [
      "**(a)** Write two functions trapz(func,x) and simps(func,x) to compute the integral of the function func over the variable x using the trapezoidal rule and Simpson's rule to a file called Integrators.py. Do not use the scipy.integrate built-in functions. Include docstrings with each function that describe what they do. Then import the module and use the functions to answer the following questions."
     ]
    },
    {
     "cell_type": "code",
     "collapsed": false,
     "input": [
      "%%file Integrators.py\n",
      "\n",
      "import numpy as np\n",
      "\n",
      "def trapz(func, x, N=10):\n",
      "    '''Calculates an integral using the trapezoidal method\n",
      "    of the func from 0 to x, using N steps'''\n",
      "    a = 0.0\n",
      "    b = float(x)\n",
      "    h = (b - a) / N\n",
      "    \n",
      "    k = np.arange(1, N)\n",
      "    I = h * (0.5 * func(a) + 0.5 * func(b) + func(a + k * h).sum())\n",
      "    \n",
      "    return I\n",
      "\n",
      "def simps(func, x, N=10):\n",
      "    '''Calculates an integral using the simpsons method\n",
      "    of the func from 0 to x, using N steps'''\n",
      "    a = 0.0\n",
      "    b = float(x)\n",
      "    h = (b - a) / N\n",
      "\n",
      "    k1 = np.arange(1, N / 2 + 1)\n",
      "    k2 = np.arange(1, N / 2)\n",
      "    I = (1./3.) * h * (func(a) + func(b) + 4.*func(a + (2 * k1 - 1) * h).sum() \\\n",
      "                       + 2.*func(a + 2 * k2 * h).sum())\n",
      "    \n",
      "    return I"
     ],
     "language": "python",
     "metadata": {},
     "outputs": [
      {
       "output_type": "stream",
       "stream": "stdout",
       "text": [
        "Overwriting Integrators.py\n"
       ]
      }
     ],
     "prompt_number": 22
    },
    {
     "cell_type": "markdown",
     "metadata": {},
     "source": [
      "**(b)** Use your trapz and simps functions from part (a) to calculate the integral of x4\u22122x+1 from x = 0 to x = 2 with N = 10, N = 100, and N = 1000. Then compare your result to the known correct value of 4.4. What is the percent error in each case?"
     ]
    },
    {
     "cell_type": "code",
     "collapsed": false,
     "input": [
      "import Integrators as integratorsfile\n",
      "func = lambda x: x**4 - 2*x+1\n",
      "\n",
      "def calcerror(a, b):\n",
      "    '''Calculates the error in a with respect to b (b is the 'true' value)'''\n",
      "    return (float(a)-float(b))/b * 100\n",
      "\n",
      "print 'trapz'\n",
      "print 'N\\tvalue\\t\\t%error'\n",
      "\n",
      "trapzN10 = integratorsfile.trapz(func, 2)\n",
      "errorN10 = calcerror(trapzN10, 4.4)\n",
      "print '10\\t' + str(trapzN10) + '\\t\\t' + str(errorN10)\n",
      "trapzN100 = integratorsfile.trapz(func, 2, N=100)\n",
      "errorN100 = calcerror(trapzN100, 4.4)\n",
      "print '100\\t' + str(trapzN100) + '\\t' + str(errorN100)\n",
      "trapzN1000 = integratorsfile.trapz(func, 2, N=1000)\n",
      "errorN1000 = calcerror(trapzN1000, 4.4)\n",
      "print '1000\\t' + str(trapzN1000) + '\\t' + str(errorN1000)\n",
      "\n",
      "print '\\nsimps'\n",
      "print 'N\\tvalue\\t\\t%error'\n",
      "\n",
      "simpsN10 = integratorsfile.simps(func, 2)\n",
      "errorN10 = calcerror(simpsN10, 4.4)\n",
      "print '10\\t' + str(simpsN10) + '\\t' + str(errorN10)\n",
      "simpsN100 = integratorsfile.simps(func, 2, N=100)\n",
      "errorN100 = calcerror(simpsN100, 4.4)\n",
      "print '100\\t' + str(simpsN100) + '\\t' + str(errorN100)\n",
      "simpsN1000 = integratorsfile.simps(func, 2, N=1000)\n",
      "errorN1000 = calcerror(simpsN1000, 4.4)\n",
      "print '1000\\t' + str(simpsN1000) + '\\t\\t' + str(errorN1000)"
     ],
     "language": "python",
     "metadata": {},
     "outputs": [
      {
       "output_type": "stream",
       "stream": "stdout",
       "text": [
        "trapz\n",
        "N\tvalue\t\t%error\n",
        "10\t4.50656\t\t2.42181818182\n",
        "100\t4.401066656\t0.0242421818182\n",
        "1000\t4.40001066667\t0.000242424218175\n",
        "\n",
        "simps\n",
        "N\tvalue\t\t%error\n",
        "10\t4.40042666667\t0.00969696969697\n",
        "100\t4.40000004267\t9.69696969187e-07\n",
        "1000\t4.4\t\t9.69729347327e-11\n"
       ]
      }
     ],
     "prompt_number": 23
    },
    {
     "cell_type": "heading",
     "level": 3,
     "metadata": {},
     "source": [
      "Question 2"
     ]
    },
    {
     "cell_type": "markdown",
     "metadata": {},
     "source": [
      "**(a)** Use scipy.integrate.cumtrapz to calculate E(x) for values of x from 0 to 3 in steps of 0.1. Print the result."
     ]
    },
    {
     "cell_type": "code",
     "collapsed": false,
     "input": [
      "import scipy.integrate as integrate\n",
      "t = arange(0., 3.1, .1)\n",
      "E = np.exp(-(t**2))\n",
      "I = integrate.cumtrapz(E, t, initial = 0)\n",
      "print I"
     ],
     "language": "python",
     "metadata": {},
     "outputs": [
      {
       "output_type": "stream",
       "stream": "stdout",
       "text": [
        "[ 0.          0.09950249  0.19704446  0.29078049  0.37908424  0.46063146\n",
        "  0.53445532  0.59997046  0.6569664   0.70557392  0.7462108   0.77951463\n",
        "  0.80627088  0.82734325  0.84361215  0.85592503  0.86506023  0.87170427\n",
        "  0.87644128  0.87975207  0.88202044  0.88354398  0.88454709  0.88519453\n",
        "  0.88560418  0.88585826  0.88601274  0.88610482  0.88615862  0.88618943\n",
        "  0.88620673]\n"
       ]
      }
     ],
     "prompt_number": 24
    },
    {
     "cell_type": "markdown",
     "metadata": {},
     "source": [
      "**(b)** Plot the integrand as a function of t and E(x) as a function of x (both ranging from 0 to 3) on the same graph."
     ]
    },
    {
     "cell_type": "code",
     "collapsed": false,
     "input": [
      "plt.plot(t, E)\n",
      "plt.plot(t, I)\n",
      "plt.show()"
     ],
     "language": "python",
     "metadata": {},
     "outputs": [
      {
       "metadata": {},
       "output_type": "display_data",
       "png": "[encoded data removed]",
       "text": [
        "<matplotlib.figure.Figure at 0x106849050>"
       ]
      }
     ],
     "prompt_number": 25
    },
    {
     "cell_type": "heading",
     "level": 3,
     "metadata": {},
     "source": [
      "Question 3"
     ]
    },
    {
     "cell_type": "markdown",
     "metadata": {},
     "source": [
      "**(a)** What is the probability of finding the particle between L/3 and L/2 for the ground state (n = 1) and for the first excited state (n = 2)? Let L = 1. Perform the integral using both scipy.integrate.trapz and scipy.integrate.quad with an accuracy of 6 sig figs. How many slices did you need to use for scipy.integrate.trapz?"
     ]
    },
    {
     "cell_type": "code",
     "collapsed": false,
     "input": [
      "slice_size = .0000001\n",
      "x = arange(1./3., 1./2.+slice_size, slice_size)\n",
      "n = 1\n",
      "psi_squared = 2 * np.sin(n * np.pi * x)**2 #L assumed to be 1\n",
      "\n",
      "Itrapz = integrate.trapz(psi_squared, x)\n",
      "print 'Trapz: %.6f' % Itrapz\n",
      "print 'Trapz slices: %.0f' % ((1./2. - 1./3.) / slice_size)\n",
      "\n",
      "func = lambda x: 2 * np.sin(n * np.pi * x)**2 #L assumed to be 1\n",
      "Iquad = integrate.quad(func, 1./3., 1./2.)\n",
      "print 'Quad: %.6f' % Iquad[0]\n",
      "print 'Quad error:', Iquad[1]"
     ],
     "language": "python",
     "metadata": {},
     "outputs": [
      {
       "output_type": "stream",
       "stream": "stdout",
       "text": [
        "Trapz: 0.304499\n",
        "Trapz slices: 1666667\n",
        "Quad: 0.304499\n",
        "Quad error: 3.3806167923e-15\n"
       ]
      }
     ],
     "prompt_number": 26
    },
    {
     "cell_type": "markdown",
     "metadata": {},
     "source": [
      "**(b)** Make a plot of |\u03c8(x)|2 vs. x for the first two excited states with L=1."
     ]
    },
    {
     "cell_type": "code",
     "collapsed": false,
     "input": [
      "x = arange(0., 1.+.00001, .00001)\n",
      "n = 1\n",
      "psi_squared = 2 * np.sin(n * np.pi * x)**2 #L assumed to be 1\n",
      "n = 2\n",
      "psi_squared2 = 2 * np.sin(n * np.pi * x)**2 #L assumed to be 1\n",
      "\n",
      "plt.plot(x, psi_squared, label = 'n=1')\n",
      "plt.plot(x, psi_squared2, label = 'n=2')\n",
      "plt.legend()\n",
      "plt.show()"
     ],
     "language": "python",
     "metadata": {},
     "outputs": [
      {
       "metadata": {},
       "output_type": "display_data",
       "png": "[encoded data removed]",
       "text": [
        "<matplotlib.figure.Figure at 0x10659b550>"
       ]
      }
     ],
     "prompt_number": 27
    },
    {
     "cell_type": "heading",
     "level": 3,
     "metadata": {},
     "source": [
      "Question 4"
     ]
    },
    {
     "cell_type": "markdown",
     "metadata": {},
     "source": [
      "Consider a rectangular box: length (in x) = 0.2 m, width (in y) = 0.2 m, and height (in z) = 1.0 m centered on the origin, (0,0,0) and with a mass density, \u03c1(x,y,z) = (100 kg/m4)(y + 0.1) + (100 kg/m5)z2 for x, y, and z in meters."
     ]
    },
    {
     "cell_type": "markdown",
     "metadata": {},
     "source": [
      "**(a)** Use numerical integration to find M, r\u20d7 cm, and Icm. Note that you need M to compute r\u20d7 cm and r\u20d7 cm to compute Icm. The moments of inertia Icm are Ixx, Iyy, and Izz, where e.g. Ixx=\u222b((y\u2212ycm)2+(z\u2212zcm)2)\u03c1dV, etc."
     ]
    },
    {
     "cell_type": "code",
     "collapsed": false,
     "input": [
      "from scipy.integrate import tplquad"
     ],
     "language": "python",
     "metadata": {},
     "outputs": [],
     "prompt_number": 38
    },
    {
     "cell_type": "code",
     "collapsed": false,
     "input": [
      "p = lambda z, y, x: 100*(y+.1) + 100*z**2\n",
      "\n",
      "xmin = -.1; xmax = .1\n",
      "ymin = lambda x: -.1; ymax = lambda x: .1\n",
      "zmin = lambda x, y: -.5; zmax = lambda x, y: .5\n",
      "\n",
      "ans, err = tplquad(p, xmin, xmax, ymin, ymax, zmin, zmax)\n",
      "print 'M =', ans"
     ],
     "language": "python",
     "metadata": {},
     "outputs": [
      {
       "output_type": "stream",
       "stream": "stdout",
       "text": [
        "M = 0.733333333333\n"
       ]
      }
     ],
     "prompt_number": 39
    },
    {
     "cell_type": "code",
     "collapsed": false,
     "input": [
      "px = lambda z, y, x: x*(100*(y+.1) + 100*z**2)\n",
      "xcm, xerr = tplquad(px, xmin, xmax, ymin, ymax, zmin, zmax)\n",
      "print 'xcm =', xcm\n",
      "\n",
      "py = lambda z, y, x: y*(100*(y+.1) + 100*z**2)\n",
      "ycm, yerr = tplquad(py, xmin, xmax, ymin, ymax, zmin, zmax)\n",
      "print 'ycm =', ycm\n",
      "\n",
      "pz = lambda z, y, x: z*(100*(y+.1) + 100*z**2)\n",
      "zcm, zerr = tplquad(pz, xmin, xmax, ymin, ymax, zmin, zmax)\n",
      "print 'zcm =', zcm\n",
      "\n",
      "print 'rcm = (%f, %f, %f)' % (xcm, ycm, zcm)"
     ],
     "language": "python",
     "metadata": {},
     "outputs": [
      {
       "output_type": "stream",
       "stream": "stdout",
       "text": [
        "xcm = 0.0\n",
        "ycm = 0.0133333333333\n",
        "zcm = 0.0\n",
        "rcm = (0.000000, 0.013333, 0.000000)\n"
       ]
      }
     ],
     "prompt_number": 40
    },
    {
     "cell_type": "code",
     "collapsed": false,
     "input": [
      "moix = lambda z, y, x: ((y - ycm)**2 + (z - zcm)**2) * (100*(y+.1) + 100*z**2)\n",
      "Ixx, Ixxerr = tplquad(moix, xmin, xmax, ymin, ymax, zmin, zmax)\n",
      "print 'Ixx =', Ixx\n",
      "\n",
      "moiy = lambda z, y, x: ((x - xcm)**2 + (z - zcm)**2) * (100*(y+.1) + 100*z**2)\n",
      "Iyy, Iyyerr = tplquad(moiy, xmin, xmax, ymin, ymax, zmin, zmax)\n",
      "print 'Iyy =', Iyy\n",
      "\n",
      "moiz = lambda z, y, x: ((x - xcm)**2 + (y - ycm)**2) * (100*(y+.1) + 100*z**2)\n",
      "Izz, Izzerr = tplquad(moiz, xmin, xmax, ymin, ymax, zmin, zmax)\n",
      "print 'Izz =', Izz\n",
      "\n",
      "print 'Icm =', Izz + Iyy + Izz"
     ],
     "language": "python",
     "metadata": {},
     "outputs": [
      {
       "output_type": "stream",
       "stream": "stdout",
       "text": [
        "Ixx = 0.0855525925926\n",
        "Iyy = 0.0857777777778\n",
        "Izz = 0.0046637037037\n",
        "Icm = 0.0951051851852\n"
       ]
      }
     ],
     "prompt_number": 41
    },
    {
     "cell_type": "markdown",
     "metadata": {},
     "source": [
      "**(b)** The mass, center of mass, and moments of inertia can be easily computed analytically for a rectangular box of uniform density. (Compute them yourself or look them up). Verify your algorithm from part (a) works by having it compute the result for this test case. How accurate (how many sig figs?) is the numerical result?"
     ]
    },
    {
     "cell_type": "code",
     "collapsed": false,
     "input": [
      "p = lambda z, y, x: 1\n",
      "\n",
      "xmin = -.1; xmax = .1\n",
      "ymin = lambda x: -.1; ymax = lambda x: .1\n",
      "zmin = lambda x, y: -.5; zmax = lambda x, y: .5\n",
      "\n",
      "ans, err = tplquad(p, xmin, xmax, ymin, ymax, zmin, zmax)\n",
      "print 'M =', ans\n",
      "\n",
      "px = lambda z, y, x: x\n",
      "xcm, xerr = tplquad(px, xmin, xmax, ymin, ymax, zmin, zmax)\n",
      "print 'xcm =', xcm\n",
      "\n",
      "py = lambda z, y, x: y\n",
      "ycm, yerr = tplquad(py, xmin, xmax, ymin, ymax, zmin, zmax)\n",
      "print 'ycm =', ycm\n",
      "\n",
      "pz = lambda z, y, x: z\n",
      "zcm, zerr = tplquad(pz, xmin, xmax, ymin, ymax, zmin, zmax)\n",
      "print 'zcm =', zcm\n",
      "\n",
      "print 'rcm = (%f, %f, %f)' % (xcm, ycm, zcm)\n",
      "\n",
      "moix = lambda z, y, x: ((y - ycm)**2 + (z - zcm)**2)\n",
      "Ixx, Ixxerr = tplquad(moix, xmin, xmax, ymin, ymax, zmin, zmax)\n",
      "print 'Ixx =', Ixx\n",
      "\n",
      "moiy = lambda z, y, x: ((x - xcm)**2 + (z - zcm)**2)\n",
      "Iyy, Iyyerr = tplquad(moiy, xmin, xmax, ymin, ymax, zmin, zmax)\n",
      "print 'Iyy =', Iyy\n",
      "\n",
      "moiz = lambda z, y, x: ((x - xcm)**2 + (y - ycm)**2)\n",
      "Izz, Izzerr = tplquad(moiz, xmin, xmax, ymin, ymax, zmin, zmax)\n",
      "print 'Izz =', Izz\n",
      "\n",
      "print 'Icm =', Izz + Iyy + Izz"
     ],
     "language": "python",
     "metadata": {},
     "outputs": [
      {
       "output_type": "stream",
       "stream": "stdout",
       "text": [
        "M = 0.04\n",
        "xcm = 0.0\n",
        "ycm = 0.0\n",
        "zcm = 0.0\n",
        "rcm = (0.000000, 0.000000, 0.000000)\n",
        "Ixx = 0.00346666666667\n",
        "Iyy = 0.00346666666667\n",
        "Izz ="
       ]
      },
      {
       "output_type": "stream",
       "stream": "stdout",
       "text": [
        " 0.000266666666667\n",
        "Icm = 0.004\n"
       ]
      }
     ],
     "prompt_number": 42
    },
    {
     "cell_type": "markdown",
     "metadata": {},
     "source": [
      "**(c)** Finally, change the density function to something of your choosing (different from that used in parts (a) and (b)) and recompute M, r\u20d7 cm and Icm for that case."
     ]
    },
    {
     "cell_type": "code",
     "collapsed": false,
     "input": [
      "p = lambda z, y, x: 1 + x + y**3 + z\n",
      "\n",
      "xmin = -.1; xmax = .1\n",
      "ymin = lambda x: -.1; ymax = lambda x: .1\n",
      "zmin = lambda x, y: -.5; zmax = lambda x, y: .5\n",
      "\n",
      "ans, err = tplquad(p, xmin, xmax, ymin, ymax, zmin, zmax)\n",
      "print 'M =', ans\n",
      "\n",
      "px = lambda z, y, x: x*(1 + x + y**3 + z)\n",
      "xcm, xerr = tplquad(px, xmin, xmax, ymin, ymax, zmin, zmax)\n",
      "print 'xcm =', xcm\n",
      "\n",
      "py = lambda z, y, x: y*(1 + x + y**3 + z)\n",
      "ycm, yerr = tplquad(py, xmin, xmax, ymin, ymax, zmin, zmax)\n",
      "print 'ycm =', ycm\n",
      "\n",
      "pz = lambda z, y, x: z*(1 + x + y**3 + z)\n",
      "zcm, zerr = tplquad(pz, xmin, xmax, ymin, ymax, zmin, zmax)\n",
      "print 'zcm =', zcm\n",
      "\n",
      "print 'rcm = (%f, %f, %f)' % (xcm, ycm, zcm)\n",
      "\n",
      "moix = lambda z, y, x: ((y - ycm)**2 + (z - zcm)**2)*(1 + x + y**3 + z)\n",
      "Ixx, Ixxerr = tplquad(moix, xmin, xmax, ymin, ymax, zmin, zmax)\n",
      "print 'Ixx =', Ixx\n",
      "\n",
      "moiy = lambda z, y, x: ((x - xcm)**2 + (z - zcm)**2)*(1 + x + y**3 + z)\n",
      "Iyy, Iyyerr = tplquad(moiy, xmin, xmax, ymin, ymax, zmin, zmax)\n",
      "print 'Iyy =', Iyy\n",
      "\n",
      "moiz = lambda z, y, x: ((x - xcm)**2 + (y - ycm)**2)*(1 + x + y**3 + z)\n",
      "Izz, Izzerr = tplquad(moiz, xmin, xmax, ymin, ymax, zmin, zmax)\n",
      "print 'Izz =', Izz\n",
      "\n",
      "print 'Icm =', Izz + Iyy + Izz"
     ],
     "language": "python",
     "metadata": {},
     "outputs": [
      {
       "output_type": "stream",
       "stream": "stdout",
       "text": [
        "M = 0.04\n",
        "xcm = 0.000133333333333\n",
        "ycm = 8e-07\n",
        "zcm ="
       ]
      },
      {
       "output_type": "stream",
       "stream": "stdout",
       "text": [
        " 0.00333333333333\n",
        "rcm = (0.000133, 0.000001, 0.003333)\n",
        "Ixx = 0.00344488888763\n",
        "Iyy = 0.00344485404444\n",
        "Izz = 0.000266631820968\n",
        "Icm = 0.00397811768638\n"
       ]
      }
     ],
     "prompt_number": 45
    },
    {
     "cell_type": "code",
     "collapsed": false,
     "input": [],
     "language": "python",
     "metadata": {},
     "outputs": [],
     "prompt_number": 33
    }
   ],
   "metadata": {}
  }
 ]
}