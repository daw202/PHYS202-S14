{
 "metadata": {
  "name": "",
  "signature": "sha256:1eb703c562e9afe92f271499bdaaef5c665bab1d93c18a08c078eafef7c9d4f0"
 },
 "nbformat": 3,
 "nbformat_minor": 0,
 "worksheets": []
}