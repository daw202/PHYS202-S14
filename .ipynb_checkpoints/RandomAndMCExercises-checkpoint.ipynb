{
 "metadata": {
  "name": "",
  "signature": "sha256:b1c6a6f06b0ffed42058a33ac3a5805342f5dedfd0ef0c2353add87c08b35f93"
 },
 "nbformat": 3,
 "nbformat_minor": 0,
 "worksheets": []
}