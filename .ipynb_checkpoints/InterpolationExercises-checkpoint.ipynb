{
 "metadata": {
  "name": "",
  "signature": "sha256:bd880c743fa89e866ef93fc968b331f7fe77a7c27f8249444f07e48d21fb5388"
 },
 "nbformat": 3,
 "nbformat_minor": 0,
 "worksheets": [
  {
   "cells": [
    {
     "cell_type": "heading",
     "level": 1,
     "metadata": {},
     "source": [
      "Interpolation Exercises"
     ]
    },
    {
     "cell_type": "code",
     "collapsed": false,
     "input": [
      "%pylab inline"
     ],
     "language": "python",
     "metadata": {},
     "outputs": [
      {
       "output_type": "stream",
       "stream": "stdout",
       "text": [
        "Populating the interactive namespace from numpy and matplotlib\n"
       ]
      }
     ],
     "prompt_number": 1
    },
    {
     "cell_type": "markdown",
     "metadata": {},
     "source": [
      "**1.** It is common to test functions where you know the answer they should give. Let's test the dipolePotential() function that we previously saved in Electrostatics.py to see that the function is zero along the bisector between the charges.  \n",
      "First, set up a grid and evaluate the function."
     ]
    },
    {
     "cell_type": "code",
     "collapsed": false,
     "input": [
      "from Electrostatics import *\n",
      "x, y = np.meshgrid(np.arange(-5, 5.01, 0.5), np.arange(-5, 5.01, 0.5))\n",
      "Vdipole = dipolePotential(x, y, 1e-9, 2.)\n",
      "plt.contour(x, y, Vdipole, cmap=cm.coolwarm)\n",
      "plt.show()"
     ],
     "language": "python",
     "metadata": {},
     "outputs": [
      {
       "output_type": "stream",
       "stream": "stderr",
       "text": [
        "Electrostatics.py:12: RuntimeWarning: divide by zero encountered in divide\n",
        "  Vxy = k*q/np.sqrt(((x - Xc)**2 + (y - Yc)**2))\n"
       ]
      },
      {
       "metadata": {},
       "output_type": "display_data",
       "png": "[encoded data removed]",
       "text": [
        "<matplotlib.figure.Figure at 0x1061d1890>"
       ]
      }
     ],
     "prompt_number": 2
    },
    {
     "cell_type": "markdown",
     "metadata": {},
     "source": [
      "**(a)** Use a boolean mask to locate the positions where x=0."
     ]
    },
    {
     "cell_type": "code",
     "collapsed": false,
     "input": [
      "ii = (x == 0)\n",
      "print ii"
     ],
     "language": "python",
     "metadata": {},
     "outputs": [
      {
       "output_type": "stream",
       "stream": "stdout",
       "text": [
        "[[False False False False False False False False False False  True False\n",
        "  False False False False False False False False False]\n",
        " [False False False False False False False False False False  True False\n",
        "  False False False False False False False False False]\n",
        " [False False False False False False False False False False  True False\n",
        "  False False False False False False False False False]\n",
        " [False False False False False False False False False False  True False\n",
        "  False False False False False False False False False]\n",
        " [False False False False False False False False False False  True False\n",
        "  False False False False False False False False False]\n",
        " [False False False False False False False False False False  True False\n",
        "  False False False False False False False False False]\n",
        " [False False False False False False False False False False  True False\n",
        "  False False False False False False False False False]\n",
        " [False False False False False False False False False False  True False\n",
        "  False False False False False False False False False]\n",
        " [False False False False False False False False False False  True False\n",
        "  False False False False False False False False False]\n",
        " [False False False False False False False False False False  True False\n",
        "  False False False False False False False False False]\n",
        " [False False False False False False False False False False  True False\n",
        "  False False False False False False False False False]\n",
        " [False False False False False False False False False False  True False\n",
        "  False False False False False False False False False]\n",
        " [False False False False False False False False False False  True False\n",
        "  False False False False False False False False False]\n",
        " [False False False False False False False False False False  True False\n",
        "  False False False False False False False False False]\n",
        " [False False False False False False False False False False  True False\n",
        "  False False False False False False False False False]\n",
        " [False False False False False False False False False False  True False\n",
        "  False False False False False False False False False]\n",
        " [False False False False False False False False False False  True False\n",
        "  False False False False False False False False False]\n",
        " [False False False False False False False False False False  True False\n",
        "  False False False False False False False False False]\n",
        " [False False False False False False False False False False  True False\n",
        "  False False False False False False False False False]\n",
        " [False False False False False False False False False False  True False\n",
        "  False False False False False False False False False]\n",
        " [False False False False False False False False False False  True False\n",
        "  False False False False False False False False False]]\n"
       ]
      }
     ],
     "prompt_number": 3
    },
    {
     "cell_type": "markdown",
     "metadata": {},
     "source": [
      "**(b)** Check that Vdipole for these locations is zero. i.e. print the value of Vdipole for these locations using your mask from part (a)."
     ]
    },
    {
     "cell_type": "code",
     "collapsed": false,
     "input": [
      "print Vdipole[ii]"
     ],
     "language": "python",
     "metadata": {},
     "outputs": [
      {
       "output_type": "stream",
       "stream": "stdout",
       "text": [
        "[ 0.  0.  0.  0.  0.  0.  0.  0.  0.  0.  0.  0.  0.  0.  0.  0.  0.  0.\n",
        "  0.  0.  0.]\n"
       ]
      }
     ],
     "prompt_number": 4
    },
    {
     "cell_type": "markdown",
     "metadata": {},
     "source": [
      "**2.** Thermistors are electrical devices that measure temperature. They are made out of a material whose resistance changes very predictably with temperature. In the lab we measure the resistance of the thermistor and then compute the temperature from the engineering data that the manufacturer sends with the devices. The table below is data for a set of thermistors used in PHYS 340. The temperature values are in \u2218C and the resistances in mega-Ohms, M\u03a9.\n",
      "\n",
      "\n",
      "    Temp   Res   Temp   Res   Temp   Res   Temp   Res   Temp   Res\n",
      "    --------------------------------------------------------------- \n",
      "     10   3.239   16   2.610   22   2.169   28   1.857   34   1.634\n",
      "     11   3.118   17   2.526   23   2.110   29   1.815   35   1.603\n",
      "     12   3.004   18   2.446   24   2.053   30   1.774   36   1.574\n",
      "     13   2.897   19   2.371   25   2.000   31   1.736   37   1.547\n",
      "     14   2.795   20   2.300   26   1.950   32   1.700   38   1.521\n",
      "     15   2.700   21   2.233   27   1.902   33   1.666   39   1.496"
     ]
    },
    {
     "cell_type": "markdown",
     "metadata": {},
     "source": [
      "**(a)** Let's turn this look-up table into a continuous function. Write a reusable function Temp(Resistance) that takes any value of Resistance and returns the interpolated temperature. Be sure to include a docstring in your function."
     ]
    },
    {
     "cell_type": "code",
     "collapsed": false,
     "input": [
      "from scipy.interpolate import interp1d\n",
      "\n",
      "def Temp(Resistance):\n",
      "    '''\n",
      "    Takes in a Resistance value and uses preset data to interpolate\n",
      "    the temperature value.\n",
      "    '''\n",
      "    res = np.array([3.239, 3.118, 3.004, 2.897, 2.795, 2.700, 2.610, 2.526,\n",
      "                    2.446, 2.371, 2.300, 2.233, 2.169, 2.110, 2.053, 2.000,\n",
      "                    1.950, 1.902, 1.857, 1.815, 1.774, 1.736, 1.700, 1.666,\n",
      "                    1.634, 1.603, 1.574, 1.547, 1.521, 1.496])\n",
      "    temp = np.arange(10, 40, 1)\n",
      "    \n",
      "    #Turns each of the arrays around so res (the x equivalent) is increasing\n",
      "    res = res[::-1]\n",
      "    temp = temp[::-1]\n",
      "    \n",
      "    interp = interp1d(res, temp)\n",
      "    \n",
      "    return interp(Resistance)"
     ],
     "language": "python",
     "metadata": {},
     "outputs": [],
     "prompt_number": 8
    },
    {
     "cell_type": "markdown",
     "metadata": {},
     "source": [
      "**(b)** Show that the function returns expected values, including some from the table for a few specific input resistances."
     ]
    },
    {
     "cell_type": "code",
     "collapsed": false,
     "input": [
      "#This is an exact value from the data and should yield 25 degrees C\n",
      "print Temp(2.000)\n",
      "\n",
      "#This is inbetween two values in the data and should yield a\n",
      "#temperature between 13 and 14 (closer to 14)\n",
      "print Temp(2.800)"
     ],
     "language": "python",
     "metadata": {},
     "outputs": [
      {
       "output_type": "stream",
       "stream": "stdout",
       "text": [
        "25.0\n",
        "13.9509803922\n"
       ]
      }
     ],
     "prompt_number": 9
    },
    {
     "cell_type": "markdown",
     "metadata": {},
     "source": [
      "**(c)** Plot Temp(Resistance) vs. Resistance for a reasonable range of Resistance with reasonably fine sampling. Include as an annotation on the plot the value of the temperature for a resistance of 1.75 M\u03a9. (It's up to you to decide what \"reasonable\" means in both cases.)"
     ]
    },
    {
     "cell_type": "code",
     "collapsed": false,
     "input": [
      "resistances = np.arange(1.50, 3.20, .001)\n",
      "temp_resistance = []\n",
      "for i in resistances:\n",
      "    temp_resistance.append(Temp(i))\n",
      "temp_resistance = np.array(temp_resistance)\n",
      "\n",
      "plt.plot(resistances, temp_resistance)\n",
      "temp_at_res = Temp(1.75)\n",
      "plt.annotate('Temp R=1.75: %s degC' % temp_at_res, xy = (1.75, 30), xytext = (1.8, 32), fontsize = 14)\n",
      "plt.show()"
     ],
     "language": "python",
     "metadata": {},
     "outputs": [
      {
       "metadata": {},
       "output_type": "display_data",
       "png": "[encoded data removed]",
       "text": [
        "<matplotlib.figure.Figure at 0x1061e7e10>"
       ]
      }
     ],
     "prompt_number": 17
    },
    {
     "cell_type": "code",
     "collapsed": false,
     "input": [],
     "language": "python",
     "metadata": {},
     "outputs": [],
     "prompt_number": 7
    }
   ],
   "metadata": {}
  }
 ]
}