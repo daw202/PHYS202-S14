{
 "metadata": {
  "name": "",
  "signature": "sha256:7ac422c457b87c90576fb3f79128743a5888cc7585fa941eb11f7a20eb3b4cf6"
 },
 "nbformat": 3,
 "nbformat_minor": 0,
 "worksheets": [
  {
   "cells": [
    {
     "cell_type": "heading",
     "level": 1,
     "metadata": {},
     "source": [
      "Differentiation Exercises"
     ]
    },
    {
     "cell_type": "code",
     "collapsed": false,
     "input": [
      "%pylab inline"
     ],
     "language": "python",
     "metadata": {},
     "outputs": [
      {
       "output_type": "stream",
       "stream": "stdout",
       "text": [
        "Populating the interactive namespace from numpy and matplotlib\n"
       ]
      }
     ],
     "prompt_number": 1
    },
    {
     "cell_type": "heading",
     "level": 3,
     "metadata": {},
     "source": [
      "Question 1"
     ]
    },
    {
     "cell_type": "markdown",
     "metadata": {},
     "source": [
      "**(a)** Write two functions called twoPtForwardDiff(x,y) and twoPtCenteredDiff(x,y) that take as arguments arrays of values x and y(x) and return the derivatives of y with respect to x. Make sure that the arrays returned by the function have the same shape as the input arrays."
     ]
    },
    {
     "cell_type": "code",
     "collapsed": false,
     "input": [
      "def twoPtForwardDiff(x, y):\n",
      "    '''\n",
      "    Takes two arrays x and y of the same shape and calculates the\n",
      "    forward differential of the second with respect to the first. \n",
      "    In the case of the last data point it uses a backwards differentiation \n",
      "    instead of a forwards differentiation because there is no next \n",
      "    point in the forward direction.\n",
      "    '''\n",
      "    dydx = np.zeros(y.shape, float)\n",
      "    dydx[0:-1] = np.diff(y)/np.diff(x)\n",
      "    dydx[-1] = (y[-1] - y[-2])/(x[-1] - x[-2])\n",
      "    return dydx\n",
      "\n",
      "def twoPtCenteredDiff(x, y):\n",
      "    '''\n",
      "    Takes two arrays x and y of the same shape and calculates the\n",
      "    center differential of the second array with respect to the first.\n",
      "    For the first and last data point it uses a forward differential\n",
      "    and backward differential respectively because the endpoints don't\n",
      "    have points on both sides\n",
      "    '''\n",
      "    dydx = np.zeros(y.shape, float)\n",
      "    dydx[1:-1] = (y[2:] - y[:-2])/(x[2:] - x[:-2])\n",
      "    dydx[0] = (y[1] - y[0])/(x[1] - x[0])\n",
      "    dydx[-1] = (y[-1] - y[-2])/(x[-1] - x[-2])\n",
      "    return dydx"
     ],
     "language": "python",
     "metadata": {},
     "outputs": [],
     "prompt_number": 4
    },
    {
     "cell_type": "markdown",
     "metadata": {},
     "source": [
      "**(b)** Use your functions to take the derivative of the function y=8x4+3x over the range 0 <x< 10, with steps of 0.1. How do you know they work correctly? (Hint: compare to the analytical result)."
     ]
    },
    {
     "cell_type": "code",
     "collapsed": false,
     "input": [
      "x = np.arange(0, 10.1, .1)\n",
      "y = 8*x**4 + 3*x\n",
      "\n",
      "dydx_forward = twoPtForwardDiff(x, y)\n",
      "dydx_center = twoPtCenteredDiff(x, y)\n",
      "\n",
      "dydx_actual = 32*x**3 + 3\n",
      "\n",
      "plt.plot(x, dydx_forward, label = 'forward difference')\n",
      "plt.plot(x, dydx_center, label = 'center difference')\n",
      "plt.plot(x, dydx_actual, label = 'exact')\n",
      "plt.legend(loc = 'upper left')\n",
      "plt.show()"
     ],
     "language": "python",
     "metadata": {},
     "outputs": [
      {
       "metadata": {},
       "output_type": "display_data",
       "png": "[encoded data removed]",
       "text": [
        "<matplotlib.figure.Figure at 0x1061bb250>"
       ]
      }
     ],
     "prompt_number": 6
    },
    {
     "cell_type": "markdown",
     "metadata": {},
     "source": [
      "**(c)** What is the accuracy of the results if you use a spacing of 0.01? (Plot the relative error) "
     ]
    },
    {
     "cell_type": "code",
     "collapsed": false,
     "input": [
      "x1 = np.arange(0, 10.01, .01)\n",
      "y1 = 8*x1**4 + 3*x1\n",
      "\n",
      "dydx_forward1 = twoPtForwardDiff(x1, y1)\n",
      "dydx_center1 = twoPtCenteredDiff(x1, y1)\n",
      "dydx_actual1 = 32*x1**3 + 3\n",
      "\n",
      "percentError_forward = 100*abs(dydx_forward1[1:] - \\\n",
      "                               dydx_actual1[1:])/dydx_actual1[1:]\n",
      "percentError_center = 100*abs(dydx_center1[1:] - \\\n",
      "                              dydx_actual1[1:])/dydx_actual1[1:]\n",
      "\n",
      "#Using a semilog y-axis to see the variation better\n",
      "plt.semilogy(x1[1:], percentError_forward, label = 'forward percent error')\n",
      "plt.semilogy(x1[1:], percentError_center, label = 'center percent error')\n",
      "plt.ylabel('percent error with dydxExact')\n",
      "plt.legend(loc = 'upper right')\n",
      "plt.show()\n"
     ],
     "language": "python",
     "metadata": {},
     "outputs": [
      {
       "metadata": {},
       "output_type": "display_data",
       "png": "[encoded data removed]",
       "text": [
        "<matplotlib.figure.Figure at 0x1069ecdd0>"
       ]
      }
     ],
     "prompt_number": 15
    },
    {
     "cell_type": "markdown",
     "metadata": {},
     "source": [
      "**(d)** For what minimum spacing is the 2pt-centered difference derivative accurate to 5 significant figures over its full range (excluding the last point)?"
     ]
    },
    {
     "cell_type": "code",
     "collapsed": false,
     "input": [
      "a = np.arange(0.0001, 0.01, .00001)\n",
      "min_spacing = -1\n",
      "for i in a[::-1]:\n",
      "    x2 = np.arange(0, 10. + i, i)\n",
      "    y2 = 8*x2**4 + 3*x2\n",
      "\n",
      "    dydx_center2 = twoPtCenteredDiff(x2, y2)\n",
      "    dydx_actual2 = 32*x2**3 + 3\n",
      "\n",
      "    percentError_center2 = 100*abs(dydx_center2[1:] - \\\n",
      "                              dydx_actual2[1:])/dydx_actual2[1:]\n",
      "    \n",
      "    if max(percentError_center2[:-1]) < 1./10**5:\n",
      "        min_spacing = i\n",
      "        break\n",
      "print min_spacing"
     ],
     "language": "python",
     "metadata": {},
     "outputs": [
      {
       "output_type": "stream",
       "stream": "stdout",
       "text": [
        "0.00019\n"
       ]
      }
     ],
     "prompt_number": 45
    },
    {
     "cell_type": "heading",
     "level": 3,
     "metadata": {},
     "source": [
      "Question 2"
     ]
    },
    {
     "cell_type": "code",
     "collapsed": false,
     "input": [
      "x = np.linspace(0, 2*pi, 100)\n",
      "y = np.sin(x) + 0.1*random.random(size = x.shape)\n",
      "\n",
      "#graph this"
     ],
     "language": "python",
     "metadata": {},
     "outputs": [],
     "prompt_number": 46
    },
    {
     "cell_type": "markdown",
     "metadata": {},
     "source": [
      "(a) Now that we do not control the spacing of the data points, we have to use higher order differencing methods to reach a smoother and more accurate derivative. The four-point center differencing method is defined by  \n",
      "\n",
      "                dydx[i]\u2243(y[i\u22122]\u22128y[i\u22121]+8y[i+1]\u2212y[i+2])/12h  \n",
      "        \n",
      "where h is the spacing between points on the x axis (assumed to be equal). This comes from keeping higher order terms from the Taylor expansion used to define the derivative. This method can be used to obtain dydx[2:-2]. In order to calculate values for dydx[0], dydx[1], dydx[-1] and dydx[-2] you must use the lowest order finite difference method (like the ones you defined in your twoPtForwardDiff(x,y) and twoPtCenteredDiff(x,y) functions). Create another function, fourPtCenteredDiff(x,y), that computes the derivative using the higher order method above. Test that it works for y=8x4+3x and plot the relative error from the analytical result."
     ]
    },
    {
     "cell_type": "code",
     "collapsed": false,
     "input": [
      "def fourPtCenteredDiff(x, y):\n",
      "    '''\n",
      "    Takes two arrays x and y of the same shape and calculates the\n",
      "    center differential of the second array with respect to the first.\n",
      "    For the first and last data point it uses a forward differential\n",
      "    and backward differential respectively because the endpoints don't\n",
      "    have points on both sides\n",
      "    '''\n",
      "    dydx = np.zeros(y.shape, float)\n",
      "    dydx[2:-2] = (y[:-2] - 8*y[1:-1] + 8*y[1:-1] - y[2:]) / \\\n",
      "                    (x[:-2] - 8*x[1:-1] + 8*x[1:-1] - x[2:])\n",
      "    \n",
      "    dydx[1] = (y[2] - y[0])/(x[2] - x[0])\n",
      "    dydx[-2] = (y[-1] - y[-3])/(x[-1] - x[-3])\n",
      "    dydx[0] = (y[1] - y[0])/(x[1] - x[0])\n",
      "    dydx[-1] = (y[-1] - y[-2])/(x[-1] - x[-2])\n",
      "    return dydx"
     ],
     "language": "python",
     "metadata": {},
     "outputs": [],
     "prompt_number": 47
    },
    {
     "cell_type": "code",
     "collapsed": false,
     "input": [
      "x3 = np.arange(0, 10.01, .01)\n",
      "y3 = 8*x3**4 + 3*x3\n",
      "\n",
      "dydx_center3 = fourPtCenteredDiff(x3, y3)\n",
      "dydx_actual3 = 32*x3**3 + 3\n",
      "\n",
      "percentError_center = 100*abs(dydx_center3[1:] - \\\n",
      "                              dydx_actual3[1:])/dydx_actual3[1:]\n",
      "\n",
      "#Using a semilog y-axis to see the variation better\n",
      "plt.semilogy(x3[1:], percentError_center, label = 'center percent error')\n",
      "plt.ylabel('percent error with dydxExact')\n",
      "plt.legend(loc = 'upper right')\n",
      "plt.show()"
     ],
     "language": "python",
     "metadata": {},
     "outputs": [
      {
       "ename": "ValueError",
       "evalue": "could not broadcast input array from shape (999) into shape (997)",
       "output_type": "pyerr",
       "traceback": [
        "\u001b[0;31m---------------------------------------------------------------------------\u001b[0m\n\u001b[0;31mValueError\u001b[0m                                Traceback (most recent call last)",
        "\u001b[0;32m<ipython-input-51-7b4b0c058fdb>\u001b[0m in \u001b[0;36m<module>\u001b[0;34m()\u001b[0m\n\u001b[1;32m      2\u001b[0m \u001b[0my3\u001b[0m \u001b[0;34m=\u001b[0m \u001b[0;36m8\u001b[0m\u001b[0;34m*\u001b[0m\u001b[0mx3\u001b[0m\u001b[0;34m**\u001b[0m\u001b[0;36m4\u001b[0m \u001b[0;34m+\u001b[0m \u001b[0;36m3\u001b[0m\u001b[0;34m*\u001b[0m\u001b[0mx3\u001b[0m\u001b[0;34m\u001b[0m\u001b[0m\n\u001b[1;32m      3\u001b[0m \u001b[0;34m\u001b[0m\u001b[0m\n\u001b[0;32m----> 4\u001b[0;31m \u001b[0mdydx_center3\u001b[0m \u001b[0;34m=\u001b[0m \u001b[0mfourPtCenteredDiff\u001b[0m\u001b[0;34m(\u001b[0m\u001b[0mx3\u001b[0m\u001b[0;34m,\u001b[0m \u001b[0my3\u001b[0m\u001b[0;34m)\u001b[0m\u001b[0;34m\u001b[0m\u001b[0m\n\u001b[0m\u001b[1;32m      5\u001b[0m \u001b[0mdydx_actual3\u001b[0m \u001b[0;34m=\u001b[0m \u001b[0;36m32\u001b[0m\u001b[0;34m*\u001b[0m\u001b[0mx3\u001b[0m\u001b[0;34m**\u001b[0m\u001b[0;36m3\u001b[0m \u001b[0;34m+\u001b[0m \u001b[0;36m3\u001b[0m\u001b[0;34m\u001b[0m\u001b[0m\n\u001b[1;32m      6\u001b[0m \u001b[0;34m\u001b[0m\u001b[0m\n",
        "\u001b[0;32m<ipython-input-47-ea16e8578b12>\u001b[0m in \u001b[0;36mfourPtCenteredDiff\u001b[0;34m(x, y)\u001b[0m\n\u001b[1;32m      8\u001b[0m     '''\n\u001b[1;32m      9\u001b[0m     \u001b[0mdydx\u001b[0m \u001b[0;34m=\u001b[0m \u001b[0mnp\u001b[0m\u001b[0;34m.\u001b[0m\u001b[0mzeros\u001b[0m\u001b[0;34m(\u001b[0m\u001b[0my\u001b[0m\u001b[0;34m.\u001b[0m\u001b[0mshape\u001b[0m\u001b[0;34m,\u001b[0m \u001b[0mfloat\u001b[0m\u001b[0;34m)\u001b[0m\u001b[0;34m\u001b[0m\u001b[0m\n\u001b[0;32m---> 10\u001b[0;31m     \u001b[0mdydx\u001b[0m\u001b[0;34m[\u001b[0m\u001b[0;36m2\u001b[0m\u001b[0;34m:\u001b[0m\u001b[0;34m-\u001b[0m\u001b[0;36m2\u001b[0m\u001b[0;34m]\u001b[0m \u001b[0;34m=\u001b[0m \u001b[0;34m(\u001b[0m\u001b[0my\u001b[0m\u001b[0;34m[\u001b[0m\u001b[0;34m:\u001b[0m\u001b[0;34m-\u001b[0m\u001b[0;36m2\u001b[0m\u001b[0;34m]\u001b[0m \u001b[0;34m-\u001b[0m \u001b[0;36m8\u001b[0m\u001b[0;34m*\u001b[0m\u001b[0my\u001b[0m\u001b[0;34m[\u001b[0m\u001b[0;36m1\u001b[0m\u001b[0;34m:\u001b[0m\u001b[0;34m-\u001b[0m\u001b[0;36m1\u001b[0m\u001b[0;34m]\u001b[0m \u001b[0;34m+\u001b[0m \u001b[0;36m8\u001b[0m\u001b[0;34m*\u001b[0m\u001b[0my\u001b[0m\u001b[0;34m[\u001b[0m\u001b[0;36m1\u001b[0m\u001b[0;34m:\u001b[0m\u001b[0;34m-\u001b[0m\u001b[0;36m1\u001b[0m\u001b[0;34m]\u001b[0m \u001b[0;34m-\u001b[0m \u001b[0my\u001b[0m\u001b[0;34m[\u001b[0m\u001b[0;36m2\u001b[0m\u001b[0;34m:\u001b[0m\u001b[0;34m]\u001b[0m\u001b[0;34m)\u001b[0m \u001b[0;34m/\u001b[0m                     \u001b[0;34m(\u001b[0m\u001b[0mx\u001b[0m\u001b[0;34m[\u001b[0m\u001b[0;34m:\u001b[0m\u001b[0;34m-\u001b[0m\u001b[0;36m2\u001b[0m\u001b[0;34m]\u001b[0m \u001b[0;34m-\u001b[0m \u001b[0;36m8\u001b[0m\u001b[0;34m*\u001b[0m\u001b[0mx\u001b[0m\u001b[0;34m[\u001b[0m\u001b[0;36m1\u001b[0m\u001b[0;34m:\u001b[0m\u001b[0;34m-\u001b[0m\u001b[0;36m1\u001b[0m\u001b[0;34m]\u001b[0m \u001b[0;34m+\u001b[0m \u001b[0;36m8\u001b[0m\u001b[0;34m*\u001b[0m\u001b[0mx\u001b[0m\u001b[0;34m[\u001b[0m\u001b[0;36m1\u001b[0m\u001b[0;34m:\u001b[0m\u001b[0;34m-\u001b[0m\u001b[0;36m1\u001b[0m\u001b[0;34m]\u001b[0m \u001b[0;34m-\u001b[0m \u001b[0mx\u001b[0m\u001b[0;34m[\u001b[0m\u001b[0;36m2\u001b[0m\u001b[0;34m:\u001b[0m\u001b[0;34m]\u001b[0m\u001b[0;34m)\u001b[0m\u001b[0;34m\u001b[0m\u001b[0m\n\u001b[0m\u001b[1;32m     11\u001b[0m \u001b[0;34m\u001b[0m\u001b[0m\n\u001b[1;32m     12\u001b[0m     \u001b[0mdydx\u001b[0m\u001b[0;34m[\u001b[0m\u001b[0;36m1\u001b[0m\u001b[0;34m]\u001b[0m \u001b[0;34m=\u001b[0m \u001b[0;34m(\u001b[0m\u001b[0my\u001b[0m\u001b[0;34m[\u001b[0m\u001b[0;36m2\u001b[0m\u001b[0;34m]\u001b[0m \u001b[0;34m-\u001b[0m \u001b[0my\u001b[0m\u001b[0;34m[\u001b[0m\u001b[0;36m0\u001b[0m\u001b[0;34m]\u001b[0m\u001b[0;34m)\u001b[0m\u001b[0;34m/\u001b[0m\u001b[0;34m(\u001b[0m\u001b[0mx\u001b[0m\u001b[0;34m[\u001b[0m\u001b[0;36m2\u001b[0m\u001b[0;34m]\u001b[0m \u001b[0;34m-\u001b[0m \u001b[0mx\u001b[0m\u001b[0;34m[\u001b[0m\u001b[0;36m0\u001b[0m\u001b[0;34m]\u001b[0m\u001b[0;34m)\u001b[0m\u001b[0;34m\u001b[0m\u001b[0m\n",
        "\u001b[0;31mValueError\u001b[0m: could not broadcast input array from shape (999) into shape (997)"
       ]
      }
     ],
     "prompt_number": 51
    },
    {
     "cell_type": "code",
     "collapsed": false,
     "input": [],
     "language": "python",
     "metadata": {},
     "outputs": []
    }
   ],
   "metadata": {}
  }
 ]
}