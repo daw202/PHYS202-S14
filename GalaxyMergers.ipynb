{
 "metadata": {
  "name": "",
  "signature": "sha256:5bc7a1234fb99d48f1f85599b08e9270e634e2b93f0e5c8daa02906c266bc69d"
 },
 "nbformat": 3,
 "nbformat_minor": 0,
 "worksheets": [
  {
   "cells": [
    {
     "cell_type": "heading",
     "level": 1,
     "metadata": {},
     "source": [
      "Galaxy Mergers"
     ]
    },
    {
     "cell_type": "code",
     "collapsed": false,
     "input": [],
     "language": "python",
     "metadata": {},
     "outputs": []
    }
   ],
   "metadata": {}
  }
 ]
}