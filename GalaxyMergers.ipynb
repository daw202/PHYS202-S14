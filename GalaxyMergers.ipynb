{
 "metadata": {
  "name": "",
  "signature": "sha256:1f7b8ca975705e82ea177467e65df7f066a286ce187b4301334d2008eef07a85"
 },
 "nbformat": 3,
 "nbformat_minor": 0,
 "worksheets": [
  {
   "cells": [
    {
     "cell_type": "heading",
     "level": 1,
     "metadata": {},
     "source": [
      "Galaxy Mergers"
     ]
    },
    {
     "cell_type": "code",
     "collapsed": false,
     "input": [
      "#imports\n",
      "%pylab inline\n",
      "from scipy.integrate import odeint"
     ],
     "language": "python",
     "metadata": {},
     "outputs": [
      {
       "output_type": "stream",
       "stream": "stdout",
       "text": [
        "Populating the interactive namespace from numpy and matplotlib\n"
       ]
      }
     ],
     "prompt_number": 1
    },
    {
     "cell_type": "code",
     "collapsed": false,
     "input": [
      "#constants\n",
      "G = 6.67384e-11 #m^3 / (kg * s^2)\n",
      "M = 10**11\n",
      "S = 10**11"
     ],
     "language": "python",
     "metadata": {},
     "outputs": [],
     "prompt_number": 15
    },
    {
     "cell_type": "code",
     "collapsed": false,
     "input": [
      "#deriv functions\n",
      "'''\n",
      "def doublederivR(R, V):\n",
      "    Returns double derivatives of big R in array of form [xvelocity, yvelocity, xacceleration, yaccelerating]\n",
      "    M is mass of M\n",
      "    S is mass of S\n",
      "    R is the radius vector from M to S as an np array in form [xvector, yvector]\n",
      "    V is the velocity vector from M to S as an np array in form [xvector, yvector]\n",
      "    bigRadius = np.sqrt(R[0]**2 + R[1]**2)\n",
      "    eq = -G * (M+S) * R / bigRadius**3\n",
      "    \n",
      "    return np.array([V, eq])\n",
      "\n",
      "def doublederivr(R, V, r, v):\n",
      "    \n",
      "    radius = np.sqrt(r[0]**2 + r[1]**2)\n",
      "    bigRadius = np.sqrt(R[0]**2 + R[1]**2)\n",
      "    eq = -G * (M * r / radius**3 + S * (R - r) / (bigRadius - radius)**3 + S * R / bigRadius**3)\n",
      "    \n",
      "    return np.array([R, V, v, eq])\n",
      "'''\n",
      "\n",
      "def doublederiv(arrayOfVectors, t):\n",
      "    '''\n",
      "    arrayOfVectors is in form [R, V, r, v] where\n",
      "    R is the radius vector from M to S as an np array in form [x, y]\n",
      "    V is the velocity vector of M as an np array in form [xv, yv]\n",
      "    r is the radius vector from M to a point in form [x, y]\n",
      "    v is velocity vector of that point in form [xv, yv]\n",
      "    '''\n",
      "    Rx = arrayOfVectors[0]\n",
      "    Ry = arrayOfVectors[1]\n",
      "    Vx = arrayOfVectors[2]\n",
      "    Vy = arrayOfVectors[3]\n",
      "    rx = arrayOfVectors[4]\n",
      "    ry = arrayOfVectors[5]\n",
      "    vx = arrayOfVectors[6]\n",
      "    vy = arrayOfVectors[7]\n",
      "    \n",
      "    bigRadius = np.sqrt(Rx**2 + Ry**2)\n",
      "    eqBigRx = -G * (M+S) * Rx / bigRadius**3\n",
      "    eqBigRy = -G * (M+S) * Ry / bigRadius**3\n",
      "    \n",
      "    radius = np.sqrt(rx**2 + ry**2)\n",
      "    eqLittlerx = -G * (M * rx / radius**3 + S * (Rx - rx) / (bigRadius - radius)**3 + S * Rx / bigRadius**3)\n",
      "    eqLittlery = -G * (M * ry / radius**3 + S * (Ry - ry) / (bigRadius - radius)**3 + S * Ry / bigRadius**3)\n",
      "    \n",
      "    return np.array([Vx, Vy, eqBigRx, eqBigRy, vx, vy, eqLittlerx, eqLittlery])"
     ],
     "language": "python",
     "metadata": {},
     "outputs": [],
     "prompt_number": 39
    },
    {
     "cell_type": "code",
     "collapsed": false,
     "input": [
      "#test cell\n",
      "test = np.array([1, 1, 1, 2, 2, 1, 2, 2])\n",
      "t = np.arange(-10, 10.1, .1)\n",
      "print odeint(doublederiv, test, t)"
     ],
     "language": "python",
     "metadata": {},
     "outputs": [
      {
       "output_type": "stream",
       "stream": "stdout",
       "text": [
        "Excess work done on this call (perhaps wrong Dfun type).\n",
        "Run with full_output = 1 to get quantitative information.\n",
        "float64\n"
       ]
      }
     ],
     "prompt_number": 44
    },
    {
     "cell_type": "code",
     "collapsed": false,
     "input": [
      "# Solving differential equations\n",
      "# Plotting point locations periodically\n",
      "\n",
      "G = 6.67384e-11 #m^3 / (kg * s^2)\n",
      "\n",
      "def GalaxyMerger(rings = 5, pointsInRings = [12, 18, 24, 30, 36], M = 10**11, S = 10**11, assumedRmin = 25, timeStep = 10**8,\n",
      "                 pov = 'M'):\n",
      "    pass\n",
      "\n",
      "def bigR(posM, posS, Mvx, Mvy):\n",
      "    pass"
     ],
     "language": "python",
     "metadata": {},
     "outputs": [],
     "prompt_number": 21
    },
    {
     "cell_type": "code",
     "collapsed": false,
     "input": [
      "def makePoints(rings = 5, pointsInRings = [12, 18, 24, 30, 36], assumedRmin = 25, spacing = 'normal'):\n",
      "    '''Takes in the number of rings and the number of points in the rings and returns locations'''\n",
      "    pointRingLocations = []\n",
      "    if spacing == 'normal':\n",
      "        for i in range(rings):\n",
      "            pointRingLocations.append([])\n",
      "            radiansPerPoint = 2 * pi / pointsInRings[i]\n",
      "            radiusPercent = (20. + 10. * i) / 100.\n",
      "            for j in range(pointsInRings[i]):\n",
      "                radians = j * radiansPerPoint\n",
      "                x = radiusPercent * assumedRmin * np.cos(radians)\n",
      "                y = radiusPercent * assumedRmin * np.sin(radians)\n",
      "                pointRingLocations[i].append([x, y])\n",
      "    return pointRingLocations\n",
      "\n",
      "locs = makePoints()\n",
      "for i in locs:\n",
      "    for j in i:\n",
      "        plt.plot(j[0], j[1], 'o', color = 'b')\n",
      "plt.show()"
     ],
     "language": "python",
     "metadata": {},
     "outputs": [
      {
       "metadata": {},
       "output_type": "display_data",
       "png": "[encoded data removed]",
       "text": [
        "<matplotlib.figure.Figure at 0xa01b978>"
       ]
      }
     ],
     "prompt_number": 7
    },
    {
     "cell_type": "code",
     "collapsed": false,
     "input": [],
     "language": "python",
     "metadata": {},
     "outputs": [],
     "prompt_number": 6
    }
   ],
   "metadata": {}
  }
 ]
}