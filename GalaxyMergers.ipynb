{
 "metadata": {
  "name": "",
  "signature": "sha256:28a60db82f05bb7f1ace1ba92f3d7c503c6817084506f0a5d16e1f9935298170"
 },
 "nbformat": 3,
 "nbformat_minor": 0,
 "worksheets": [
  {
   "cells": [
    {
     "cell_type": "heading",
     "level": 1,
     "metadata": {},
     "source": [
      "Galaxy Mergers"
     ]
    },
    {
     "cell_type": "code",
     "collapsed": false,
     "input": [
      "# Generate points around mass (locations stored in 2xN list/array)\n",
      "# Initial conditions for masses and radius set up\n",
      "# Solving differential equations\n",
      "# Plotting point locations periodically\n",
      "\n",
      "def GalaxyMerger(rings = 5, pointsInRings = [12, 18, 24, 30, 36], M = 10**11, S = 10**11, assumedRmin = 25, timeStep = 10**8,\n",
      "                 omegaPoints = 1, pov = 'M')"
     ],
     "language": "python",
     "metadata": {},
     "outputs": []
    }
   ],
   "metadata": {}
  }
 ]
}