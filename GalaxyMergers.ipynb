{
 "metadata": {
  "name": "",
  "signature": "sha256:8707a77366d76c1879b2a77d27a805334e03c619228214f18db9c3a7e4d5d2f3"
 },
 "nbformat": 3,
 "nbformat_minor": 0,
 "worksheets": [
  {
   "cells": [
    {
     "cell_type": "heading",
     "level": 1,
     "metadata": {},
     "source": [
      "Galaxy Mergers"
     ]
    },
    {
     "cell_type": "code",
     "collapsed": false,
     "input": [
      "#imports\n",
      "%pylab inline\n",
      "from scipy.integrate import odeint\n",
      "from IPython.html.widgets import interact, interactive"
     ],
     "language": "python",
     "metadata": {},
     "outputs": [
      {
       "output_type": "stream",
       "stream": "stdout",
       "text": [
        "Populating the interactive namespace from numpy and matplotlib\n"
       ]
      }
     ],
     "prompt_number": 1
    },
    {
     "cell_type": "code",
     "collapsed": false,
     "input": [
      "#constants\n",
      "G = 4.499553709e-8 #kpc^3 * solar mass^-1 * (10^8 years)^-2\n",
      "M = 10.**11 / 3. #solar masses\n",
      "S = 10.**11 #solar masses"
     ],
     "language": "python",
     "metadata": {},
     "outputs": [],
     "prompt_number": 2
    },
    {
     "cell_type": "code",
     "collapsed": false,
     "input": [
      "def doublederivR(arrayOfVectors, t):\n",
      "    '''\n",
      "    arrayOfVectors is in form [Rx, Ry, Vx, Vy] where\n",
      "    <Rx, Ry> is the radius vector from M to S\n",
      "    <Vx, Vy> is the velocity vector of M\n",
      "    '''\n",
      "    Rx = arrayOfVectors[0]\n",
      "    Ry = arrayOfVectors[1]\n",
      "    Vx = arrayOfVectors[2]\n",
      "    Vy = arrayOfVectors[3]\n",
      "    bigRadius = np.sqrt(Rx**2 + Ry**2)\n",
      "    eqx = -G * (M+S) * Rx / bigRadius**3\n",
      "    eqy = -G * (M+S) * Ry / bigRadius**3\n",
      "    \n",
      "    return np.array([Vx, Vy, eqx, eqy])\n",
      "\n",
      "def doublederivr(arrayOfVectors, t):\n",
      "    '''\n",
      "    Rx and Ry must be defined outside of the function. They are arrays of\n",
      "    all the respective values for the big R vector for each time step.\n",
      "    arrayOfVectors is in form [rx, ry, vx, vy] where\n",
      "    <rx, ry> is the radius vector from M to a point\n",
      "    <vx, vy> is velocity vector of that point\n",
      "    '''\n",
      "    rx = arrayOfVectors[0]\n",
      "    ry = arrayOfVectors[1]\n",
      "    vx = arrayOfVectors[2]\n",
      "    vy = arrayOfVectors[3]\n",
      "    \n",
      "    radius = np.sqrt(rx**2 + ry**2)\n",
      "    bigRadius = np.sqrt((Rx[(t + 10.) / .1])**2 + (Ry[(t + 10.) / .1])**2)\n",
      "    eqx = -G * (M * rx / radius**3 + S * (Rx[(t + 10.) / .1] - rx) / (bigRadius - radius)**3 + S * Rx[(t + 10.) / .1] / bigRadius**3)\n",
      "    eqy = -G * (M * ry / radius**3 + S * (Ry[(t + 10.) / .1] - ry) / (bigRadius - radius)**3 + S * Ry[(t + 10.) / .1] / bigRadius**3)\n",
      "\n",
      "    return np.array([vx, vy, eqx, eqy])\n",
      "\n",
      "#I believe this is unneeded, but keeping in case I need to use it later\n",
      "def doublederiv(arrayOfVectors, t):\n",
      "    '''\n",
      "    arrayOfVectors is in form [Rx, Ry, Vx, Vy, rx, ry, vx, vy] where\n",
      "    <Rx, Ry> is the radius vector from M to S\n",
      "    <Vx, Vy> is the velocity vector of M\n",
      "    <rx, ry> is the radius vector from M to a point\n",
      "    <vx, vy> is velocity vector of that point\n",
      "    '''\n",
      "    Rx = arrayOfVectors[0]\n",
      "    Ry = arrayOfVectors[1]\n",
      "    Vx = arrayOfVectors[2]\n",
      "    Vy = arrayOfVectors[3]\n",
      "    rx = arrayOfVectors[4]\n",
      "    ry = arrayOfVectors[5]\n",
      "    vx = arrayOfVectors[6]\n",
      "    vy = arrayOfVectors[7]\n",
      "    \n",
      "    bigRadius = np.sqrt(Rx**2 + Ry**2)\n",
      "    eqBigRx = -G * (M+S) * Rx / bigRadius**3\n",
      "    eqBigRy = -G * (M+S) * Ry / bigRadius**3\n",
      "    \n",
      "    radius = np.sqrt(rx**2 + ry**2)\n",
      "    eqLittlerx = -G * (M * rx / radius**3 + S * (Rx - rx) / (bigRadius - radius)**3 + S * Rx / bigRadius**3)\n",
      "    eqLittlery = -G * (M * ry / radius**3 + S * (Ry - ry) / (bigRadius - radius)**3 + S * Ry / bigRadius**3)\n",
      "    \n",
      "    return np.array([Vx, Vy, eqBigRx, eqBigRy, vx, vy, eqLittlerx, eqLittlery])"
     ],
     "language": "python",
     "metadata": {},
     "outputs": [],
     "prompt_number": 3
    },
    {
     "cell_type": "code",
     "collapsed": false,
     "input": [
      "def makePoints(rings = 5, pointsInRings = [12, 18, 24, 30, 36], assumedRmin = 25, spacing = 'normal'):\n",
      "    '''Takes in the number of rings and the number of points in the rings and returns locations'''\n",
      "    pointRingLocations = []\n",
      "    for i in range(rings):\n",
      "        pointRingLocations.append([])\n",
      "        radiansPerPoint = 2 * pi / pointsInRings[i]\n",
      "        if spacing == 'normal':\n",
      "            radiusPercent = (20. + 10. * i) / 100.\n",
      "        if spacing == 'small':\n",
      "            radiusPercent = (12. + 6. * i) / 100.\n",
      "        for j in range(pointsInRings[i]):\n",
      "            radians = j * radiansPerPoint\n",
      "            x = radiusPercent * assumedRmin * np.cos(radians)\n",
      "            y = radiusPercent * assumedRmin * np.sin(radians)\n",
      "            pointRingLocations[i].append([x, y])\n",
      "    return pointRingLocations\n",
      "\n",
      "def initial_velocity(r, T = 5.442):\n",
      "    '''\n",
      "    r is radius vector from M to point in [rx, ry] form\n",
      "    T is desired period\n",
      "    returns velocity in [vx, vy] form\n",
      "    '''\n",
      "    xr = r[0]\n",
      "    yr = r[1]\n",
      "    r = np.array([yr, -xr])\n",
      "    return 2 * np.pi / T * r"
     ],
     "language": "python",
     "metadata": {},
     "outputs": [],
     "prompt_number": 4
    },
    {
     "cell_type": "code",
     "collapsed": false,
     "input": [
      "locs = makePoints(spacing = 'normal')\n",
      "locs = np.array(locs)\n",
      "\n",
      "velocities = []\n",
      "ring = 0\n",
      "for i in locs:\n",
      "    velocities.append([])\n",
      "    for j in i:\n",
      "        velocities[ring].append(initial_velocity(j))\n",
      "    ring += 1\n",
      "velocities = np.array(velocities)\n",
      "    \n",
      "galaxy_velocity_x = 8.141 #kpc per time step\n",
      "galaxy_velocity_y = -2. #kpc per time step\n",
      "galaxy_pos_x = -50. #kpc\n",
      "galaxy_pos_y = 75. #kpc\n",
      "    \n",
      "t = np.arange(-10., 10.1, .1)\n",
      "initial_condis = np.array([galaxy_pos_x, galaxy_pos_y, \n",
      "                           galaxy_velocity_x, galaxy_velocity_y])\n",
      "galaxy_locs = odeint(doublederivR, initial_condis, t)\n",
      "    \n",
      "Rx = galaxy_locs[:,0]\n",
      "Ry = galaxy_locs[:,1]\n",
      "    \n",
      "R = np.sqrt(Rx**2 + Ry**2)\n",
      "print R.min()"
     ],
     "language": "python",
     "metadata": {},
     "outputs": [
      {
       "output_type": "stream",
       "stream": "stdout",
       "text": [
        "25.0050013131\n"
       ]
      }
     ],
     "prompt_number": 5
    },
    {
     "cell_type": "code",
     "collapsed": false,
     "input": [
      "points_initial_condis = []\n",
      "for i in range(locs.size):\n",
      "    for j in range(len(locs[i])):\n",
      "        point_x = locs[i][j][0]\n",
      "        point_y = locs[i][j][1]\n",
      "        point_vx = velocities[i][j][0]\n",
      "        point_vy = velocities[i][j][1]\n",
      "        points_initial_condis.append([point_x, point_y, point_vx, point_vy])\n",
      "\n",
      "points_locs = []\n",
      "for i in points_initial_condis:\n",
      "    ans = odeint(doublederivr, np.array(i), t)\n",
      "    points_locs.append([ans[:,0], ans[:,1]])"
     ],
     "language": "python",
     "metadata": {},
     "outputs": [
      {
       "output_type": "stream",
       "stream": "stdout",
       "text": [
        "Excess work done on this call (perhaps wrong Dfun type).\n",
        "Run with full_output = 1 to get quantitative information.\n",
        "Excess work done on this call (perhaps wrong Dfun type)."
       ]
      },
      {
       "output_type": "stream",
       "stream": "stdout",
       "text": [
        "\n",
        "Run with full_output = 1 to get quantitative information.\n",
        "Excess work done on this call (perhaps wrong Dfun type)."
       ]
      },
      {
       "output_type": "stream",
       "stream": "stdout",
       "text": [
        "\n",
        "Run with full_output = 1 to get quantitative information.\n",
        "Excess work done on this call (perhaps wrong Dfun type)."
       ]
      },
      {
       "output_type": "stream",
       "stream": "stdout",
       "text": [
        "\n",
        "Run with full_output = 1 to get quantitative information.\n",
        "Excess work done on this call (perhaps wrong Dfun type)."
       ]
      },
      {
       "output_type": "stream",
       "stream": "stdout",
       "text": [
        "\n",
        "Run with full_output = 1 to get quantitative information.\n",
        "Excess work done on this call (perhaps wrong Dfun type)."
       ]
      },
      {
       "output_type": "stream",
       "stream": "stdout",
       "text": [
        "\n",
        "Run with full_output = 1 to get quantitative information.\n",
        "Excess work done on this call (perhaps wrong Dfun type)."
       ]
      },
      {
       "output_type": "stream",
       "stream": "stdout",
       "text": [
        "\n",
        "Run with full_output = 1 to get quantitative information.\n",
        "Excess work done on this call (perhaps wrong Dfun type)."
       ]
      },
      {
       "output_type": "stream",
       "stream": "stdout",
       "text": [
        "\n",
        "Run with full_output = 1 to get quantitative information.\n",
        "Excess work done on this call (perhaps wrong Dfun type)."
       ]
      },
      {
       "output_type": "stream",
       "stream": "stdout",
       "text": [
        "\n",
        "Run with full_output = 1 to get quantitative information.\n",
        "Excess work done on this call (perhaps wrong Dfun type)."
       ]
      },
      {
       "output_type": "stream",
       "stream": "stdout",
       "text": [
        "\n",
        "Run with full_output = 1 to get quantitative information.\n",
        "Excess work done on this call (perhaps wrong Dfun type)."
       ]
      },
      {
       "output_type": "stream",
       "stream": "stdout",
       "text": [
        "\n",
        "Run with full_output = 1 to get quantitative information.\n",
        "Excess work done on this call (perhaps wrong Dfun type)."
       ]
      },
      {
       "output_type": "stream",
       "stream": "stdout",
       "text": [
        "\n",
        "Run with full_output = 1 to get quantitative information.\n",
        "Excess work done on this call (perhaps wrong Dfun type)."
       ]
      },
      {
       "output_type": "stream",
       "stream": "stdout",
       "text": [
        "\n",
        "Run with full_output = 1 to get quantitative information.\n",
        "Excess work done on this call (perhaps wrong Dfun type)."
       ]
      },
      {
       "output_type": "stream",
       "stream": "stdout",
       "text": [
        "\n",
        "Run with full_output = 1 to get quantitative information.\n",
        "Excess work done on this call (perhaps wrong Dfun type)."
       ]
      },
      {
       "output_type": "stream",
       "stream": "stdout",
       "text": [
        "\n",
        "Run with full_output = 1 to get quantitative information.\n",
        "Excess work done on this call (perhaps wrong Dfun type)."
       ]
      },
      {
       "output_type": "stream",
       "stream": "stdout",
       "text": [
        "\n",
        "Run with full_output = 1 to get quantitative information.\n",
        "Excess work done on this call (perhaps wrong Dfun type)."
       ]
      },
      {
       "output_type": "stream",
       "stream": "stdout",
       "text": [
        "\n",
        "Run with full_output = 1 to get quantitative information.\n",
        "Excess work done on this call (perhaps wrong Dfun type)."
       ]
      },
      {
       "output_type": "stream",
       "stream": "stdout",
       "text": [
        "\n",
        "Run with full_output = 1 to get quantitative information.\n",
        "Excess work done on this call (perhaps wrong Dfun type)."
       ]
      },
      {
       "output_type": "stream",
       "stream": "stdout",
       "text": [
        "\n",
        "Run with full_output = 1 to get quantitative information.\n",
        "Excess work done on this call (perhaps wrong Dfun type)."
       ]
      },
      {
       "output_type": "stream",
       "stream": "stdout",
       "text": [
        "\n",
        "Run with full_output = 1 to get quantitative information.\n",
        "Excess work done on this call (perhaps wrong Dfun type)."
       ]
      },
      {
       "output_type": "stream",
       "stream": "stdout",
       "text": [
        "\n",
        "Run with full_output = 1 to get quantitative information.\n",
        "Excess work done on this call (perhaps wrong Dfun type)."
       ]
      },
      {
       "output_type": "stream",
       "stream": "stdout",
       "text": [
        "\n",
        "Run with full_output = 1 to get quantitative information.\n",
        "Excess work done on this call (perhaps wrong Dfun type)."
       ]
      },
      {
       "output_type": "stream",
       "stream": "stdout",
       "text": [
        "\n",
        "Run with full_output = 1 to get quantitative information.\n",
        "Excess work done on this call (perhaps wrong Dfun type)."
       ]
      },
      {
       "output_type": "stream",
       "stream": "stdout",
       "text": [
        "\n",
        "Run with full_output = 1 to get quantitative information.\n",
        "Excess work done on this call (perhaps wrong Dfun type)."
       ]
      },
      {
       "output_type": "stream",
       "stream": "stdout",
       "text": [
        "\n",
        "Run with full_output = 1 to get quantitative information.\n",
        "Excess work done on this call (perhaps wrong Dfun type)."
       ]
      },
      {
       "output_type": "stream",
       "stream": "stdout",
       "text": [
        "\n",
        "Run with full_output = 1 to get quantitative information.\n",
        "Excess work done on this call (perhaps wrong Dfun type)."
       ]
      },
      {
       "output_type": "stream",
       "stream": "stdout",
       "text": [
        "\n",
        "Run with full_output = 1 to get quantitative information.\n",
        "Excess work done on this call (perhaps wrong Dfun type)."
       ]
      },
      {
       "output_type": "stream",
       "stream": "stdout",
       "text": [
        "\n",
        "Run with full_output = 1 to get quantitative information.\n",
        "Excess work done on this call (perhaps wrong Dfun type)."
       ]
      },
      {
       "output_type": "stream",
       "stream": "stdout",
       "text": [
        "\n",
        "Run with full_output = 1 to get quantitative information.\n",
        "Excess work done on this call (perhaps wrong Dfun type)."
       ]
      },
      {
       "output_type": "stream",
       "stream": "stdout",
       "text": [
        "\n",
        "Run with full_output = 1 to get quantitative information.\n",
        "Excess work done on this call (perhaps wrong Dfun type)."
       ]
      },
      {
       "output_type": "stream",
       "stream": "stdout",
       "text": [
        "\n",
        "Run with full_output = 1 to get quantitative information.\n",
        "Excess work done on this call (perhaps wrong Dfun type)."
       ]
      },
      {
       "output_type": "stream",
       "stream": "stdout",
       "text": [
        "\n",
        "Run with full_output = 1 to get quantitative information.\n",
        "Excess work done on this call (perhaps wrong Dfun type)."
       ]
      },
      {
       "output_type": "stream",
       "stream": "stdout",
       "text": [
        "\n",
        "Run with full_output = 1 to get quantitative information.\n",
        "Excess work done on this call (perhaps wrong Dfun type)."
       ]
      },
      {
       "output_type": "stream",
       "stream": "stdout",
       "text": [
        "\n",
        "Run with full_output = 1 to get quantitative information.\n",
        "Excess work done on this call (perhaps wrong Dfun type)."
       ]
      },
      {
       "output_type": "stream",
       "stream": "stdout",
       "text": [
        "\n",
        "Run with full_output = 1 to get quantitative information.\n",
        "Excess work done on this call (perhaps wrong Dfun type)."
       ]
      },
      {
       "output_type": "stream",
       "stream": "stdout",
       "text": [
        "\n",
        "Run with full_output = 1 to get quantitative information.\n",
        "Excess work done on this call (perhaps wrong Dfun type)."
       ]
      },
      {
       "output_type": "stream",
       "stream": "stdout",
       "text": [
        "\n",
        "Run with full_output = 1 to get quantitative information.\n",
        "Excess work done on this call (perhaps wrong Dfun type)."
       ]
      },
      {
       "output_type": "stream",
       "stream": "stdout",
       "text": [
        "\n",
        "Run with full_output = 1 to get quantitative information.\n",
        "Excess work done on this call (perhaps wrong Dfun type)."
       ]
      },
      {
       "output_type": "stream",
       "stream": "stdout",
       "text": [
        "\n",
        "Run with full_output = 1 to get quantitative information.\n",
        "Excess work done on this call (perhaps wrong Dfun type)."
       ]
      },
      {
       "output_type": "stream",
       "stream": "stdout",
       "text": [
        "\n",
        "Run with full_output = 1 to get quantitative information.\n",
        "Excess work done on this call (perhaps wrong Dfun type)."
       ]
      },
      {
       "output_type": "stream",
       "stream": "stdout",
       "text": [
        "\n",
        "Run with full_output = 1 to get quantitative information.\n",
        "Excess work done on this call (perhaps wrong Dfun type)."
       ]
      },
      {
       "output_type": "stream",
       "stream": "stdout",
       "text": [
        "\n",
        "Run with full_output = 1 to get quantitative information.\n",
        "Excess work done on this call (perhaps wrong Dfun type)."
       ]
      },
      {
       "output_type": "stream",
       "stream": "stdout",
       "text": [
        "\n",
        "Run with full_output = 1 to get quantitative information.\n",
        "Excess work done on this call (perhaps wrong Dfun type)."
       ]
      },
      {
       "output_type": "stream",
       "stream": "stdout",
       "text": [
        "\n",
        "Run with full_output = 1 to get quantitative information.\n",
        "Excess work done on this call (perhaps wrong Dfun type)."
       ]
      },
      {
       "output_type": "stream",
       "stream": "stdout",
       "text": [
        "\n",
        "Run with full_output = 1 to get quantitative information.\n",
        "Excess work done on this call (perhaps wrong Dfun type)."
       ]
      },
      {
       "output_type": "stream",
       "stream": "stdout",
       "text": [
        "\n",
        "Run with full_output = 1 to get quantitative information.\n",
        "Excess work done on this call (perhaps wrong Dfun type)."
       ]
      },
      {
       "output_type": "stream",
       "stream": "stdout",
       "text": [
        "\n",
        "Run with full_output = 1 to get quantitative information.\n",
        "Excess work done on this call (perhaps wrong Dfun type)."
       ]
      },
      {
       "output_type": "stream",
       "stream": "stdout",
       "text": [
        "\n",
        "Run with full_output = 1 to get quantitative information.\n",
        "Excess work done on this call (perhaps wrong Dfun type)."
       ]
      },
      {
       "output_type": "stream",
       "stream": "stdout",
       "text": [
        "\n",
        "Run with full_output = 1 to get quantitative information.\n",
        "Excess work done on this call (perhaps wrong Dfun type)."
       ]
      },
      {
       "output_type": "stream",
       "stream": "stdout",
       "text": [
        "\n",
        "Run with full_output = 1 to get quantitative information.\n",
        "Excess work done on this call (perhaps wrong Dfun type)."
       ]
      },
      {
       "output_type": "stream",
       "stream": "stdout",
       "text": [
        "\n",
        "Run with full_output = 1 to get quantitative information.\n",
        "Excess work done on this call (perhaps wrong Dfun type)."
       ]
      },
      {
       "output_type": "stream",
       "stream": "stdout",
       "text": [
        "\n",
        "Run with full_output = 1 to get quantitative information.\n",
        "Excess work done on this call (perhaps wrong Dfun type)."
       ]
      },
      {
       "output_type": "stream",
       "stream": "stdout",
       "text": [
        "\n",
        "Run with full_output = 1 to get quantitative information.\n",
        "Excess work done on this call (perhaps wrong Dfun type)."
       ]
      },
      {
       "output_type": "stream",
       "stream": "stdout",
       "text": [
        "\n",
        "Run with full_output = 1 to get quantitative information.\n",
        "Excess work done on this call (perhaps wrong Dfun type)."
       ]
      },
      {
       "output_type": "stream",
       "stream": "stdout",
       "text": [
        "\n",
        "Run with full_output = 1 to get quantitative information.\n",
        "Excess work done on this call (perhaps wrong Dfun type)."
       ]
      },
      {
       "output_type": "stream",
       "stream": "stdout",
       "text": [
        "\n",
        "Run with full_output = 1 to get quantitative information.\n",
        "Excess work done on this call (perhaps wrong Dfun type)."
       ]
      },
      {
       "output_type": "stream",
       "stream": "stdout",
       "text": [
        "\n",
        "Run with full_output = 1 to get quantitative information.\n",
        "Excess work done on this call (perhaps wrong Dfun type)."
       ]
      },
      {
       "output_type": "stream",
       "stream": "stdout",
       "text": [
        "\n",
        "Run with full_output = 1 to get quantitative information.\n",
        "Excess work done on this call (perhaps wrong Dfun type)."
       ]
      },
      {
       "output_type": "stream",
       "stream": "stdout",
       "text": [
        "\n",
        "Run with full_output = 1 to get quantitative information.\n",
        "Excess work done on this call (perhaps wrong Dfun type)."
       ]
      },
      {
       "output_type": "stream",
       "stream": "stdout",
       "text": [
        "\n",
        "Run with full_output = 1 to get quantitative information.\n",
        "Excess work done on this call (perhaps wrong Dfun type)."
       ]
      },
      {
       "output_type": "stream",
       "stream": "stdout",
       "text": [
        "\n",
        "Run with full_output = 1 to get quantitative information.\n",
        "Excess work done on this call (perhaps wrong Dfun type)."
       ]
      },
      {
       "output_type": "stream",
       "stream": "stdout",
       "text": [
        "\n",
        "Run with full_output = 1 to get quantitative information.\n",
        "Excess work done on this call (perhaps wrong Dfun type)."
       ]
      },
      {
       "output_type": "stream",
       "stream": "stdout",
       "text": [
        "\n",
        "Run with full_output = 1 to get quantitative information.\n",
        "Excess work done on this call (perhaps wrong Dfun type)."
       ]
      },
      {
       "output_type": "stream",
       "stream": "stdout",
       "text": [
        "\n",
        "Run with full_output = 1 to get quantitative information.\n",
        "Excess work done on this call (perhaps wrong Dfun type)."
       ]
      },
      {
       "output_type": "stream",
       "stream": "stdout",
       "text": [
        "\n",
        "Run with full_output = 1 to get quantitative information.\n",
        "Excess work done on this call (perhaps wrong Dfun type)."
       ]
      },
      {
       "output_type": "stream",
       "stream": "stdout",
       "text": [
        "\n",
        "Run with full_output = 1 to get quantitative information.\n",
        "Excess work done on this call (perhaps wrong Dfun type)."
       ]
      },
      {
       "output_type": "stream",
       "stream": "stdout",
       "text": [
        "\n",
        "Run with full_output = 1 to get quantitative information.\n",
        "Excess work done on this call (perhaps wrong Dfun type)."
       ]
      },
      {
       "output_type": "stream",
       "stream": "stdout",
       "text": [
        "\n",
        "Run with full_output = 1 to get quantitative information.\n",
        "Excess work done on this call (perhaps wrong Dfun type)."
       ]
      },
      {
       "output_type": "stream",
       "stream": "stdout",
       "text": [
        "\n",
        "Run with full_output = 1 to get quantitative information.\n",
        "Excess work done on this call (perhaps wrong Dfun type)."
       ]
      },
      {
       "output_type": "stream",
       "stream": "stdout",
       "text": [
        "\n",
        "Run with full_output = 1 to get quantitative information.\n",
        "Excess work done on this call (perhaps wrong Dfun type)."
       ]
      },
      {
       "output_type": "stream",
       "stream": "stdout",
       "text": [
        "\n",
        "Run with full_output = 1 to get quantitative information.\n",
        "Excess work done on this call (perhaps wrong Dfun type)."
       ]
      },
      {
       "output_type": "stream",
       "stream": "stdout",
       "text": [
        "\n",
        "Run with full_output = 1 to get quantitative information.\n",
        "Excess work done on this call (perhaps wrong Dfun type)."
       ]
      },
      {
       "output_type": "stream",
       "stream": "stdout",
       "text": [
        "\n",
        "Run with full_output = 1 to get quantitative information.\n",
        "Excess work done on this call (perhaps wrong Dfun type)."
       ]
      },
      {
       "output_type": "stream",
       "stream": "stdout",
       "text": [
        "\n",
        "Run with full_output = 1 to get quantitative information.\n",
        "Excess work done on this call (perhaps wrong Dfun type)."
       ]
      },
      {
       "output_type": "stream",
       "stream": "stdout",
       "text": [
        "\n",
        "Run with full_output = 1 to get quantitative information.\n",
        "Excess work done on this call (perhaps wrong Dfun type)."
       ]
      },
      {
       "output_type": "stream",
       "stream": "stdout",
       "text": [
        "\n",
        "Run with full_output = 1 to get quantitative information.\n",
        "Excess work done on this call (perhaps wrong Dfun type)."
       ]
      },
      {
       "output_type": "stream",
       "stream": "stdout",
       "text": [
        "\n",
        "Run with full_output = 1 to get quantitative information.\n",
        "Excess work done on this call (perhaps wrong Dfun type)."
       ]
      },
      {
       "output_type": "stream",
       "stream": "stdout",
       "text": [
        "\n",
        "Run with full_output = 1 to get quantitative information.\n",
        "Excess work done on this call (perhaps wrong Dfun type)."
       ]
      },
      {
       "output_type": "stream",
       "stream": "stdout",
       "text": [
        "\n",
        "Run with full_output = 1 to get quantitative information.\n",
        "Excess work done on this call (perhaps wrong Dfun type)."
       ]
      },
      {
       "output_type": "stream",
       "stream": "stdout",
       "text": [
        "\n",
        "Run with full_output = 1 to get quantitative information.\n",
        "Excess work done on this call (perhaps wrong Dfun type)."
       ]
      },
      {
       "output_type": "stream",
       "stream": "stdout",
       "text": [
        "\n",
        "Run with full_output = 1 to get quantitative information.\n",
        "Excess work done on this call (perhaps wrong Dfun type)."
       ]
      },
      {
       "output_type": "stream",
       "stream": "stdout",
       "text": [
        "\n",
        "Run with full_output = 1 to get quantitative information.\n",
        "Excess work done on this call (perhaps wrong Dfun type)."
       ]
      },
      {
       "output_type": "stream",
       "stream": "stdout",
       "text": [
        "\n",
        "Run with full_output = 1 to get quantitative information.\n",
        "Excess work done on this call (perhaps wrong Dfun type)."
       ]
      },
      {
       "output_type": "stream",
       "stream": "stdout",
       "text": [
        "\n",
        "Run with full_output = 1 to get quantitative information.\n",
        "Excess work done on this call (perhaps wrong Dfun type)."
       ]
      },
      {
       "output_type": "stream",
       "stream": "stdout",
       "text": [
        "\n",
        "Run with full_output = 1 to get quantitative information.\n",
        "Excess work done on this call (perhaps wrong Dfun type)."
       ]
      },
      {
       "output_type": "stream",
       "stream": "stdout",
       "text": [
        "\n",
        "Run with full_output = 1 to get quantitative information.\n",
        "Excess work done on this call (perhaps wrong Dfun type)."
       ]
      },
      {
       "output_type": "stream",
       "stream": "stdout",
       "text": [
        "\n",
        "Run with full_output = 1 to get quantitative information.\n",
        "Excess work done on this call (perhaps wrong Dfun type)."
       ]
      },
      {
       "output_type": "stream",
       "stream": "stdout",
       "text": [
        "\n",
        "Run with full_output = 1 to get quantitative information.\n",
        "Excess work done on this call (perhaps wrong Dfun type)."
       ]
      },
      {
       "output_type": "stream",
       "stream": "stdout",
       "text": [
        "\n",
        "Run with full_output = 1 to get quantitative information.\n",
        "Excess work done on this call (perhaps wrong Dfun type)."
       ]
      },
      {
       "output_type": "stream",
       "stream": "stdout",
       "text": [
        "\n",
        "Run with full_output = 1 to get quantitative information.\n",
        "Excess work done on this call (perhaps wrong Dfun type)."
       ]
      },
      {
       "output_type": "stream",
       "stream": "stdout",
       "text": [
        "\n",
        "Run with full_output = 1 to get quantitative information.\n",
        "Excess work done on this call (perhaps wrong Dfun type)."
       ]
      },
      {
       "output_type": "stream",
       "stream": "stdout",
       "text": [
        "\n",
        "Run with full_output = 1 to get quantitative information.\n",
        "Excess work done on this call (perhaps wrong Dfun type)."
       ]
      },
      {
       "output_type": "stream",
       "stream": "stdout",
       "text": [
        "\n",
        "Run with full_output = 1 to get quantitative information.\n",
        "Excess work done on this call (perhaps wrong Dfun type)."
       ]
      },
      {
       "output_type": "stream",
       "stream": "stdout",
       "text": [
        "\n",
        "Run with full_output = 1 to get quantitative information.\n",
        "Excess work done on this call (perhaps wrong Dfun type)."
       ]
      },
      {
       "output_type": "stream",
       "stream": "stdout",
       "text": [
        "\n",
        "Run with full_output = 1 to get quantitative information.\n",
        "Excess work done on this call (perhaps wrong Dfun type)."
       ]
      },
      {
       "output_type": "stream",
       "stream": "stdout",
       "text": [
        "\n",
        "Run with full_output = 1 to get quantitative information.\n",
        "Excess work done on this call (perhaps wrong Dfun type)."
       ]
      },
      {
       "output_type": "stream",
       "stream": "stdout",
       "text": [
        "\n",
        "Run with full_output = 1 to get quantitative information.\n",
        "Excess work done on this call (perhaps wrong Dfun type)."
       ]
      },
      {
       "output_type": "stream",
       "stream": "stdout",
       "text": [
        "\n",
        "Run with full_output = 1 to get quantitative information.\n",
        "Excess work done on this call (perhaps wrong Dfun type)."
       ]
      },
      {
       "output_type": "stream",
       "stream": "stdout",
       "text": [
        "\n",
        "Run with full_output = 1 to get quantitative information.\n",
        "Excess work done on this call (perhaps wrong Dfun type)."
       ]
      },
      {
       "output_type": "stream",
       "stream": "stdout",
       "text": [
        "\n",
        "Run with full_output = 1 to get quantitative information.\n",
        "Excess work done on this call (perhaps wrong Dfun type)."
       ]
      },
      {
       "output_type": "stream",
       "stream": "stdout",
       "text": [
        "\n",
        "Run with full_output = 1 to get quantitative information.\n",
        "Excess work done on this call (perhaps wrong Dfun type)."
       ]
      },
      {
       "output_type": "stream",
       "stream": "stdout",
       "text": [
        "\n",
        "Run with full_output = 1 to get quantitative information.\n",
        "Excess work done on this call (perhaps wrong Dfun type)."
       ]
      },
      {
       "output_type": "stream",
       "stream": "stdout",
       "text": [
        "\n",
        "Run with full_output = 1 to get quantitative information.\n",
        "Excess work done on this call (perhaps wrong Dfun type)."
       ]
      },
      {
       "output_type": "stream",
       "stream": "stdout",
       "text": [
        "\n",
        "Run with full_output = 1 to get quantitative information.\n",
        "Excess work done on this call (perhaps wrong Dfun type)."
       ]
      },
      {
       "output_type": "stream",
       "stream": "stdout",
       "text": [
        "\n",
        "Run with full_output = 1 to get quantitative information.\n",
        "Excess work done on this call (perhaps wrong Dfun type)."
       ]
      },
      {
       "output_type": "stream",
       "stream": "stdout",
       "text": [
        "\n",
        "Run with full_output = 1 to get quantitative information.\n",
        "Excess work done on this call (perhaps wrong Dfun type)."
       ]
      },
      {
       "output_type": "stream",
       "stream": "stdout",
       "text": [
        "\n",
        "Run with full_output = 1 to get quantitative information.\n",
        "Excess work done on this call (perhaps wrong Dfun type)."
       ]
      },
      {
       "output_type": "stream",
       "stream": "stdout",
       "text": [
        "\n",
        "Run with full_output = 1 to get quantitative information.\n",
        "Excess work done on this call (perhaps wrong Dfun type)."
       ]
      },
      {
       "output_type": "stream",
       "stream": "stdout",
       "text": [
        "\n",
        "Run with full_output = 1 to get quantitative information.\n",
        "Excess work done on this call (perhaps wrong Dfun type)."
       ]
      },
      {
       "output_type": "stream",
       "stream": "stdout",
       "text": [
        "\n",
        "Run with full_output = 1 to get quantitative information.\n",
        "Excess work done on this call (perhaps wrong Dfun type)."
       ]
      },
      {
       "output_type": "stream",
       "stream": "stdout",
       "text": [
        "\n",
        "Run with full_output = 1 to get quantitative information.\n",
        "Excess work done on this call (perhaps wrong Dfun type)."
       ]
      },
      {
       "output_type": "stream",
       "stream": "stdout",
       "text": [
        "\n",
        "Run with full_output = 1 to get quantitative information.\n",
        "Excess work done on this call (perhaps wrong Dfun type)."
       ]
      },
      {
       "output_type": "stream",
       "stream": "stdout",
       "text": [
        "\n",
        "Run with full_output = 1 to get quantitative information.\n",
        "Excess work done on this call (perhaps wrong Dfun type)."
       ]
      },
      {
       "output_type": "stream",
       "stream": "stdout",
       "text": [
        "\n",
        "Run with full_output = 1 to get quantitative information.\n"
       ]
      }
     ],
     "prompt_number": 6
    },
    {
     "cell_type": "code",
     "collapsed": false,
     "input": [
      "points_locs = np.array(points_locs)"
     ],
     "language": "python",
     "metadata": {},
     "outputs": [],
     "prompt_number": 7
    },
    {
     "cell_type": "code",
     "collapsed": false,
     "input": [
      "def interact_points(t = -10.):\n",
      "    '''\n",
      "    Rx, Ry, and points_locs must be in global namespace for this to work\n",
      "    t ranges from -10. to 10. and serves as the time\n",
      "    '''\n",
      "    t += 10.\n",
      "    t /= .1\n",
      "    plt.plot(-Rx[t], -Ry[t], marker = 'o')\n",
      "    for i in points_locs:\n",
      "        rx = i[0]\n",
      "        ry = i[1]\n",
      "        plt.plot(rx[t], ry[t], marker = 'o', color = 'k', markersize = 1)\n",
      "    plt.xlim(-100, 100)\n",
      "    plt.ylim(-100, 100)\n",
      "    plt.show()\n",
      "    \n",
      "v = interact(interact_points, t = (-10., 10.))"
     ],
     "language": "python",
     "metadata": {},
     "outputs": [
      {
       "metadata": {},
       "output_type": "display_data",
       "png": "[encoded data removed]",
       "text": [
        "<matplotlib.figure.Figure at 0x9f5b320>"
       ]
      }
     ],
     "prompt_number": 8
    },
    {
     "cell_type": "code",
     "collapsed": false,
     "input": [],
     "language": "python",
     "metadata": {},
     "outputs": [],
     "prompt_number": 8
    }
   ],
   "metadata": {}
  }
 ]
}