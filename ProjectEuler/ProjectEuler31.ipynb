{
 "metadata": {
  "name": "",
  "signature": "sha256:3d187f1effc94bbd75391af67824f93b301d01a6b3c19e7c69efbf15386b841e"
 },
 "nbformat": 3,
 "nbformat_minor": 0,
 "worksheets": [
  {
   "cells": [
    {
     "cell_type": "heading",
     "level": 1,
     "metadata": {},
     "source": [
      "Coin Sums"
     ]
    },
    {
     "cell_type": "heading",
     "level": 3,
     "metadata": {},
     "source": [
      "Problem 31"
     ]
    },
    {
     "cell_type": "markdown",
     "metadata": {},
     "source": [
      "In England the currency is made up of pound, \u00a3, and pence, p, and there are eight coins in general circulation:\n",
      "\n",
      "1p, 2p, 5p, 10p, 20p, 50p, \u00a31 (100p) and \u00a32 (200p).\n",
      "It is possible to make \u00a32 in the following way:\n",
      "\n",
      "1\u00d7\u00a31 + 1\u00d750p + 2\u00d720p + 1\u00d75p + 1\u00d72p + 3\u00d71p\n",
      "How many different ways can \u00a32 be made using any number of coins?"
     ]
    },
    {
     "cell_type": "code",
     "collapsed": false,
     "input": [
      "import numpy as np\n",
      "\n",
      "def coin_sum(value):\n",
      "    \"\"\"Takes a value in pounds and then uses nested for loops to cycle through all the possible compinations\n",
      "    of coins that add up to the value in pence. This is done by having a for loop for each denomination of coin\n",
      "    besides the one pence coin. The loops go through each possible combination while never having the coins add \n",
      "    up to more than the value because the previous amounts (stored in a, b, c, d...) are used to create the \n",
      "    possible amounts of coins of lower denominations. Count is incremented for each possible combination.\n",
      "    \n",
      "    The one pence coin is left out because for any amount less than the input value one pence coins can be added to make \n",
      "    the amount equal the input value so adding a for loop for the one pence coin would make count increment for any value \n",
      "    equal to or below the input value, not just for amounts equal to the value.\"\"\"\n",
      "    \n",
      "    #Translates value into pence and then adds one to fix any off by one errors in for loop ranges\n",
      "    value = value * 100 + 1\n",
      "    \n",
      "    count = 0\n",
      " \n",
      "    for a in range(0, value, 200):\n",
      "        for b in range(a, value, 100):\n",
      "            for c in range(b, value, 50):\n",
      "                for d in range(c, value, 20):\n",
      "                    for e in range(d, value, 10):\n",
      "                        for f in range(e, value, 5):\n",
      "                            for g in range(f, value, 2):\n",
      "                                #For every g, single pence coins can always\n",
      "                                #be added to make a combination that adds up to\n",
      "                                #the two pounds we need in the end\n",
      "                                #Because of that, every g value allowed by the\n",
      "                                #code represents one possible solution\n",
      "                                #Hence, count is incremented at this point\n",
      "                                count+=1\n",
      "    return count\n"
     ],
     "language": "python",
     "metadata": {},
     "outputs": [],
     "prompt_number": 13
    },
    {
     "cell_type": "code",
     "collapsed": false,
     "input": [
      "print coin_sum(2)"
     ],
     "language": "python",
     "metadata": {},
     "outputs": [
      {
       "output_type": "stream",
       "stream": "stdout",
       "text": [
        "73682\n"
       ]
      }
     ],
     "prompt_number": 14
    },
    {
     "cell_type": "code",
     "collapsed": false,
     "input": [],
     "language": "python",
     "metadata": {},
     "outputs": [],
     "prompt_number": 14
    },
    {
     "cell_type": "code",
     "collapsed": false,
     "input": [],
     "language": "python",
     "metadata": {},
     "outputs": [],
     "prompt_number": 14
    },
    {
     "cell_type": "code",
     "collapsed": false,
     "input": [],
     "language": "python",
     "metadata": {},
     "outputs": [],
     "prompt_number": 14
    },
    {
     "cell_type": "code",
     "collapsed": false,
     "input": [],
     "language": "python",
     "metadata": {},
     "outputs": [],
     "prompt_number": 14
    },
    {
     "cell_type": "code",
     "collapsed": false,
     "input": [],
     "language": "python",
     "metadata": {},
     "outputs": []
    }
   ],
   "metadata": {}
  }
 ]
}