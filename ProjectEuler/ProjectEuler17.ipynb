{
 "metadata": {
  "name": "",
  "signature": "sha256:c16be9be78968c7851f13984beeb91479fd508c32f20a08436fc5a3628fd2aa7"
 },
 "nbformat": 3,
 "nbformat_minor": 0,
 "worksheets": [
  {
   "cells": [
    {
     "cell_type": "heading",
     "level": 1,
     "metadata": {},
     "source": [
      "Number Letter Counts"
     ]
    },
    {
     "cell_type": "markdown",
     "metadata": {},
     "source": [
      "If the numbers 1 to 5 are written out in words: one, two, three, four, five, then there are 3 + 3 + 5 + 4 + 4 = 19 letters used in total.\n",
      "\n",
      "If all the numbers from 1 to 1000 (one thousand) inclusive were written out in words, how many letters would be used?\n",
      "\n",
      "\n",
      "NOTE: Do not count spaces or hyphens. For example, 342 (three hundred and forty-two) contains 23 letters and 115 (one hundred and fifteen) contains 20 letters. The use of \"and\" when writing out numbers is in compliance with British usage."
     ]
    },
    {
     "cell_type": "code",
     "collapsed": false,
     "input": [
      "def num_letter_counts(num):\n",
      "    '''Takes a number 1000 or lower and counts up the number of letters from one to that number'''\n",
      "    \n",
      "    #keeps track of number of letters in first 10 digits\n",
      "    base = {0: 0, 1: 3, 2: 3, 3: 5, 4: 4, 5: 4, 6: 3, 7: 5, 8: 5, 9: 4}\n",
      "    \n",
      "    #keeps track of number of letters in 'the teens' - from 10 to 19\n",
      "    teens = {10: 3, 11: 6, 12: 6, 13: 8, 14: 8, 15: 7, 16: 7, 17: 9, 18: 8, 19: 8}\n",
      "    \n",
      "    #keeps track of the number of letters in the multiples of ten (Ex. twenty, thirt, forty, eighty)\n",
      "    #stores them as just their single digits, so 2 = 20, 3 = 30, 4 = 40, etc.\n",
      "    multiples_ten = {2: 6, 3: 6, 4: 5, 5: 5, 6: 5, 7: 7, 8: 6, 9: 6}\n",
      "    \n",
      "    #number of letters in the words 'hundred', 'thousand', and 'and' \n",
      "    hundred = 7\n",
      "    thousand = 8\n",
      "    and_word = 3\n",
      "    \n",
      "    count = 0\n",
      "    for i in range(1, num + 1):\n",
      "        if i == 1000:\n",
      "            count += base[1] + thousand\n",
      "            break\n",
      "        if i > 99 and i < 1000:\n",
      "            count += hundred\n",
      "            count += base[i / 100]\n",
      "            if i % 100 != 0:\n",
      "                count += and_word\n",
      "        \n",
      "        i = i % 100\n",
      "        if i < 10:\n",
      "            count += base[i]\n",
      "        elif i < 20:\n",
      "            count += teens[i]\n",
      "        elif i < 100:\n",
      "            count += base[i % 10]\n",
      "            count += multiples_ten[i / 10]\n",
      "    \n",
      "    return count"
     ],
     "language": "python",
     "metadata": {},
     "outputs": [],
     "prompt_number": 22
    },
    {
     "cell_type": "code",
     "collapsed": false,
     "input": [
      "print num_letter_counts(5)"
     ],
     "language": "python",
     "metadata": {},
     "outputs": [
      {
       "output_type": "stream",
       "stream": "stdout",
       "text": [
        "19\n"
       ]
      }
     ],
     "prompt_number": 25
    },
    {
     "cell_type": "code",
     "collapsed": false,
     "input": [
      "print num_letter_counts(1000)"
     ],
     "language": "python",
     "metadata": {},
     "outputs": [
      {
       "output_type": "stream",
       "stream": "stdout",
       "text": [
        "21124\n"
       ]
      }
     ],
     "prompt_number": 26
    },
    {
     "cell_type": "code",
     "collapsed": false,
     "input": [],
     "language": "python",
     "metadata": {},
     "outputs": []
    }
   ],
   "metadata": {}
  }
 ]
}