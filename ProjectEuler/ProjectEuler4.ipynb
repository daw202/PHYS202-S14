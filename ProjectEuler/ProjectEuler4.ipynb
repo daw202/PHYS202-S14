{
 "metadata": {
  "name": "",
  "signature": "sha256:51326f9880c0c4b76f85208789d655f3179eba1ad88b2b2dc4498f275e01f316"
 },
 "nbformat": 3,
 "nbformat_minor": 0,
 "worksheets": [
  {
   "cells": [
    {
     "cell_type": "heading",
     "level": 1,
     "metadata": {},
     "source": [
      "Largest palindrome product"
     ]
    },
    {
     "cell_type": "markdown",
     "metadata": {},
     "source": [
      "A palindromic number reads the same both ways. The largest palindrome made from the product of two 2-digit numbers is 9009 = 91 \u00d7 99.\n",
      "\n",
      "Find the largest palindrome made from the product of two 3-digit numbers."
     ]
    },
    {
     "cell_type": "code",
     "collapsed": false,
     "input": [
      "%pylab inline"
     ],
     "language": "python",
     "metadata": {},
     "outputs": [
      {
       "output_type": "stream",
       "stream": "stdout",
       "text": [
        "Populating the interactive namespace from numpy and matplotlib\n"
       ]
      }
     ],
     "prompt_number": 1
    },
    {
     "cell_type": "code",
     "collapsed": false,
     "input": [
      "def palindrome_product(num):\n",
      "    '''\n",
      "    Calculates the largest palindrome product for numbers less than num\n",
      "    '''\n",
      "    palindromes = []\n",
      "    for i in np.array(range(1, num))[::-1]:\n",
      "        for j in np.array(range(1, num))[::-1]:\n",
      "            a = i*j\n",
      "            if str(a) == str(a)[::-1]:\n",
      "                palindromes.append([a, i, j])\n",
      "    palindromes = np.array(palindromes)\n",
      "    maximum = max(palindromes[:,0])\n",
      "    for i in palindromes:\n",
      "        if i[0] == maximum:\n",
      "            return i\n",
      "    return 'Program did not work right, and it should always work so something is weird'"
     ],
     "language": "python",
     "metadata": {},
     "outputs": [],
     "prompt_number": 60
    },
    {
     "cell_type": "code",
     "collapsed": false,
     "input": [
      "a = palindrome_product(100)\n",
      "print 'The largest palindrome product using numbers under %i is %i (formed by %i x %i).' \\\n",
      "        % (100, a[0], a[1], a[2])"
     ],
     "language": "python",
     "metadata": {},
     "outputs": [
      {
       "output_type": "stream",
       "stream": "stdout",
       "text": [
        "The largest palindrome product using numbers under 100 is 9009 (formed by 99 x 91).\n"
       ]
      }
     ],
     "prompt_number": 66
    },
    {
     "cell_type": "code",
     "collapsed": false,
     "input": [
      "#may take a few seconds to run... about 10 or 15 or so.\n",
      "a = palindrome_product(1000)\n",
      "print 'The largest palindrome product using numbers under %i is %i (formed by %i x %i).' \\\n",
      "        % (1000, a[0], a[1], a[2])"
     ],
     "language": "python",
     "metadata": {},
     "outputs": [
      {
       "output_type": "stream",
       "stream": "stdout",
       "text": [
        "The largest palindrome product using numbers under 1000 is 906609 (formed by 993 x 913).\n"
       ]
      }
     ],
     "prompt_number": 68
    },
    {
     "cell_type": "code",
     "collapsed": false,
     "input": [],
     "language": "python",
     "metadata": {},
     "outputs": []
    }
   ],
   "metadata": {}
  }
 ]
}