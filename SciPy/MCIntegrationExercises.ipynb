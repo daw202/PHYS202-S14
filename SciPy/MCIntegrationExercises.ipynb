{
 "metadata": {
  "name": "",
  "signature": "sha256:06ba3e81d34a915baf3696cd9fb14be3021b1a0c2a292dedd4ff1014b674d0b0"
 },
 "nbformat": 3,
 "nbformat_minor": 0,
 "worksheets": [
  {
   "cells": [
    {
     "cell_type": "heading",
     "level": 1,
     "metadata": {},
     "source": [
      "Monte Carlo Integration Exercises"
     ]
    },
    {
     "cell_type": "code",
     "collapsed": false,
     "input": [
      "%pylab inline"
     ],
     "language": "python",
     "metadata": {},
     "outputs": [
      {
       "output_type": "stream",
       "stream": "stdout",
       "text": [
        "Populating the interactive namespace from numpy and matplotlib\n"
       ]
      }
     ],
     "prompt_number": 1
    },
    {
     "cell_type": "heading",
     "level": 3,
     "metadata": {},
     "source": [
      "Question 1"
     ]
    },
    {
     "cell_type": "markdown",
     "metadata": {},
     "source": [
      "Let\u2019s compute the electric potential from a plane of charge as shown in the figure using Monte Carlo integration.\n",
      "\n",
      "The integral comes from summing all the potentials from the chunks of \u201cpoint\u201d charges. Just as we summed two charges for a dipole, now we\u2019ll sum many charges. The important part is to understand how dQ, modeled as a point charge, is related to \u03c3dA, where \u03c3 is the surface charge density = charge/area (\u03c3=Q/A ) Review your notes from PHYS 133 if you need a refresher.\n",
      "\n",
      "We want to use our previously defined pointPotential() function from Electrostatics.py, so we have to import it."
     ]
    },
    {
     "cell_type": "code",
     "collapsed": false,
     "input": [
      "#import our point potential function\n",
      "from Electrostatics import *"
     ],
     "language": "python",
     "metadata": {},
     "outputs": [],
     "prompt_number": 2
    },
    {
     "cell_type": "markdown",
     "metadata": {},
     "source": [
      "(a) Use the sample mean method to compute the potential at point P(2,3) due to the disk of charge for different numbers of samples N=(101,102,103,104,105,106). Report the value and its statistical uncertainty for each sample size. How does the result depend on N?"
     ]
    },
    {
     "cell_type": "code",
     "collapsed": false,
     "input": [
      "!cat Electrostatics.py"
     ],
     "language": "python",
     "metadata": {},
     "outputs": [
      {
       "output_type": "stream",
       "stream": "stdout",
       "text": [
        "\r\n",
        "import numpy as np\r\n",
        "\r\n",
        "def pointPotential(x, y, q, Xc, Yc):\r\n",
        "    '''\r\n",
        "    Return the electric potential for a point charge q at (Xc, Yc)\r\n",
        "    \r\n",
        "    Units returned are [Volts] if input units are [meters] and [Coulombs]\r\n",
        "    '''\r\n",
        "    k = 8.987551787997912e9 #units (Nm^2/C^2)\r\n",
        "    \r\n",
        "    Vxy = k*q/np.sqrt(((x - Xc)**2 + (y - Yc)**2))\r\n",
        "    return Vxy\r\n",
        "\r\n",
        "def dipolePotential(x, y, q, d):\r\n",
        "    '''\r\n",
        "    Return the electric potential for a pair of point charges +/- q\r\n",
        "    separated by distance d along the x - axis with their midpoint at (0,0).\r\n",
        "    \r\n",
        "    Units returned are [Volts] if input units are [meters] and [Coulombs]\r\n",
        "    '''\r\n",
        "    Vxy = pointPotential(x, y, q, -d/2., 0.) + pointPotential(x, y, -q, +d/2.,0.)\r\n",
        "    return Vxy"
       ]
      }
     ],
     "prompt_number": 3
    },
    {
     "cell_type": "code",
     "collapsed": false,
     "input": [
      "xmin = -1.; xmax = 1.\n",
      "ymin = 0.; ymax = 2.\n",
      "A = (ymax - ymin) * (ymax - ymin)\n",
      "scd = 1. * 10**(-6) #C / m^2\n",
      "f = lambda q, x, y: pointPotential(2, 3, q, x, y)\n",
      "\n",
      "N = [10, 10**2, 10**3, 10**4, 10**5, 10**6]\n",
      "for i in N:\n",
      "    samples_x = xmin + (xmax - xmin) * np.random.random_sample(i)\n",
      "    samples_y = ymin + (ymax - ymin) * np.random.random_sample(i)\n",
      "    approx = f(scd, samples_x, samples_y)\n",
      "    I = approx.mean() * A\n",
      "    \n",
      "    Iunc = A * np.sqrt(((approx**2).mean() - (approx.mean()**2))/i)\n",
      "    \n",
      "    print 'Point potential: %f,\\tStatistical uncertainty: %f' % (I, Iunc)"
     ],
     "language": "python",
     "metadata": {},
     "outputs": [
      {
       "output_type": "stream",
       "stream": "stdout",
       "text": [
        "Point potential: 12047.754928,\tStatistical uncertainty: 717.636076\n",
        "Point potential: 12868.859703,\tStatistical uncertainty: 280.720243\n",
        "Point potential: 12963.850718,\tStatistical uncertainty: 92.353139\n",
        "Point potential: 13021.583037,\tStatistical uncertainty: 29.701260\n",
        "Point potential: 13017.795573,\tStatistical uncertainty: 9.378187\n",
        "Point potential: 13028.975478,\tStatistical uncertainty: 2.974918"
       ]
      },
      {
       "output_type": "stream",
       "stream": "stdout",
       "text": [
        "\n"
       ]
      }
     ],
     "prompt_number": 4
    },
    {
     "cell_type": "markdown",
     "metadata": {},
     "source": [
      "(b) Now use the same method to compute the electric potential, V, at point P(2,3), from a disk centered on the origin with radius, R=1.2 m, and charge density, \u03c3 = 2 nC/m2 .\n",
      "\n",
      "The integral is\n",
      "V=\u222b2\u03c00\u222b1.20K\u03c3/|r\u2212r0|rd\u03b8dr"
     ]
    },
    {
     "cell_type": "code",
     "collapsed": false,
     "input": [
      "rmin = 0.; rmax = 1.2\n",
      "thetamin = 0.; thetamax = 2. * pi\n",
      "A = pi * (rmax - rmin)**2\n",
      "scd = 2. * 10**(-9) #C / m^2\n",
      "f = lambda q, x, y: pointPotential(2, 3, q, x, y)\n",
      "\n",
      "N = [10, 10**2, 10**3, 10**4, 10**5, 10**6]\n",
      "for i in N:\n",
      "    samples_r = rmin + (rmax - rmin) * np.random.random_sample(i)\n",
      "    samples_theta = thetamin + (thetamax - thetamin) * np.random.random_sample(i)\n",
      "    samples_x = samples_r * cos(samples_theta)\n",
      "    samples_y = samples_r * sin(samples_theta)\n",
      "    approx = f(scd, samples_x, samples_y)\n",
      "    \n",
      "    I = approx.mean() * A\n",
      "    \n",
      "    Iunc = A * np.sqrt(((approx**2).mean() - (approx.mean()**2))/i)\n",
      "\n",
      "    print 'Point potential: %f, Statistical uncertainty: %f' % (I, Iunc)"
     ],
     "language": "python",
     "metadata": {},
     "outputs": [
      {
       "output_type": "stream",
       "stream": "stdout",
       "text": [
        "Point potential: 23.450961, Statistical uncertainty: 1.024728\n",
        "Point potential: 22.812166, Statistical uncertainty: 0.305946\n",
        "Point potential: 23.015202, Statistical uncertainty: 0.104219\n",
        "Point potential: 22.790000, Statistical uncertainty: 0.031613\n",
        "Point potential: 22.778608, Statistical uncertainty: 0.010189\n",
        "Point potential: 22.776857, Statistical uncertainty: 0.003216"
       ]
      },
      {
       "output_type": "stream",
       "stream": "stdout",
       "text": [
        "\n"
       ]
      }
     ],
     "prompt_number": 5
    },
    {
     "cell_type": "heading",
     "level": 3,
     "metadata": {},
     "source": [
      "Question 2"
     ]
    },
    {
     "cell_type": "markdown",
     "metadata": {},
     "source": [
      "Use the sample mean method to compute the volume of a sphere with radius 1 using spherical coordinates:\n",
      "V=\u222b10\u222b\u03c00\u222b2\u03c00r2sin(\u03b8)drd\u03b8d\u03d5\n",
      "for N=(101,102,103,104,105,106). Report the value and statistical uncertainty for each sample size. How does the result depend on N?"
     ]
    },
    {
     "cell_type": "code",
     "collapsed": false,
     "input": [
      "rmin = 0.; rmax = 1.\n",
      "thetamin = 0.; thetamax = np.pi\n",
      "phimin = 0.; phimax = 2. * np.pi\n",
      "\n",
      "f = lambda r, theta, phi: r ** 2 * sin(theta)\n",
      "\n",
      "N = [10, 10**2, 10**3, 10**4, 10**5, 10**6]\n",
      "for i in N:\n",
      "    samples_r = rmin + (rmax - rmin) * np.random.random_sample(i)\n",
      "    samples_theta = thetamin + (thetamax - thetamin) * np.random.random_sample(i)\n",
      "    samples_phi = phimin + (phimax - phimin) * np.random.random_sample(i)\n",
      "    \n",
      "    I = (rmax-rmin)*(thetamax-thetamin)*(phimax-phimin)*f(samples_r, samples_theta, samples_phi).mean()\n",
      "    Iunc = (rmax-rmin)*(thetamax-thetamin)*(phimax-phimin)*sqrt(((f(samples_r, samples_theta, samples_phi)**2).mean() - \n",
      "                                                                 (f(samples_r, samples_theta, samples_phi).mean())**2)/i)\n",
      "    \n",
      "    print 'Volume: %f, Statistical uncertainty: %f' % (I, Iunc)"
     ],
     "language": "python",
     "metadata": {},
     "outputs": [
      {
       "output_type": "stream",
       "stream": "stdout",
       "text": [
        "Volume: 4.202536, Statistical uncertainty: 0.803136\n",
        "Volume: 3.815489, Statistical uncertainty: 0.463438\n",
        "Volume: 4.167031, Statistical uncertainty: 0.145619\n",
        "Volume: 4.190848, Statistical uncertainty: 0.046346\n",
        "Volume: 4.201866, Statistical uncertainty: 0.014668\n",
        "Volume: 4.189034, Statistical uncertainty: 0.004628"
       ]
      },
      {
       "output_type": "stream",
       "stream": "stdout",
       "text": [
        "\n"
       ]
      }
     ],
     "prompt_number": 6
    },
    {
     "cell_type": "heading",
     "level": 3,
     "metadata": {},
     "source": [
      "Question 3"
     ]
    },
    {
     "cell_type": "markdown",
     "metadata": {},
     "source": [
      "(a) Use the hit or miss Monte Carlo method to estimate the integral of f(x)=4\u221a1-x^2 in the interval 0\u2264x\u22641 as a function of N, the number of samples. Let N range from 101 to 106 and use at least 100 different values for N.  \n",
      "(np.logspace might be useful here to get evenly spaced values for N.)"
     ]
    },
    {
     "cell_type": "code",
     "collapsed": false,
     "input": [
      "f = lambda x: 4 * sqrt(1 - x **2)\n",
      "N = np.logspace(1, 6, 100)\n",
      "\n",
      "results = []\n",
      "for i in N:\n",
      "    samples_x = np.random.random_sample(i)\n",
      "    samples_y = 4. * np.random.random_sample(i)\n",
      "    mask = (samples_y < f(samples_x))\n",
      "    I = 4.*mask.sum() / mask.size\n",
      "    results.append(I)\n",
      "    print 'Estimated area with %f samples: %f' % (i, I)"
     ],
     "language": "python",
     "metadata": {},
     "outputs": [
      {
       "output_type": "stream",
       "stream": "stdout",
       "text": [
        "Estimated area with 10.000000 samples: 4.000000\n",
        "Estimated area with 11.233240 samples: 3.636364\n",
        "Estimated area with 12.618569 samples: 3.666667\n",
        "Estimated area with 14.174742 samples: 2.571429\n",
        "Estimated area with 15.922828 samples: 4.000000\n",
        "Estimated area with 17.886495 samples: 3.294118\n",
        "Estimated area with 20.092330 samples: 3.400000\n",
        "Estimated area with 22.570197 samples: 3.272727\n",
        "Estimated area with 25.353645 samples: 2.720000\n",
        "Estimated area with 28.480359 samples: 3.428571\n",
        "Estimated area with 31.992671 samples: 3.354839\n",
        "Estimated area with 35.938137 samples: 2.971429\n",
        "Estimated area with 40.370173 samples: 3.000000\n",
        "Estimated area with 45.348785 samples: 3.200000\n",
        "Estimated area with 50.941380 samples: 2.960000\n",
        "Estimated area with 57.223677 samples: 3.087719\n",
        "Estimated area with 64.280731 samples: 3.000000\n",
        "Estimated area with 72.208090 samples: 3.055556\n",
        "Estimated area with 81.113083 samples: 3.111111\n",
        "Estimated area with 91.116276 samples: 3.076923\n",
        "Estimated area with 102.353102 samples: 3.176471\n",
        "Estimated area with 114.975700 samples: 2.912281\n",
        "Estimated area with 129.154967 samples: 3.162791\n",
        "Estimated area with 145.082878 samples: 3.117241\n",
        "Estimated area with 162.975083 samples: 2.987654\n",
        "Estimated area with 183.073828 samples: 3.103825\n",
        "Estimated area with 205.651231 samples: 3.258537\n",
        "Estimated area with 231.012970 samples: 3.099567\n",
        "Estimated area with 259.502421 samples: 3.042471\n",
        "Estimated area with 291.505306 samples: 3.161512\n",
        "Estimated area with 327.454916 samples: 3.168196\n",
        "Estimated area with 367.837977 samples: 3.084469\n",
        "Estimated area with 413.201240 samples: 3.108959\n",
        "Estimated area with 464.158883 samples: 3.017241\n",
        "Estimated area with 521.400829 samples: 3.117083\n",
        "Estimated area with 585.702082 samples: 3.213675\n",
        "Estimated area with 657.933225 samples: 3.171994\n",
        "Estimated area with 739.072203 samples: 3.182679\n",
        "Estimated area with 830.217568 samples: 3.185542\n",
        "Estimated area with 932.603347 samples: 3.158798\n",
        "Estimated area with 1047.615753 samples: 3.117479\n",
        "Estimated area with 1176.811952 samples: 3.129252\n",
        "Estimated area with 1321.941148 samples: 3.149129\n",
        "Estimated area with 1484.968262 samples: 3.145553\n",
        "Estimated area with 1668.100537 samples: 3.103118\n",
        "Estimated area with 1873.817423 samples: 3.143620\n",
        "Estimated area with 2104.904145 samples: 3.125475\n",
        "Estimated area with 2364.489413 samples: 3.179357\n",
        "Estimated area with 2656.087783 samples: 3.161145\n",
        "Estimated area with 2983.647240 samples: 3.127053\n",
        "Estimated area with 3351.602651 samples: 3.160848\n",
        "Estimated area with 3764.935807 samples: 3.164718\n",
        "Estimated area with 4229.242874 samples: 3.158193\n",
        "Estimated area with 4750.810162 samples: 3.157895\n",
        "Estimated area with 5336.699231 samples: 3.122939\n",
        "Estimated area with 5994.842503 samples: 3.152486\n",
        "Estimated area with 6734.150658 samples: 3.164835\n",
        "Estimated area with 7564.633276 samples: 3.167636\n",
        "Estimated area with 8497.534359 samples: 3.150759\n",
        "Estimated area with 9545.484567 samples: 3.133368\n",
        "Estimated area with 10722.672220 samples: 3.177019\n",
        "Estimated area with 12045.035403 samples: 3.104027\n",
        "Estimated area with 13530.477746 samples: 3.128455\n",
        "Estimated area with 15199.110830 samples: 3.125995\n",
        "Estimated area with 17073.526475 samples: 3.137586\n",
        "Estimated area with 19179.102617 samples: 3.135304\n",
        "Estimated area with 21544.346900 samples: 3.151690\n",
        "Estimated area with 24201.282648 samples: 3.153589\n",
        "Estimated area with 27185.882427 samples: 3.148060\n",
        "Estimated area with 30538.555088 samples: 3.134717\n",
        "Estimated area with 34304.692863 samples: 3.138876\n",
        "Estimated area with 38535.285937 samples: 3.143117\n",
        "Estimated area with 43287.612811 samples: 3.136461\n",
        "Estimated area with 48626.015801 samples: 3.142845\n",
        "Estimated area with 54622.772177 samples: 3.142983\n",
        "Estimated area with 61359.072734 samples: 3.139034\n",
        "Estimated area with 68926.121043 samples: 3.155906\n",
        "Estimated area with 77426.368268 samples: 3.141219\n",
        "Estimated area with 86974.900262 samples: 3.144756\n",
        "Estimated area with 97700.995730 samples: 3.142845"
       ]
      },
      {
       "output_type": "stream",
       "stream": "stdout",
       "text": [
        "\n",
        "Estimated area with 109749.876549 samples: 3.152393\n",
        "Estimated area with 123284.673944 samples: 3.144415\n",
        "Estimated area with 138488.637139 samples: 3.140749\n",
        "Estimated area with 155567.614393 samples: 3.141386\n",
        "Estimated area with 174752.840001 samples: 3.149950\n",
        "Estimated area with 196304.065004 samples: 3.140048"
       ]
      },
      {
       "output_type": "stream",
       "stream": "stdout",
       "text": [
        "\n",
        "Estimated area with 220513.073990 samples: 3.141511\n",
        "Estimated area with 247707.635599 samples: 3.147525\n",
        "Estimated area with 278255.940221 samples: 3.140386"
       ]
      },
      {
       "output_type": "stream",
       "stream": "stdout",
       "text": [
        "\n",
        "Estimated area with 312571.584969 samples: 3.136196\n",
        "Estimated area with 351119.173422 samples: 3.141419\n",
        "Estimated area with 394420.605944 samples: 3.144891"
       ]
      },
      {
       "output_type": "stream",
       "stream": "stdout",
       "text": [
        "\n",
        "Estimated area with 443062.145758 samples: 3.142675\n",
        "Estimated area with 497702.356433 samples: 3.142161"
       ]
      },
      {
       "output_type": "stream",
       "stream": "stdout",
       "text": [
        "\n",
        "Estimated area with 559081.018251 samples: 3.137020\n",
        "Estimated area with 628029.144183 samples: 3.136288"
       ]
      },
      {
       "output_type": "stream",
       "stream": "stdout",
       "text": [
        "\n",
        "Estimated area with 705480.231072 samples: 3.144361\n",
        "Estimated area with 792482.898354 samples: 3.142845"
       ]
      },
      {
       "output_type": "stream",
       "stream": "stdout",
       "text": [
        "\n",
        "Estimated area with 890215.085445 samples: 3.143443"
       ]
      },
      {
       "output_type": "stream",
       "stream": "stdout",
       "text": [
        "\n",
        "Estimated area with 1000000.000000 samples: 3.142868"
       ]
      },
      {
       "output_type": "stream",
       "stream": "stdout",
       "text": [
        "\n"
       ]
      }
     ],
     "prompt_number": 7
    },
    {
     "cell_type": "markdown",
     "metadata": {},
     "source": [
      "(b) Calculate the percent error for the N values from part (a) using the exact result \u03c0. Make a log-log plot of the error as a function of N.  \n",
      "What is the approximate functional dependence of the error on N for large N, for example N\u2265104?"
     ]
    },
    {
     "cell_type": "code",
     "collapsed": false,
     "input": [
      "results = np.array(results)\n",
      "error = abs((pi - results)/pi * 100)\n",
      "\n",
      "plt.loglog(N, error)\n",
      "plt.show()\n",
      "\n",
      "print 'Approximately the functional dependence is linear when ignoring low outliers'"
     ],
     "language": "python",
     "metadata": {},
     "outputs": [
      {
       "metadata": {},
       "output_type": "display_data",
       "png": "[encoded data removed]",
       "text": [
        "<matplotlib.figure.Figure at 0x1064f8d90>"
       ]
      },
      {
       "output_type": "stream",
       "stream": "stdout",
       "text": [
        "Approximately the functional dependence is linear when ignoring low outliers\n"
       ]
      }
     ],
     "prompt_number": 29
    },
    {
     "cell_type": "markdown",
     "metadata": {},
     "source": [
      "(c) Estimate the same integral using the sample mean method and compute the statistical uncertainty and error as a function of the number of samples N for N\u2265104. Use at least 100 different values for N.\n",
      "\n",
      "Make a log-log plot of both the statistical uncertainty and the error as a function of N.\n",
      "\n",
      "How many samples are needed to determine the result to two decimal places? What is the approximate functional dependence of the error on N for large N?"
     ]
    },
    {
     "cell_type": "code",
     "collapsed": false,
     "input": [
      "f = lambda x: 4 * sqrt(1 - x **2)\n",
      "N = np.logspace(4, 6, 100)\n",
      "\n",
      "stat_uncertainties = []\n",
      "results = []\n",
      "for i in N:\n",
      "    samples_x = np.random.random_sample(i)\n",
      "    approx = f(samples_x)\n",
      "    results.append(approx.mean())\n",
      "    if i >= 10**4:\n",
      "        stat_uncertainties.append(sqrt(((f(samples_x)**2).mean() - (f(samples_x).mean())**2)/i))\n",
      "\n",
      "stat_uncertainties = np.array(stat_uncertainties)\n",
      "results = np.array(results)\n",
      "error = abs(pi - results)"
     ],
     "language": "python",
     "metadata": {},
     "outputs": [],
     "prompt_number": 26
    },
    {
     "cell_type": "code",
     "collapsed": false,
     "input": [
      "plt.loglog(N, error, label = 'Error')\n",
      "plt.loglog(N, stat_uncertainties, label = 'Statistical uncertainy')\n",
      "plt.legend()\n",
      "plt.show()"
     ],
     "language": "python",
     "metadata": {},
     "outputs": [
      {
       "metadata": {},
       "output_type": "display_data",
       "png": "[encoded data removed]",
       "text": [
        "<matplotlib.figure.Figure at 0x1064f9b10>"
       ]
      }
     ],
     "prompt_number": 27
    },
    {
     "cell_type": "code",
     "collapsed": false,
     "input": [
      "print 'Almost all samples with N >= 10**4 have errors smaller than 10**(-2) but realistically \\\n",
      "\\nN >= 10**5 would be a better N to use to be assured of error less than 10**(-2).'"
     ],
     "language": "python",
     "metadata": {},
     "outputs": [
      {
       "output_type": "stream",
       "stream": "stdout",
       "text": [
        "Almost all samples with N >= 10**4 have errors smaller than 10**(-2) but realistically \n",
        "N >= 10**5 would be a better N to use to be assured of error less than 10**(-2).\n"
       ]
      }
     ],
     "prompt_number": 11
    },
    {
     "cell_type": "code",
     "collapsed": false,
     "input": [
      "print 'The functional dependence is approximately linear for high N.'"
     ],
     "language": "python",
     "metadata": {},
     "outputs": [
      {
       "output_type": "stream",
       "stream": "stdout",
       "text": [
        "The functional dependence is approximately linear for high N.\n"
       ]
      }
     ],
     "prompt_number": 28
    },
    {
     "cell_type": "code",
     "collapsed": false,
     "input": [],
     "language": "python",
     "metadata": {},
     "outputs": []
    }
   ],
   "metadata": {}
  }
 ]
}