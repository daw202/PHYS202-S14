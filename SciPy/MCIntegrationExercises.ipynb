{
 "metadata": {
  "name": "",
  "signature": "sha256:2167447cc983fd26ee2c89eef1a07bdf3b64c32182ca8ff46064bb6aa5ea6c84"
 },
 "nbformat": 3,
 "nbformat_minor": 0,
 "worksheets": [
  {
   "cells": [
    {
     "cell_type": "heading",
     "level": 1,
     "metadata": {},
     "source": [
      "Monte Carlo Integration Exercises"
     ]
    },
    {
     "cell_type": "code",
     "collapsed": false,
     "input": [
      "%pylab inline"
     ],
     "language": "python",
     "metadata": {},
     "outputs": [
      {
       "output_type": "stream",
       "stream": "stdout",
       "text": [
        "Populating the interactive namespace from numpy and matplotlib\n"
       ]
      }
     ],
     "prompt_number": 1
    },
    {
     "cell_type": "heading",
     "level": 3,
     "metadata": {},
     "source": [
      "Question 1"
     ]
    },
    {
     "cell_type": "markdown",
     "metadata": {},
     "source": [
      "Let\u2019s compute the electric potential from a plane of charge as shown in the figure using Monte Carlo integration.\n",
      "\n",
      "The integral comes from summing all the potentials from the chunks of \u201cpoint\u201d charges. Just as we summed two charges for a dipole, now we\u2019ll sum many charges. The important part is to understand how dQ, modeled as a point charge, is related to \u03c3dA, where \u03c3 is the surface charge density = charge/area (\u03c3=Q/A ) Review your notes from PHYS 133 if you need a refresher.\n",
      "\n",
      "We want to use our previously defined pointPotential() function from Electrostatics.py, so we have to import it."
     ]
    },
    {
     "cell_type": "code",
     "collapsed": false,
     "input": [
      "#import our point potential function\n",
      "from Electrostatics import *"
     ],
     "language": "python",
     "metadata": {},
     "outputs": [],
     "prompt_number": 6
    },
    {
     "cell_type": "markdown",
     "metadata": {},
     "source": [
      "(a) Use the sample mean method to compute the potential at point P(2,3) due to the disk of charge for different numbers of samples N=(101,102,103,104,105,106). Report the value and its statistical uncertainty for each sample size. How does the result depend on N?"
     ]
    },
    {
     "cell_type": "code",
     "collapsed": false,
     "input": [
      "!cat Electrostatics.py"
     ],
     "language": "python",
     "metadata": {},
     "outputs": [
      {
       "output_type": "stream",
       "stream": "stdout",
       "text": [
        "\r\n",
        "import numpy as np\r\n",
        "\r\n",
        "def pointPotential(x, y, q, Xc, Yc):\r\n",
        "    '''\r\n",
        "    Return the electric potential for a point charge q at (Xc, Yc)\r\n",
        "    \r\n",
        "    Units returned are [Volts] if input units are [meters] and [Coulombs]\r\n",
        "    '''\r\n",
        "    k = 8.987551787997912e9 #units (Nm^2/C^2)\r\n",
        "    \r\n",
        "    Vxy = k*q/np.sqrt(((x - Xc)**2 + (y - Yc)**2))\r\n",
        "    return Vxy\r\n",
        "\r\n",
        "def dipolePotential(x, y, q, d):\r\n",
        "    '''\r\n",
        "    Return the electric potential for a pair of point charges +/- q\r\n",
        "    separated by distance d along the x - axis with their midpoint at (0,0).\r\n",
        "    \r\n",
        "    Units returned are [Volts] if input units are [meters] and [Coulombs]\r\n",
        "    '''\r\n",
        "    Vxy = pointPotential(x, y, q, -d/2., 0.) + pointPotential(x, y, -q, +d/2.,0.)\r\n",
        "    return Vxy"
       ]
      }
     ],
     "prompt_number": 9
    },
    {
     "cell_type": "code",
     "collapsed": false,
     "input": [
      "xmin = -1; xmax = 1\n",
      "ymin = 0; ymax = 2\n",
      "A = (ymax - ymin) * (ymax - ymin)\n",
      "scd = 1.*10**(-6) / A\n",
      "f = lambda x, y: pointPotential(2, 3, q, x, y)\n",
      "\n",
      "N = [10, 10**2, 10**3, 10**4, 10**5, 10**6]\n",
      "for i in N:\n",
      "    dQ = scd * A / N"
     ],
     "language": "python",
     "metadata": {},
     "outputs": [],
     "prompt_number": 10
    },
    {
     "cell_type": "code",
     "collapsed": false,
     "input": [],
     "language": "python",
     "metadata": {},
     "outputs": []
    }
   ],
   "metadata": {}
  }
 ]
}