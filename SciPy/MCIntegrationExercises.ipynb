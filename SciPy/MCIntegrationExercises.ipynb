{
 "metadata": {
  "name": "",
  "signature": "sha256:94b7d1ecd257d6c7862666c9f6f218e84048da2a893c444e358e3ba675ffddfa"
 },
 "nbformat": 3,
 "nbformat_minor": 0,
 "worksheets": [
  {
   "cells": [
    {
     "cell_type": "heading",
     "level": 1,
     "metadata": {},
     "source": [
      "Monte Carlo Integration Exercises"
     ]
    },
    {
     "cell_type": "code",
     "collapsed": false,
     "input": [
      "%pylab inline"
     ],
     "language": "python",
     "metadata": {},
     "outputs": [
      {
       "output_type": "stream",
       "stream": "stdout",
       "text": [
        "Populating the interactive namespace from numpy and matplotlib\n"
       ]
      }
     ],
     "prompt_number": 9
    },
    {
     "cell_type": "heading",
     "level": 3,
     "metadata": {},
     "source": [
      "Question 1"
     ]
    },
    {
     "cell_type": "markdown",
     "metadata": {},
     "source": [
      "Let\u2019s compute the electric potential from a plane of charge as shown in the figure using Monte Carlo integration.\n",
      "\n",
      "The integral comes from summing all the potentials from the chunks of \u201cpoint\u201d charges. Just as we summed two charges for a dipole, now we\u2019ll sum many charges. The important part is to understand how dQ, modeled as a point charge, is related to \u03c3dA, where \u03c3 is the surface charge density = charge/area (\u03c3=Q/A ) Review your notes from PHYS 133 if you need a refresher.\n",
      "\n",
      "We want to use our previously defined pointPotential() function from Electrostatics.py, so we have to import it."
     ]
    },
    {
     "cell_type": "code",
     "collapsed": false,
     "input": [
      "#import our point potential function\n",
      "from Electrostatics import *"
     ],
     "language": "python",
     "metadata": {},
     "outputs": [],
     "prompt_number": 10
    },
    {
     "cell_type": "markdown",
     "metadata": {},
     "source": [
      "(a) Use the sample mean method to compute the potential at point P(2,3) due to the disk of charge for different numbers of samples N=(101,102,103,104,105,106). Report the value and its statistical uncertainty for each sample size. How does the result depend on N?"
     ]
    },
    {
     "cell_type": "code",
     "collapsed": false,
     "input": [
      "!type Electrostatics.py"
     ],
     "language": "python",
     "metadata": {},
     "outputs": [
      {
       "output_type": "stream",
       "stream": "stdout",
       "text": [
        "\n",
        "import numpy as np\n",
        "\n",
        "def pointPotential(x, y, q, Xc, Yc):\n",
        "    '''\n",
        "    Return the electric potential for a point charge q at (Xc, Yc)\n",
        "    \n",
        "    Units returned are [Volts] if input units are [meters] and [Coulombs]\n",
        "    '''\n",
        "    k = 8.987551787997912e9 #units (Nm^2/C^2)\n",
        "    \n",
        "    Vxy = k*q/np.sqrt(((x - Xc)**2 + (y - Yc)**2))\n",
        "    return Vxy\n",
        "\n",
        "def dipolePotential(x, y, q, d):\n",
        "    '''\n",
        "    Return the electric potential for a pair of point charges +/- q\n",
        "    separated by distance d along the x - axis with their midpoint at (0,0).\n",
        "    \n",
        "    Units returned are [Volts] if input units are [meters] and [Coulombs]\n",
        "    '''\n",
        "    Vxy = pointPotential(x, y, q, -d/2., 0.) + pointPotential(x, y, -q, +d/2.,0.)\n",
        "    return Vxy\n"
       ]
      }
     ],
     "prompt_number": 16
    },
    {
     "cell_type": "code",
     "collapsed": false,
     "input": [
      "xmin = -1; xmax = 1\n",
      "ymin = 0; ymax = 2\n",
      "A = (ymax - ymin) * (ymax - ymin)\n",
      "scd = 1.*10**(-6) / A\n",
      "f = lambda q, x, y: pointPotential(2, 3, q, x, y)\n",
      "\n",
      "N = [10, 10**2, 10**3, 10**4, 10**5, 10**6]\n",
      "for i in N:\n",
      "    dQ = scd * A / i\n",
      "    samples_x = xmin + (xmax - xmin) * np.random.random_sample(i)\n",
      "    samples_y = ymin + (ymax - ymin) * np.random.random_sample(i)\n",
      "    approx = f(dQ, samples_x, samples_y)\n",
      "    I = approx.sum() * A\n",
      "    \n",
      "    Iunc = A * np.sqrt(((approx**2).mean() - (approx.mean()**2))/i)\n",
      "    \n",
      "    print 'Point potential: %f,\\tStatistical uncertainty: %f' % (I, Iunc)"
     ],
     "language": "python",
     "metadata": {},
     "outputs": [
      {
       "output_type": "stream",
       "stream": "stdout",
       "text": [
        "Point potential: 13743.195586,\tStatistical uncertainty: 99.953211\n",
        "Point potential: 13491.430127,\tStatistical uncertainty: 3.317334\n",
        "Point potential: 13031.528366,\tStatistical uncertainty: 0.093632\n",
        "Point potential: 13030.540769,\tStatistical uncertainty: 0.002977\n",
        "Point potential: 13006.445181,\tStatistical uncertainty: 0.000093\n",
        "Point potential: 13028.681597,\tStatistical uncertainty: 0.000003"
       ]
      },
      {
       "output_type": "stream",
       "stream": "stdout",
       "text": [
        "\n"
       ]
      }
     ],
     "prompt_number": 22
    },
    {
     "cell_type": "code",
     "collapsed": false,
     "input": [
      "#integration part:\n",
      "    samples_x = xmin + (xmax - xmin) * np.random.random_sample(N)\n",
      "    \n",
      "    approx = f(samples_x)\n",
      "    I = approx.mean() * (xmax - xmin)\n",
      "    \n",
      "    #Numerical uncertainty\n",
      "    Iunc = (xmax - xmin) * np.sqrt(((approx**2).mean() - (approx.mean())**2)/N)"
     ],
     "language": "python",
     "metadata": {},
     "outputs": []
    }
   ],
   "metadata": {}
  }
 ]
}