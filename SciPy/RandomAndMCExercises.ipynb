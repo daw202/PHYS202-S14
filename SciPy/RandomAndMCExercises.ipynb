{
 "metadata": {
  "name": "",
  "signature": "sha256:d3b9fa63195e19b9456075e4a7ca4c441d3d3f5fca2a4e28647590cc6786d66e"
 },
 "nbformat": 3,
 "nbformat_minor": 0,
 "worksheets": [
  {
   "cells": [
    {
     "cell_type": "heading",
     "level": 1,
     "metadata": {},
     "source": [
      "Random Numbers and MC Sampling Exercises"
     ]
    },
    {
     "cell_type": "code",
     "collapsed": false,
     "input": [
      "%pylab inline"
     ],
     "language": "python",
     "metadata": {},
     "outputs": [
      {
       "output_type": "stream",
       "stream": "stdout",
       "text": [
        "Populating the interactive namespace from numpy and matplotlib\n",
        "\n"
       ]
      }
     ],
     "prompt_number": 2
    },
    {
     "cell_type": "heading",
     "level": 3,
     "metadata": {},
     "source": [
      "Question 1"
     ]
    },
    {
     "cell_type": "markdown",
     "metadata": {},
     "source": [
      "The Weibull distribution, with parameters \u03b1>0 and \u03b2>0 is described by the density function\n",
      "\n",
      "f(x)={\u03b1\u03b2^(\u2212\u03b1)x^(\u03b1\u22121)e^(\u2212(x/\u03b2)^\u03b1) x>0; 0 otherwise}"
     ]
    },
    {
     "cell_type": "markdown",
     "metadata": {},
     "source": [
      "**(a)** Solve for the CDF of the Weibull distribution analytically, using\n",
      "F(x)=\u222bx\u2212\u221ef(t)dt"
     ]
    },
    {
     "cell_type": "markdown",
     "metadata": {},
     "source": [
      "The CDF for the Wibull distribution is:\n",
      "\n",
      "\\begin{equation}\n",
      "f\\left(x\\right) = 1 - e^{-(\\frac{x}{\\beta})^\\alpha}\n",
      "\\end{equation}\n",
      "\n",
      "Source: http://www.itl.nist.gov/div898/handbook/apr/section1/apr162.htm"
     ]
    },
    {
     "cell_type": "markdown",
     "metadata": {},
     "source": [
      "(b) Find the inverse of the CDF F\u22121(x) analytically."
     ]
    },
    {
     "cell_type": "markdown",
     "metadata": {},
     "source": [
      "\\begin{equation}\n",
      "f^{-1}\\left(x\\right) = \\beta\\left(-ln\\left(1-x\\right)\\right)^\\frac{1}{a}\n",
      "\\end{equation}\n",
      "\n",
      "(Completed by hand)"
     ]
    },
    {
     "cell_type": "markdown",
     "metadata": {},
     "source": [
      "(c) Write a program to generate 10,000 samples from the Weibull distribution and plot the true distribution, the CDF and the sampled distribution as a histogram, all on the same graph. Let \u03b1 = 1.5, \u03b2 = 6.  \n",
      "Note: Do not use the built-in Weibull function from numpy.random."
     ]
    },
    {
     "cell_type": "code",
     "collapsed": false,
     "input": [
      "x = np.arange(0., 15. + .01, .01)\n",
      "a = 1.5\n",
      "b = 6.\n",
      "f = lambda x: a * b**(-a) * x**(a - 1) * np.exp(-(x / b)**a)\n",
      "cdf = lambda x: 1 - exp(-(x/b)**a)\n",
      "\n",
      "N = 10000\n",
      "z = np.random.random_sample(N)\n",
      "cdfinv = lambda z: b * (-np.log(1-z))**(1/a)\n",
      "xsamples = cdfinv(z)\n",
      "\n",
      "plt.hist(xsamples, 50, normed = True, label = 'Sampled distribution')\n",
      "\n",
      "plt.plot(x, f(x), label = 'True distribution', linewidth = 2)\n",
      "plt.plot(x, cdf(x), label = 'Cumulative function', linewidth = 2)\n",
      "\n",
      "plt.xlim(0, 15)\n",
      "\n",
      "plt.legend(loc = 0)\n",
      "plt.show()"
     ],
     "language": "python",
     "metadata": {},
     "outputs": [
      {
       "metadata": {},
       "output_type": "display_data",
       "png": "[encoded data removed]",
       "text": [
        "<matplotlib.figure.Figure at 0x10630b350>"
       ]
      }
     ],
     "prompt_number": 3
    },
    {
     "cell_type": "markdown",
     "metadata": {},
     "source": [
      "(d) Run the four statistical tests of randomness (mean, variance, chi-square, K-S) on your results from question 1(c). Does it pass all of them?"
     ]
    },
    {
     "cell_type": "code",
     "collapsed": false,
     "input": [
      "#Mean test\n",
      "print 'Mean =', xsamples.mean()\n",
      "\n",
      "#Variance test\n",
      "z = (xsamples - xsamples.mean())**2\n",
      "z = z.sum()\n",
      "z = z/(len(xsamples) - 1)\n",
      "print 'Sigma =', sqrt(z)"
     ],
     "language": "python",
     "metadata": {},
     "outputs": [
      {
       "output_type": "stream",
       "stream": "stdout",
       "text": [
        "Mean = 5.47518474666\n",
        "Sigma = 3.73375228932\n"
       ]
      }
     ],
     "prompt_number": 7
    },
    {
     "cell_type": "code",
     "collapsed": false,
     "input": [
      "#Chi-square test\n"
     ],
     "language": "python",
     "metadata": {},
     "outputs": [],
     "prompt_number": 9
    },
    {
     "cell_type": "code",
     "collapsed": false,
     "input": [
      "#Kolmogorov-Smirnov test\n"
     ],
     "language": "python",
     "metadata": {},
     "outputs": [],
     "prompt_number": 6
    },
    {
     "cell_type": "heading",
     "level": 3,
     "metadata": {},
     "source": [
      "Question 2"
     ]
    },
    {
     "cell_type": "markdown",
     "metadata": {},
     "source": [
      "The Beta(4,3) distribution has density\n",
      "\n",
      "f(x)={60x3(1\u2212x)200\u2264x\u22641otherwise\n",
      "\n",
      "The maximum of this distribution is f(0.6)=2.0736 (exactly).\n",
      "\n",
      "(a) Write a program that uses the Rejection Sampling Method to generate a set of 10,000 samples from this distribution and plot the density distribution, the CDF, and a histogram of the sampled distribution on the same graph.\n",
      "\n",
      "Note: Do not use the built-in Beta function from numpy.random."
     ]
    },
    {
     "cell_type": "code",
     "collapsed": false,
     "input": [],
     "language": "python",
     "metadata": {},
     "outputs": [],
     "prompt_number": 6
    }
   ],
   "metadata": {}
  }
 ]
}