{
 "metadata": {
  "name": "",
  "signature": "sha256:f6a38394f523be6843630b6f31e323c0d41b3be32b14447527b4b17780742d5a"
 },
 "nbformat": 3,
 "nbformat_minor": 0,
 "worksheets": [
  {
   "cells": [
    {
     "cell_type": "heading",
     "level": 1,
     "metadata": {},
     "source": [
      "Random Numbers and MC Sampling Exercises"
     ]
    },
    {
     "cell_type": "code",
     "collapsed": false,
     "input": [
      "%pylab inline"
     ],
     "language": "python",
     "metadata": {},
     "outputs": [
      {
       "output_type": "stream",
       "stream": "stdout",
       "text": [
        "Populating the interactive namespace from numpy and matplotlib\n"
       ]
      },
      {
       "output_type": "stream",
       "stream": "stderr",
       "text": [
        "WARNING: pylab import has clobbered these variables: ['f', 'chisquare']\n",
        "`%matplotlib` prevents importing * from pylab and numpy\n"
       ]
      }
     ],
     "prompt_number": 25
    },
    {
     "cell_type": "heading",
     "level": 3,
     "metadata": {},
     "source": [
      "Question 1"
     ]
    },
    {
     "cell_type": "markdown",
     "metadata": {},
     "source": [
      "The Weibull distribution, with parameters \u03b1>0 and \u03b2>0 is described by the density function\n",
      "\n",
      "f(x)={\u03b1\u03b2^(\u2212\u03b1)x^(\u03b1\u22121)e^(\u2212(x/\u03b2)^\u03b1) x>0; 0 otherwise}"
     ]
    },
    {
     "cell_type": "markdown",
     "metadata": {},
     "source": [
      "**(a)** Solve for the CDF of the Weibull distribution analytically, using\n",
      "F(x)=\u222bx\u2212\u221ef(t)dt"
     ]
    },
    {
     "cell_type": "markdown",
     "metadata": {},
     "source": [
      "The CDF for the Wibull distribution is:\n",
      "\n",
      "\\begin{equation}\n",
      "f\\left(x\\right) = 1 - e^{-(\\frac{x}{\\beta})^\\alpha}\n",
      "\\end{equation}\n",
      "\n",
      "Source: http://www.itl.nist.gov/div898/handbook/apr/section1/apr162.htm"
     ]
    },
    {
     "cell_type": "markdown",
     "metadata": {},
     "source": [
      "(b) Find the inverse of the CDF F\u22121(x) analytically."
     ]
    },
    {
     "cell_type": "markdown",
     "metadata": {},
     "source": [
      "\\begin{equation}\n",
      "f^{-1}\\left(x\\right) = \\beta\\left(-ln\\left(1-x\\right)\\right)^\\frac{1}{a}\n",
      "\\end{equation}\n",
      "\n",
      "(Completed by hand)"
     ]
    },
    {
     "cell_type": "markdown",
     "metadata": {},
     "source": [
      "(c) Write a program to generate 10,000 samples from the Weibull distribution and plot the true distribution, the CDF and the sampled distribution as a histogram, all on the same graph. Let \u03b1 = 1.5, \u03b2 = 6.  \n",
      "Note: Do not use the built-in Weibull function from numpy.random."
     ]
    },
    {
     "cell_type": "code",
     "collapsed": false,
     "input": [
      "x = np.arange(0., 15. + .01, .01)\n",
      "a = 1.5\n",
      "b = 6.\n",
      "f = lambda x: a * b**(-a) * x**(a - 1) * np.exp(-(x / b)**a)\n",
      "cdf = lambda x: 1 - exp(-(x/b)**a)\n",
      "\n",
      "N = 10000.\n",
      "z = np.random.random_sample(N)\n",
      "cdfinv = lambda z: b * (-np.log(1-z))**(1/a)\n",
      "xsamples = cdfinv(z)\n",
      "\n",
      "plt.hist(xsamples, 50, normed = True, label = 'Sampled distribution')\n",
      "\n",
      "plt.plot(x, f(x), label = 'True distribution', linewidth = 2)\n",
      "plt.plot(x, cdf(x), label = 'Cumulative function', linewidth = 2)\n",
      "\n",
      "plt.xlim(0, 15)\n",
      "\n",
      "plt.legend(loc = 0)\n",
      "plt.show()"
     ],
     "language": "python",
     "metadata": {},
     "outputs": [
      {
       "metadata": {},
       "output_type": "display_data",
       "png": "[encoded data removed]",
       "text": [
        "<matplotlib.figure.Figure at 0x3750c88>"
       ]
      }
     ],
     "prompt_number": 26
    },
    {
     "cell_type": "markdown",
     "metadata": {},
     "source": [
      "(d) Run the four statistical tests of randomness (mean, variance, chi-square, K-S) on your results from question 1(c). Does it pass all of them?"
     ]
    },
    {
     "cell_type": "code",
     "collapsed": false,
     "input": [
      "#Mean test\n",
      "print 'Mean =', xsamples.mean()\n",
      "\n",
      "#Variance test\n",
      "def variancetest(xsamples):\n",
      "    z = (xsamples - xsamples.mean())**2\n",
      "    z = z.sum()\n",
      "    z = z/(len(xsamples) - 1)\n",
      "    return z\n",
      "\n",
      "print 'Sigma squared=', variancetest(xsamples)"
     ],
     "language": "python",
     "metadata": {},
     "outputs": [
      {
       "output_type": "stream",
       "stream": "stdout",
       "text": [
        "Mean = 5.3845675939\n",
        "Sigma squared= 13.5402787088\n"
       ]
      }
     ],
     "prompt_number": 27
    },
    {
     "cell_type": "code",
     "collapsed": false,
     "input": [
      "#Chi-square test\n",
      "k = 90\n",
      "\n",
      "def chisquare(o, e):\n",
      "    return (((o-e)**2) / e).sum()\n",
      "\n",
      "chi_squares = []\n",
      "for i in range(1000):\n",
      "    z = np.random.random_sample(N)\n",
      "    xsamples = cdfinv(z)\n",
      "    n,d = np.histogram(xsamples,bins=k,range=(1.,10.))\n",
      "    x1 = d + .05\n",
      "    trueDist = f(x1)\n",
      "    chi_squares.append(chisquare(n, trueDist[:-1] * N * .1))\n",
      "\n",
      "chi_squares = np.array(chi_squares)\n",
      "print 'Chi-square mean:', chi_squares.mean()\n",
      "print 'Chi-square variance:', variancetest(chi_squares)"
     ],
     "language": "python",
     "metadata": {},
     "outputs": [
      {
       "output_type": "stream",
       "stream": "stdout",
       "text": [
        "Chi-square mean: 88.8064179229\n",
        "Chi-square variance: 174.687535006\n"
       ]
      }
     ],
     "prompt_number": 28
    },
    {
     "cell_type": "code",
     "collapsed": false,
     "input": [
      "#Kolmogorov-Smirnov test\n",
      "#I believe I'm misunderstanding how this test is supposed to be done - because of that I'm getting very 'off' values from what\n",
      "#is expected, and I can't figure it out as of right now\n",
      "\n",
      "xmin = 0.; xmax = 10.\n",
      "ymin = 0.; ymax = f(x).max()\n",
      "\n",
      "xsamp = xmax * np.random.random_sample(N)\n",
      "ysamp = ymax * np.random.random_sample(N)\n",
      "\n",
      "mask = ysamp < f(xsamp)\n",
      "proportion = mask.sum() / N\n",
      "\n",
      "Kplus = np.sqrt(N) * (proportion - cdf(10.))\n",
      "Kminus = np.sqrt(N) * (cdf(10.) - proportion)\n",
      "\n",
      "print Kplus\n",
      "print Kminus"
     ],
     "language": "python",
     "metadata": {},
     "outputs": [
      {
       "output_type": "stream",
       "stream": "stdout",
       "text": [
        "-18.0908744862\n",
        "18.0908744862\n"
       ]
      }
     ],
     "prompt_number": 29
    },
    {
     "cell_type": "heading",
     "level": 3,
     "metadata": {},
     "source": [
      "Question 2"
     ]
    },
    {
     "cell_type": "markdown",
     "metadata": {},
     "source": [
      "The Beta(4,3) distribution has density\n",
      "\n",
      "f(x)={60x3(1\u2212x)200\u2264x\u22641otherwise\n",
      "\n",
      "The maximum of this distribution is f(0.6)=2.0736 (exactly).\n",
      "\n",
      "(a) Write a program that uses the Rejection Sampling Method to generate a set of 10,000 samples from this distribution and plot the density distribution, the CDF, and a histogram of the sampled distribution on the same graph.\n",
      "\n",
      "Note: Do not use the built-in Beta function from numpy.random."
     ]
    },
    {
     "cell_type": "code",
     "collapsed": false,
     "input": [
      "g = lambda x: 60 * x**3 * (1 - x)**2\n",
      "gcdf = lambda x: x**4 * (15 - 24 * x + 10 * x**2)\n",
      "\n",
      "x2 = np.arange(0., 1. + .01, .01)\n",
      "\n",
      "xmin = 0.; xmax = 1.\n",
      "ymin = 0.; ymax = g(x2).max()\n",
      "\n",
      "\n",
      "sampx = np.random.random_sample(N)\n",
      "sampy = ymax * np.random.random_sample(N)\n",
      "    \n",
      "mask1 = sampy < g(sampx)\n",
      "\n",
      "mask_xvals = []\n",
      "for i in range(sampx.size):\n",
      "    if mask1[i] == 1:\n",
      "        mask_xvals.append(sampx[i])\n",
      "\n",
      "plt.hist(mask_xvals, 100, normed = True)\n",
      "plt.plot(x2, g(x2))\n",
      "plt.plot(x2, gcdf(x2))\n",
      "plt.xlim(0.01, 1)\n",
      "plt.ylim(0, 2.5)\n",
      "plt.show()"
     ],
     "language": "python",
     "metadata": {},
     "outputs": [
      {
       "metadata": {},
       "output_type": "display_data",
       "png": "[encoded data removed]",
       "text": [
        "<matplotlib.figure.Figure at 0x36f6cc0>"
       ]
      }
     ],
     "prompt_number": 30
    },
    {
     "cell_type": "markdown",
     "metadata": {},
     "source": [
      "(b) Run the four statistical tests of randomness (mean, variance, chi-square, K-S) on your results from question 2(a). Does it pass all of them?"
     ]
    },
    {
     "cell_type": "code",
     "collapsed": false,
     "input": [
      "#Mean test\n",
      "print 'Mean =', np.array(mask_xvals).mean()\n",
      "\n",
      "#Variance test\n",
      "print 'Sigma squared=', variancetest(np.array(mask_xvals))\n",
      "\n",
      "#Chi-square test\n",
      "k = 100\n",
      "\n",
      "chi_squares = []\n",
      "for i in range(100):\n",
      "    sampx = np.random.random_sample(1000)\n",
      "    sampy = ymax * np.random.random_sample(1000)\n",
      "    \n",
      "    mask1 = sampy < g(sampx)\n",
      "\n",
      "    mask_xvals = []\n",
      "    for i in range(sampx.size):\n",
      "        if mask1[i] == 1:\n",
      "            mask_xvals.append(sampx[i])\n",
      "    \n",
      "    n,d = np.histogram(mask_xvals,bins=k,range=(0.,1.))\n",
      "    x1 = d + .005\n",
      "    trueDist = g(x1)\n",
      "    chi_squares.append(chisquare(n, trueDist[:-1] * 1000 * .01))\n",
      "\n",
      "chi_squares = np.array(chi_squares)\n",
      "print 'Chi-square mean:', chi_squares.mean()\n",
      "print 'Chi-square variance:', variancetest(chi_squares)\n",
      "\n",
      "#Since I couldn't figure out the K-S test earlier, I'm leaving it out here also"
     ],
     "language": "python",
     "metadata": {},
     "outputs": [
      {
       "output_type": "stream",
       "stream": "stdout",
       "text": [
        "Mean = 0.575760097414\n",
        "Sigma squared= 0.0302222815794\n",
        "Chi-square mean:"
       ]
      },
      {
       "output_type": "stream",
       "stream": "stdout",
       "text": [
        " 311.806865742\n",
        "Chi-square variance: 301.408971904\n"
       ]
      }
     ],
     "prompt_number": 31
    },
    {
     "cell_type": "heading",
     "level": 3,
     "metadata": {},
     "source": [
      "Question 3"
     ]
    },
    {
     "cell_type": "markdown",
     "metadata": {},
     "source": [
      "(a) Plot the Woods-Saxon distribution \u03c1(r) and r2\u03c1(r) for gold from r = 0 fm to r = 18 fm."
     ]
    },
    {
     "cell_type": "code",
     "collapsed": false,
     "input": [
      "#note: assuming p0 = 1\n",
      "p = lambda r, R, w, a: (1 + w * r**2 / R**2) / (1 + np.exp((r - R) / a))\n",
      "r2p = lambda r, R, w, a: r**2 * (1 + w * r**2 / R**2) / (1 + np.exp((r - R) / a))\n",
      "\n",
      "#for Au (gold)\n",
      "\n",
      "A = 197\n",
      "R = 6.38\n",
      "a = 0.535\n",
      "w = 0\n",
      "r = np.arange(0., 18. + .01, .01)\n",
      "\n",
      "plt.subplot(211)\n",
      "plt.plot(r, p(r, R, w, a))\n",
      "plt.subplot(212)\n",
      "plt.plot(r, r2p(r, R, w, a))\n",
      "plt.show()"
     ],
     "language": "python",
     "metadata": {},
     "outputs": [
      {
       "metadata": {},
       "output_type": "display_data",
       "png": "[encoded data removed]",
       "text": [
        "<matplotlib.figure.Figure at 0x9e706d8>"
       ]
      }
     ],
     "prompt_number": 32
    },
    {
     "cell_type": "markdown",
     "metadata": {},
     "source": [
      "(b) Let\u2019s create a realistic distribution for two gold ions, A, and B.\n",
      "\n",
      "First, distribute 197 nucleons for each nucleus using the Woods-Saxon distribution multiplied by the spherical coordinate weighting factor, r2. Use the distribute1d function from the tour to sample r values numerically.  \n",
      "Then, use uniform sampling of a number u from [0,1) scaled by 2\u03c0 to obtain the azimuthal angle \u03d5 = 2\u03c0u  \n",
      "Followed by uniform sampling of another number v = [0,1), transformed to \u03b8=cos\u22121(2v\u22121) to obtain the polar angle \u03b8."
     ]
    },
    {
     "cell_type": "code",
     "collapsed": false,
     "input": [
      "from scipy.integrate import trapz, cumtrapz\n",
      "def distribute1D(x, prob, N):\n",
      "    '''takes any distribution which is directly proportional \n",
      "    to the number of particles, and returns data that is \n",
      "    statistically the same as the input data.'''\n",
      "    CDF = cumtrapz(prob) / np.sum(prob)\n",
      "    xsamples = np.zeros(N, float)\n",
      "    for i in range(0, N):\n",
      "        r = np.random.ranf()\n",
      "        xsamples[i] = x[CDF.searchsorted(r)]\n",
      "    return xsamples\n",
      "\n",
      "Ar = distribute1D(r, r2p(r, R, w, a), 197)\n",
      "Aphi = 2 * np.pi * np.arange(0., 1., 1./197.)\n",
      "Atheta = np.arccos(2 * np.arange(0., 1., 1./197.) - 1)\n",
      "\n",
      "Br = distribute1D(r, r2p(r, R, w, a), 197)\n",
      "Bphi = 2 * np.pi * np.arange(0., 1., 1./197.)\n",
      "Btheta = np.arccos(2 * np.arange(0., 1., 1./197.) - 1)"
     ],
     "language": "python",
     "metadata": {},
     "outputs": [],
     "prompt_number": 38
    },
    {
     "cell_type": "markdown",
     "metadata": {},
     "source": [
      "(c) Once you have the spherical coordinates for each of the nucleons in each nucleus, convert to cartesian coordinates. In nuclear collisions, the beam axis along which the particles travel/collide is the z axis. The polar angle \u03b8 is measured up from the positive-z axis and the azimuthal angle \u03d5 is measured up from the positive x-axis.\n",
      "\n",
      "Plot the nuclei in 2d for two different planar projections: the the beam's eye view (x-y) and the side view (x-z) side-by-side.\n",
      "Let the nucleons have radius of 1 fm, make the nucleons from each nucleus a different color, and displace them by a randomly chosen impact parameter b between 0 and 18 fm. For example, shift ion A by b/2 to the left along the x-axis and B by b/2 to the right along the x-axis."
     ]
    },
    {
     "cell_type": "code",
     "collapsed": false,
     "input": [],
     "language": "python",
     "metadata": {},
     "outputs": []
    }
   ],
   "metadata": {}
  }
 ]
}