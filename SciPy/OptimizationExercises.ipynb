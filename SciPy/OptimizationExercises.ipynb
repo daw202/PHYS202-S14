{
 "metadata": {
  "name": "",
  "signature": "sha256:a07880cc0e9c73a22c6a634a99bd9bd3dc75a55c8432dc640a917cf78b6dab7c"
 },
 "nbformat": 3,
 "nbformat_minor": 0,
 "worksheets": [
  {
   "cells": [
    {
     "cell_type": "heading",
     "level": 1,
     "metadata": {},
     "source": [
      "Linear Regression, Optimization, and Curve Fitting Exercises"
     ]
    },
    {
     "cell_type": "code",
     "collapsed": false,
     "input": [
      "%pylab inline"
     ],
     "language": "python",
     "metadata": {},
     "outputs": [
      {
       "output_type": "stream",
       "stream": "stdout",
       "text": [
        "Populating the interactive namespace from numpy and matplotlib\n"
       ]
      }
     ],
     "prompt_number": 1
    },
    {
     "cell_type": "heading",
     "level": 3,
     "metadata": {},
     "source": [
      "Question 1"
     ]
    },
    {
     "cell_type": "markdown",
     "metadata": {},
     "source": [
      "(a) Write a function that can compute the weighted linear least squares (WLSQ) best fit line to a set of data. Here is the function template to use:\n",
      "def WeightedLLSqFit(x,y,w):  \n",
      "    \n",
      "    \"\"\"Take in arrays representing (x,y) values for a set of linearly varying data and an array of weights w.\n",
      "    Perform a weighted linear least squares regression.  Return the resulting slope and intercept\n",
      "    parameters of the best fit line with their uncertainties.\n",
      "\n",
      "    If the weights are all equal to one, the uncertainties on the parameters are calculated using the \n",
      "    non-weighted least squares equations.\"\"\"\n",
      "\n",
      "    #your code goes here...\n",
      "\n",
      "    return slope,slerr,intercept,interr\n",
      "Your function should test whether there are unequal weights on the data points and return the correctly calculated uncertainties for whichever case is requested.\n",
      "Use the features of numpy arrays rather than loops to take advantage of their superior computational speed."
     ]
    },
    {
     "cell_type": "code",
     "collapsed": false,
     "input": [],
     "language": "python",
     "metadata": {},
     "outputs": []
    }
   ],
   "metadata": {}
  }
 ]
}